{
 "cells": [
  {
   "cell_type": "code",
   "execution_count": 1,
   "metadata": {},
   "outputs": [],
   "source": [
    "#Bring in the Health Care Facilities with JSON\n",
    "\n",
    "import pandas as pd\n",
    "\n",
    "import json      # library for working with JSON-formatted text strings\n",
    "import requests  # library for accessing content from web URLs\n",
    "\n",
    "import pprint    # library for cleanly printing Python data structures\n",
    "pp = pprint.PrettyPrinter()\n"
   ]
  },
  {
   "cell_type": "markdown",
   "metadata": {},
   "source": [
    "## Start off by mapping and reading data from geojson URLs"
   ]
  },
  {
   "cell_type": "code",
   "execution_count": 113,
   "metadata": {},
   "outputs": [],
   "source": [
    "# download data on facilities\n",
    "\n",
    "facilities_url = \"https://data.sfgov.org/resource/jhsu-2pka.geojson\"\n",
    "facilities_response = requests.get(facilities_url)\n",
    "facilities_results = facilities_response.text"
   ]
  },
  {
   "cell_type": "code",
   "execution_count": 114,
   "metadata": {},
   "outputs": [
    {
     "data": {
      "text/plain": [
       "str"
      ]
     },
     "execution_count": 114,
     "metadata": {},
     "output_type": "execute_result"
    }
   ],
   "source": [
    "# what's the data type of the results?\n",
    "\n",
    "type(facilities_results)"
   ]
  },
  {
   "cell_type": "code",
   "execution_count": 115,
   "metadata": {
    "scrolled": true
   },
   "outputs": [
    {
     "name": "stdout",
     "output_type": "stream",
     "text": [
      "{ \"type\": \"FeatureCollection\", \"features\": [{\"type\":\"Feature\",\"geometry\":{\"type\":\"Point\",\"coordinates\":[-122.4358177,37.76905419]},\"properties\":{\"facility_type\":\"General Acute Care Hospital\",\"services\":\"Hospital\",\"oshpd_id\":\"106380933\",\"uid\":\"2\",\"facility_name\":\"California Pacific Med Ctr-davies Campus\"}},{\"type\":\"Feature\",\"geometry\":{\"type\":\"Point\",\"coordinates\":[-122.43329371,37.72674014]},\"properties\":{\"facility_type\":\"Community Clinic\",\"services\":\"Senior Health\",\"oshpd_id\":\"306384163\",\"uid\":\n"
     ]
    }
   ],
   "source": [
    "# print the first 500 characters to see a sample of the data\n",
    "\n",
    "print(facilities_results[:500])"
   ]
  },
  {
   "cell_type": "code",
   "execution_count": 116,
   "metadata": {},
   "outputs": [
    {
     "data": {
      "text/plain": [
       "dict"
      ]
     },
     "execution_count": 116,
     "metadata": {},
     "output_type": "execute_result"
    }
   ],
   "source": [
    "# it looks like the results are a string with JSON-formatted data inside\n",
    "\n",
    "# parse the string into a Python dictionary\n",
    "facilities_data = json.loads(facilities_results)  # loads = \"load string\"\n",
    "\n",
    "type(facilities_data)"
   ]
  },
  {
   "cell_type": "code",
   "execution_count": 117,
   "metadata": {},
   "outputs": [
    {
     "name": "stdout",
     "output_type": "stream",
     "text": [
      "{'crs': {'properties': {'name': 'urn:ogc:def:crs:OGC:1.3:CRS84'},\n",
      "         'type': 'name'},\n",
      " 'features': [{'geometry': {'coordinates': [-122.4358177, 37.76905419],\n",
      "                            'type': 'Point'},\n",
      "               'properties': {'facility_name': 'California Pacific Med '\n",
      "                                               'Ctr-davies Campus',\n",
      "                              'facility_type': 'General Acute Care Hospital',\n",
      "                              'oshpd_id': '106380933',\n",
      "                              'services': 'Hospital',\n",
      "                              'uid': '2'},\n",
      "               'type': 'Feature'},\n",
      "              {'geometry': {'coordinates': [-122.43329371, 37.72674014],\n",
      "                            'type': 'Point'},\n",
      "               'properties': {'facility_name': 'On Lok Senior Health '\n",
      "                                               'Services-mission Center',\n",
      "                              'facility_type': 'Community Clinic',\n",
      "                              'oshpd_id': '306384163',\n",
      "                              'services': 'Senior Health',\n",
      "                              'uid': '42'},\n",
      "               'type': 'Feature'},\n",
      "              {'geometry': {'coordinates': [-122.44870302, 37.77029461],\n",
      "                            'type': 'Point'},\n",
      "               'properties': {'facility_name': 'Drug Detoxification, Rehab And '\n",
      "                                               'After Care Svs. Prog.',\n",
      "                              'facility_type': 'Free Clinic',\n",
      "                              'oshpd_id': '306381276',\n",
      "                              'services': 'Drug Treatment',\n",
      "                              'uid': '20'},\n",
      "               'type': 'Feature'},\n",
      "              {'geometry': {'coordinates': [-122.41317234, 37.78197735],\n",
      "                            'type': 'Point'},\n",
      "               'properties': {'facility_name': 'St. Anthony Medical Clinic',\n",
      "                              'facility_type': 'Free Clinic',\n",
      "                              'oshpd_id': '306384201',\n",
      "                              'services': 'Free General Health',\n",
      "                              'uid': '48'},\n",
      "               'type': 'Feature'},\n",
      "              {'geometry': {'coordinates': [-122.45226708, 37.74571703],\n",
      "                            'type': 'Point'},\n",
      "               'properties': {'facility_name': 'Special Programs For Youth',\n",
      "                              'facility_type': 'Community Health Network',\n",
      "                              'oshpd_id': '0',\n",
      "                              'services': ' ',\n",
      "                              'uid': '75'},\n",
      "               'type': 'Feature'},\n",
      "              {'geometry': {'coordinates': [-122.43337675, 37.72668158],\n",
      "                            'type': 'Point'},\n",
      "               'properties': {'facility_name': 'Mission Neighborhood Health '\n",
      "                                               'Ctr.-excelsior Clinic',\n",
      "                              'facility_type': 'Community Clinic',\n",
      "                              'oshpd_id': '306384045',\n",
      "                              'services': 'Cultural General Health',\n",
      "                              'uid': '32'},\n",
      "               'type': 'Feature'},\n",
      "              {'geometry': {'coordinates': [-122.45591166, 37.78614406],\n",
      "                            'type': 'Point'},\n",
      "               'properties': {'facility_name': 'California Pacific Med '\n",
      "                                               'Ctr-california West',\n",
      "                              'facility_type': 'General Acute Care Hospital',\n",
      "                              'oshpd_id': '106380777',\n",
      "                              'services': 'Hospital',\n",
      "                              'uid': '1'},\n",
      "               'type': 'Feature'},\n",
      "              {'geometry': {'coordinates': [-122.45871779, 37.74762573],\n",
      "                            'type': 'Point'},\n",
      "               'properties': {'facility_name': 'Laguna Honda Hospital And '\n",
      "                                               'Rehabilitation Center',\n",
      "                              'facility_type': 'General Acute Care Hospital',\n",
      "                              'oshpd_id': '106380865',\n",
      "                              'services': 'Hospital',\n",
      "                              'uid': '7'},\n",
      "               'type': 'Feature'},\n",
      "              {'geometry': {'coordinates': [-122.41557678, 37.77561778],\n",
      "                            'type': 'Point'},\n",
      "               'properties': {'facility_name': 'St. James Infirmary',\n",
      "                              'facility_type': 'Community Clinic',\n",
      "                              'oshpd_id': '306384174',\n",
      "                              'services': 'Sexual Health Clinic',\n",
      "                              'uid': '49'},\n",
      "               'type': 'Feature'},\n",
      "              {'geometry': {'coordinates': [-122.41634657, 37.78246323],\n",
      "                            'type': 'Point'},\n",
      "               'properties': {'facility_name': 'Baart Turk Street Clinic',\n",
      "                              'facility_type': 'Community Clinic',\n",
      "                              'oshpd_id': '306384192',\n",
      "                              'services': 'Drug Treatment',\n",
      "                              'uid': '16'},\n",
      "               'type': 'Feature'},\n",
      "              {'geometry': {'coordinates': [-122.41853943, 37.77797841],\n",
      "                            'type': 'Point'},\n",
      "               'properties': {'facility_name': 'Tom Waddell Health Center',\n",
      "                              'facility_type': 'Community Health Network',\n",
      "                              'oshpd_id': '0',\n",
      "                              'services': ' ',\n",
      "                              'uid': '70'},\n",
      "               'type': 'Feature'},\n",
      "              {'geometry': {'coordinates': [-122.49104051, 37.74240843],\n",
      "                            'type': 'Point'},\n",
      "               'properties': {'facility_name': 'North East Medical '\n",
      "                                               'Services-taraval',\n",
      "                              'facility_type': 'Community Health Network',\n",
      "                              'oshpd_id': '0',\n",
      "                              'services': ' ',\n",
      "                              'uid': '77'},\n",
      "               'type': 'Feature'},\n",
      "              {'geometry': {'coordinates': [-122.40385594, 37.79846727],\n",
      "                            'type': 'Point'},\n",
      "               'properties': {'facility_name': 'On Lok Senior Health Services',\n",
      "                              'facility_type': 'Community Clinic',\n",
      "                              'oshpd_id': '306384014',\n",
      "                              'services': 'Senior Health',\n",
      "                              'uid': '39'},\n",
      "               'type': 'Feature'},\n",
      "              {'geometry': {'coordinates': [-122.41154248, 37.78413785],\n",
      "                            'type': 'Point'},\n",
      "               'properties': {'facility_name': 'Housing And Urban Health '\n",
      "                                               'Clinic',\n",
      "                              'facility_type': 'Community Health Network',\n",
      "                              'oshpd_id': '0',\n",
      "                              'services': ' ',\n",
      "                              'uid': '69'},\n",
      "               'type': 'Feature'},\n",
      "              {'geometry': {'coordinates': [-122.39873528, 37.75427069],\n",
      "                            'type': 'Point'},\n",
      "               'properties': {'facility_name': 'Potrero Hill Health Center',\n",
      "                              'facility_type': 'Community Health Network',\n",
      "                              'oshpd_id': '0',\n",
      "                              'services': ' ',\n",
      "                              'uid': '62'},\n",
      "               'type': 'Feature'},\n",
      "              {'geometry': {'coordinates': [-122.40888641, 37.77766069],\n",
      "                            'type': 'Point'},\n",
      "               'properties': {'facility_name': 'South Of Market Health Center',\n",
      "                              'facility_type': 'Community Clinic',\n",
      "                              'oshpd_id': '306384221',\n",
      "                              'services': 'General Health',\n",
      "                              'uid': '47'},\n",
      "               'type': 'Feature'},\n",
      "              {'geometry': {'coordinates': [-122.4066315, 37.75690321],\n",
      "                            'type': 'Point'},\n",
      "               'properties': {'facility_name': 'Family Health Center At Sfgh',\n",
      "                              'facility_type': 'Community Health Network',\n",
      "                              'oshpd_id': '0',\n",
      "                              'services': ' ',\n",
      "                              'uid': '58'},\n",
      "               'type': 'Feature'},\n",
      "              {'geometry': {'coordinates': [-122.44834319, 37.78246781],\n",
      "                            'type': 'Point'},\n",
      "               'properties': {'facility_name': 'Institute On Aging',\n",
      "                              'facility_type': 'Community Clinic',\n",
      "                              'oshpd_id': '306384158',\n",
      "                              'services': 'Senior Health',\n",
      "                              'uid': '25'},\n",
      "               'type': 'Feature'},\n",
      "              {'geometry': {'coordinates': [-122.40659471, 37.75617447],\n",
      "                            'type': 'Point'},\n",
      "               'properties': {'facility_name': \"Women's Health Center\",\n",
      "                              'facility_type': 'Community Health Network',\n",
      "                              'oshpd_id': '0',\n",
      "                              'services': ' ',\n",
      "                              'uid': '71'},\n",
      "               'type': 'Feature'},\n",
      "              {'geometry': {'coordinates': [-122.42281235, 37.77240194],\n",
      "                            'type': 'Point'},\n",
      "               'properties': {'facility_name': 'Lyon-martin Womens Health '\n",
      "                                               'Services',\n",
      "                              'facility_type': 'Community Clinic',\n",
      "                              'oshpd_id': '306382714',\n",
      "                              'services': 'Womens Health',\n",
      "                              'uid': '28'},\n",
      "               'type': 'Feature'},\n",
      "              {'geometry': {'coordinates': [-122.43184067, 37.76271772],\n",
      "                            'type': 'Point'},\n",
      "               'properties': {'facility_name': 'Castro-mission Health Center',\n",
      "                              'facility_type': 'Community Health Network',\n",
      "                              'oshpd_id': '0',\n",
      "                              'services': ' ',\n",
      "                              'uid': '55'},\n",
      "               'type': 'Feature'},\n",
      "              {'geometry': {'coordinates': [-122.40917233, 37.79566209],\n",
      "                            'type': 'Point'},\n",
      "               'properties': {'facility_name': 'Chinese Hospital',\n",
      "                              'facility_type': 'General Acute Care Hospital',\n",
      "                              'oshpd_id': '106382715',\n",
      "                              'services': 'Hospital',\n",
      "                              'uid': '5'},\n",
      "               'type': 'Feature'},\n",
      "              {'geometry': {'coordinates': [-122.47009063, 37.78458778],\n",
      "                            'type': 'Point'},\n",
      "               'properties': {'facility_name': 'San Francisco Free Clinic',\n",
      "                              'facility_type': 'Free Clinic',\n",
      "                              'oshpd_id': '306384025',\n",
      "                              'services': 'Free General Health',\n",
      "                              'uid': '46'},\n",
      "               'type': 'Feature'},\n",
      "              {'geometry': {'coordinates': [-122.40426045, 37.72908815],\n",
      "                            'type': 'Point'},\n",
      "               'properties': {'facility_name': 'North East Medical Services - '\n",
      "                                               'San Bruno Avenue',\n",
      "                              'facility_type': 'Community Clinic',\n",
      "                              'oshpd_id': '306384207',\n",
      "                              'services': 'Cultural General Health',\n",
      "                              'uid': '37'},\n",
      "               'type': 'Feature'},\n",
      "              {'geometry': {'coordinates': [-122.4194887, 37.77125833],\n",
      "                            'type': 'Point'},\n",
      "               'properties': {'facility_name': 'Mission Neighborhood Health '\n",
      "                                               'Centers-lpc',\n",
      "                              'facility_type': 'Community Health Network',\n",
      "                              'oshpd_id': '0',\n",
      "                              'services': ' ',\n",
      "                              'uid': '76'},\n",
      "               'type': 'Feature'},\n",
      "              {'geometry': {'coordinates': [-122.41866509, 37.76411733],\n",
      "                            'type': 'Point'},\n",
      "               'properties': {'facility_name': 'Native American Health Center',\n",
      "                              'facility_type': 'Community Clinic',\n",
      "                              'oshpd_id': '306380896',\n",
      "                              'services': 'Cultural General Health',\n",
      "                              'uid': '34'},\n",
      "               'type': 'Feature'},\n",
      "              {'geometry': {'coordinates': [-122.4200801, 37.74700015],\n",
      "                            'type': 'Point'},\n",
      "               'properties': {'facility_name': 'Mission Neighborhood Health '\n",
      "                                               'Center - Valencia Clinic',\n",
      "                              'facility_type': 'Community Clinic',\n",
      "                              'oshpd_id': '306384212',\n",
      "                              'services': 'Cultural General Health',\n",
      "                              'uid': '31'},\n",
      "               'type': 'Feature'},\n",
      "              {'geometry': {'coordinates': [-122.4191218, 37.78794224],\n",
      "                            'type': 'Point'},\n",
      "               'properties': {'facility_name': 'Larkin Street Medical Clinic',\n",
      "                              'facility_type': 'Community Health Network',\n",
      "                              'oshpd_id': '0',\n",
      "                              'services': ' ',\n",
      "                              'uid': '74'},\n",
      "               'type': 'Feature'},\n",
      "              {'geometry': {'coordinates': [-122.40619566, 37.75577951],\n",
      "                            'type': 'Point'},\n",
      "               'properties': {'facility_name': \"Children's Health Center At \"\n",
      "                                               'Sfgh',\n",
      "                              'facility_type': 'Community Health Network',\n",
      "                              'oshpd_id': '0',\n",
      "                              'services': ' ',\n",
      "                              'uid': '56'},\n",
      "               'type': 'Feature'},\n",
      "              {'geometry': {'coordinates': [-122.42154565, 37.78276346],\n",
      "                            'type': 'Point'},\n",
      "               'properties': {'facility_name': 'Planned Parenthood Golden Gate',\n",
      "                              'facility_type': 'Community Clinic',\n",
      "                              'oshpd_id': '306380924',\n",
      "                              'services': 'Family General Health',\n",
      "                              'uid': '43'},\n",
      "               'type': 'Feature'},\n",
      "              {'geometry': {'coordinates': [-122.3922007, 37.73086205],\n",
      "                            'type': 'Point'},\n",
      "               'properties': {'facility_name': '3rd Street Youth Center & '\n",
      "                                               'Clinic',\n",
      "                              'facility_type': 'Community Health Network',\n",
      "                              'oshpd_id': '0',\n",
      "                              'services': ' ',\n",
      "                              'uid': '65'},\n",
      "               'type': 'Feature'},\n",
      "              {'geometry': {'coordinates': [-122.40619566, 37.75577951],\n",
      "                            'type': 'Point'},\n",
      "               'properties': {'facility_name': 'General Medical Clinic At Sfgh',\n",
      "                              'facility_type': 'Community Health Network',\n",
      "                              'oshpd_id': '0',\n",
      "                              'services': ' ',\n",
      "                              'uid': '59'},\n",
      "               'type': 'Feature'},\n",
      "              {'geometry': {'coordinates': [-122.41855477, 37.7640344],\n",
      "                            'type': 'Point'},\n",
      "               'properties': {'facility_name': 'Mission Neighborhood Resource '\n",
      "                                               'Center',\n",
      "                              'facility_type': 'Community Clinic',\n",
      "                              'oshpd_id': '306384214',\n",
      "                              'services': 'Cultural General Health',\n",
      "                              'uid': '33'},\n",
      "               'type': 'Feature'},\n",
      "              {'geometry': {'coordinates': [-122.41935578, 37.77587757],\n",
      "                            'type': 'Point'},\n",
      "               'properties': {'facility_name': 'Breast & Cervical Cancer '\n",
      "                                               'Services',\n",
      "                              'facility_type': 'Community Health Network',\n",
      "                              'oshpd_id': '0',\n",
      "                              'services': ' ',\n",
      "                              'uid': '68'},\n",
      "               'type': 'Feature'},\n",
      "              {'geometry': {'coordinates': [-122.40778304, 37.78934797],\n",
      "                            'type': 'Point'},\n",
      "               'properties': {'facility_name': 'First Resort',\n",
      "                              'facility_type': 'Community Clinic',\n",
      "                              'oshpd_id': '306384194',\n",
      "                              'services': 'Womens Health',\n",
      "                              'uid': '21'},\n",
      "               'type': 'Feature'},\n",
      "              {'geometry': {'coordinates': [-122.41164953, 37.78509497],\n",
      "                            'type': 'Point'},\n",
      "               'properties': {'facility_name': 'Glide Health Services',\n",
      "                              'facility_type': 'Community Clinic',\n",
      "                              'oshpd_id': '306384165',\n",
      "                              'services': 'General Health',\n",
      "                              'uid': '22'},\n",
      "               'type': 'Feature'},\n",
      "              {'geometry': {'coordinates': [-122.41458162, 37.78267054],\n",
      "                            'type': 'Point'},\n",
      "               'properties': {'facility_name': 'Curry Senior Center',\n",
      "                              'facility_type': 'Community Clinic',\n",
      "                              'oshpd_id': '306382735',\n",
      "                              'services': 'Senior Health',\n",
      "                              'uid': '19'},\n",
      "               'type': 'Feature'},\n",
      "              {'geometry': {'coordinates': [-122.45766762, 37.78123364],\n",
      "                            'type': 'Point'},\n",
      "               'properties': {'facility_name': 'Lifeways Pace At The Coronet',\n",
      "                              'facility_type': 'Community Clinic',\n",
      "                              'oshpd_id': '306384222',\n",
      "                              'services': 'General Health',\n",
      "                              'uid': '27'},\n",
      "               'type': 'Feature'},\n",
      "              {'geometry': {'coordinates': [-122.4199175, 37.7694838],\n",
      "                            'type': 'Point'},\n",
      "               'properties': {'facility_name': 'Haight Ashbury Integrated Care '\n",
      "                                               'Center',\n",
      "                              'facility_type': 'Community Clinic',\n",
      "                              'oshpd_id': '306384196',\n",
      "                              'services': 'Free General Health',\n",
      "                              'uid': '24'},\n",
      "               'type': 'Feature'},\n",
      "              {'geometry': {'coordinates': [-122.40702945, 37.7760443],\n",
      "                            'type': 'Point'},\n",
      "               'properties': {'facility_name': 'San Francisco City Clinic',\n",
      "                              'facility_type': 'Community Health Network',\n",
      "                              'oshpd_id': '0',\n",
      "                              'services': ' ',\n",
      "                              'uid': '66'},\n",
      "               'type': 'Feature'},\n",
      "              {'geometry': {'coordinates': [-122.40779106, 37.77918701],\n",
      "                            'type': 'Point'},\n",
      "               'properties': {'facility_name': 'Ahf Healthcare Center - San '\n",
      "                                               'Francisco',\n",
      "                              'facility_type': 'Community Clinic',\n",
      "                              'oshpd_id': '306384180',\n",
      "                              'services': 'Sexual Health Clinic',\n",
      "                              'uid': '14'},\n",
      "               'type': 'Feature'},\n",
      "              {'geometry': {'coordinates': [-122.43972581, 37.78477686],\n",
      "                            'type': 'Point'},\n",
      "               'properties': {'facility_name': 'Ucsf Medical Center At Mount '\n",
      "                                               'Zion',\n",
      "                              'facility_type': 'General Acute Care Hospital',\n",
      "                              'oshpd_id': '106380895',\n",
      "                              'services': 'Hospital',\n",
      "                              'uid': '12'},\n",
      "               'type': 'Feature'},\n",
      "              {'geometry': {'coordinates': [-122.40651746, 37.73222744],\n",
      "                            'type': 'Point'},\n",
      "               'properties': {'facility_name': 'Silver Avenue Family Health '\n",
      "                                               'Center',\n",
      "                              'facility_type': 'Community Health Network',\n",
      "                              'oshpd_id': '0',\n",
      "                              'services': ' ',\n",
      "                              'uid': '63'},\n",
      "               'type': 'Feature'},\n",
      "              {'geometry': {'coordinates': [-122.44858044, 37.77019155],\n",
      "                            'type': 'Point'},\n",
      "               'properties': {'facility_name': 'Haight Ashbury Free Medical '\n",
      "                                               'Clinic',\n",
      "                              'facility_type': 'Free Clinic',\n",
      "                              'oshpd_id': '306380827',\n",
      "                              'services': 'Free General Health',\n",
      "                              'uid': '23'},\n",
      "               'type': 'Feature'},\n",
      "              {'geometry': {'coordinates': [-122.48249495, 37.76238083],\n",
      "                            'type': 'Point'},\n",
      "               'properties': {'facility_name': 'Ocean Park Health Center',\n",
      "                              'facility_type': 'Community Health Network',\n",
      "                              'oshpd_id': '0',\n",
      "                              'services': ' ',\n",
      "                              'uid': '61'},\n",
      "               'type': 'Feature'},\n",
      "              {'geometry': {'coordinates': [-122.43940102, 37.71582646],\n",
      "                            'type': 'Point'},\n",
      "               'properties': {'facility_name': \"Chinese Hospital's Excelsior \"\n",
      "                                               'Health Services',\n",
      "                              'facility_type': 'Community Clinic',\n",
      "                              'oshpd_id': '306384182',\n",
      "                              'services': 'General Health',\n",
      "                              'uid': '18'},\n",
      "               'type': 'Feature'},\n",
      "              {'geometry': {'coordinates': [-122.48927463, 37.75341278],\n",
      "                            'type': 'Point'},\n",
      "               'properties': {'facility_name': 'Chinese Community Health '\n",
      "                                               'Services',\n",
      "                              'facility_type': 'Community Clinic',\n",
      "                              'oshpd_id': '306384154',\n",
      "                              'services': 'General Health',\n",
      "                              'uid': '17'},\n",
      "               'type': 'Feature'},\n",
      "              {'geometry': {'coordinates': [-122.40524939, 37.71182702],\n",
      "                            'type': 'Point'},\n",
      "               'properties': {'facility_name': 'North East Medical '\n",
      "                                               'Services-leland Avenue',\n",
      "                              'facility_type': 'Community Clinic',\n",
      "                              'oshpd_id': '306384053',\n",
      "                              'services': 'Cultural General Health',\n",
      "                              'uid': '38'},\n",
      "               'type': 'Feature'},\n",
      "              {'geometry': {'coordinates': [-122.41919042, 37.78358665],\n",
      "                            'type': 'Point'},\n",
      "               'properties': {'facility_name': 'Asian & Pacific Islander '\n",
      "                                               'Wellness Center',\n",
      "                              'facility_type': 'Community Clinic',\n",
      "                              'oshpd_id': '306384211',\n",
      "                              'services': 'Cultural General Health',\n",
      "                              'uid': '53'},\n",
      "               'type': 'Feature'},\n",
      "              {'geometry': {'coordinates': [-122.41635344, 37.76472768],\n",
      "                            'type': 'Point'},\n",
      "               'properties': {'facility_name': 'Mission Neighborhood Health '\n",
      "                                               'Center',\n",
      "                              'facility_type': 'Community Clinic',\n",
      "                              'oshpd_id': '306380891',\n",
      "                              'services': 'Cultural General Health',\n",
      "                              'uid': '30'},\n",
      "               'type': 'Feature'},\n",
      "              {'geometry': {'coordinates': [-122.40771972, 37.75606363],\n",
      "                            'type': 'Point'},\n",
      "               'properties': {'facility_name': 'San Francisco General Hospital',\n",
      "                              'facility_type': 'General Acute Care Hospital',\n",
      "                              'oshpd_id': '106380939',\n",
      "                              'services': 'Hospital',\n",
      "                              'uid': '8'},\n",
      "               'type': 'Feature'},\n",
      "              {'geometry': {'coordinates': [-122.39246655, 37.72591049],\n",
      "                            'type': 'Point'},\n",
      "               'properties': {'facility_name': 'Southeast Health Center',\n",
      "                              'facility_type': 'Community Health Network',\n",
      "                              'oshpd_id': '0',\n",
      "                              'services': ' ',\n",
      "                              'uid': '64'},\n",
      "               'type': 'Feature'},\n",
      "              {'geometry': {'coordinates': [-122.41869572, 37.77838372],\n",
      "                            'type': 'Point'},\n",
      "               'properties': {'facility_name': 'Adult Immunization & Travel '\n",
      "                                               'Clinic',\n",
      "                              'facility_type': 'Community Health Network',\n",
      "                              'oshpd_id': '0',\n",
      "                              'services': ' ',\n",
      "                              'uid': '67'},\n",
      "               'type': 'Feature'},\n",
      "              {'geometry': {'coordinates': [-122.40902523, 37.79989739],\n",
      "                            'type': 'Point'},\n",
      "               'properties': {'facility_name': 'North East Medical Services',\n",
      "                              'facility_type': 'Community Clinic',\n",
      "                              'oshpd_id': '306382711',\n",
      "                              'services': 'Cultural General Health',\n",
      "                              'uid': '35'},\n",
      "               'type': 'Feature'},\n",
      "              {'geometry': {'coordinates': [-122.42012355, 37.74611894],\n",
      "                            'type': 'Point'},\n",
      "               'properties': {'facility_name': 'Planned Parenthood San '\n",
      "                                               'Francisco Center',\n",
      "                              'facility_type': 'Community Clinic',\n",
      "                              'oshpd_id': '306384219',\n",
      "                              'services': 'Family General Health',\n",
      "                              'uid': '44'},\n",
      "               'type': 'Feature'},\n",
      "              {'geometry': {'coordinates': [-122.44370676, 37.78268324],\n",
      "                            'type': 'Point'},\n",
      "               'properties': {'facility_name': 'Kaiser Fnd Hosp - San '\n",
      "                                               'Francisco',\n",
      "                              'facility_type': 'General Acute Care Hospital',\n",
      "                              'oshpd_id': '106380857',\n",
      "                              'services': 'Hospital',\n",
      "                              'uid': '6'},\n",
      "               'type': 'Feature'},\n",
      "              {'geometry': {'coordinates': [-122.43338309, 37.7865244],\n",
      "                            'type': 'Point'},\n",
      "               'properties': {'facility_name': \"Woman's Community Clinic/tides \"\n",
      "                                               'Center',\n",
      "                              'facility_type': 'Community Clinic',\n",
      "                              'oshpd_id': '306384220',\n",
      "                              'services': 'Womens Health',\n",
      "                              'uid': '54'},\n",
      "               'type': 'Feature'},\n",
      "              {'geometry': {'coordinates': [-122.41037284, 37.79788399],\n",
      "                            'type': 'Point'},\n",
      "               'properties': {'facility_name': 'On Lok Senior Health Services '\n",
      "                                               '- Powell',\n",
      "                              'facility_type': 'Community Clinic',\n",
      "                              'oshpd_id': '306382725',\n",
      "                              'services': 'Senior Health',\n",
      "                              'uid': '41'},\n",
      "               'type': 'Feature'},\n",
      "              {'geometry': {'coordinates': [-122.42510834, 37.74215288],\n",
      "                            'type': 'Point'},\n",
      "               'properties': {'facility_name': 'On Lok 30th Street Community '\n",
      "                                               'Center',\n",
      "                              'facility_type': 'Community Clinic',\n",
      "                              'oshpd_id': '306384044',\n",
      "                              'services': 'Senior Health',\n",
      "                              'uid': '13'},\n",
      "               'type': 'Feature'},\n",
      "              {'geometry': {'coordinates': [-122.41706621, 37.78956798],\n",
      "                            'type': 'Point'},\n",
      "               'properties': {'facility_name': 'St. Francis Memorial Hospital',\n",
      "                              'facility_type': 'General Acute Care Hospital',\n",
      "                              'oshpd_id': '106380960',\n",
      "                              'services': 'Hospital',\n",
      "                              'uid': '9'},\n",
      "               'type': 'Feature'},\n",
      "              {'geometry': {'coordinates': [-122.41177222, 37.79693062],\n",
      "                            'type': 'Point'},\n",
      "               'properties': {'facility_name': 'Chinatown Health Center',\n",
      "                              'facility_type': 'Community Health Network',\n",
      "                              'oshpd_id': '0',\n",
      "                              'services': ' ',\n",
      "                              'uid': '57'},\n",
      "               'type': 'Feature'},\n",
      "              {'geometry': {'coordinates': [-122.45440679, 37.77380449],\n",
      "                            'type': 'Point'},\n",
      "               'properties': {'facility_name': \"St. Mary's Medical Center, San \"\n",
      "                                               'Francisco',\n",
      "                              'facility_type': 'General Acute Care Hospital',\n",
      "                              'oshpd_id': '106380965',\n",
      "                              'services': 'Hospital',\n",
      "                              'uid': '10'},\n",
      "               'type': 'Feature'},\n",
      "              {'geometry': {'coordinates': [-122.43586943, 37.781938],\n",
      "                            'type': 'Point'},\n",
      "               'properties': {'facility_name': 'Maxine Hall Health Center',\n",
      "                              'facility_type': 'Community Health Network',\n",
      "                              'oshpd_id': '0',\n",
      "                              'services': ' ',\n",
      "                              'uid': '60'},\n",
      "               'type': 'Feature'},\n",
      "              {'geometry': {'coordinates': [-122.42204391, 37.78518151],\n",
      "                            'type': 'Point'},\n",
      "               'properties': {'facility_name': 'Merriouns Psychological '\n",
      "                                               'Institute',\n",
      "                              'facility_type': 'Community Clinic',\n",
      "                              'oshpd_id': '306382736',\n",
      "                              'services': 'Mental Health',\n",
      "                              'uid': '29'},\n",
      "               'type': 'Feature'},\n",
      "              {'geometry': {'coordinates': [-122.4535495, 37.78740232],\n",
      "                            'type': 'Point'},\n",
      "               'properties': {'facility_name': 'California Pacific Med '\n",
      "                                               'Ctr-california East',\n",
      "                              'facility_type': 'General Acute Care Hospital',\n",
      "                              'oshpd_id': '106380826',\n",
      "                              'services': 'Hospital',\n",
      "                              'uid': '0'},\n",
      "               'type': 'Feature'},\n",
      "              {'geometry': {'coordinates': [-122.41819551, 37.75034371],\n",
      "                            'type': 'Point'},\n",
      "               'properties': {'facility_name': 'Instituto Familiar De La Raza '\n",
      "                                               '- Outpatient',\n",
      "                              'facility_type': 'Community Clinic',\n",
      "                              'oshpd_id': '306382737',\n",
      "                              'services': 'Cultural General Health',\n",
      "                              'uid': '26'},\n",
      "               'type': 'Feature'},\n",
      "              {'geometry': {'coordinates': [-122.41279075, 37.7802172],\n",
      "                            'type': 'Point'},\n",
      "               'properties': {'facility_name': 'Baart Market Clinic',\n",
      "                              'facility_type': 'Community Clinic',\n",
      "                              'oshpd_id': '306384166',\n",
      "                              'services': 'Drug Treatment',\n",
      "                              'uid': '15'},\n",
      "               'type': 'Feature'},\n",
      "              {'geometry': {'coordinates': [-122.43982883, 37.72207048],\n",
      "                            'type': 'Point'},\n",
      "               'properties': {'facility_name': 'Balboa Teen Health Center',\n",
      "                              'facility_type': 'Community Health Network',\n",
      "                              'oshpd_id': '0',\n",
      "                              'services': ' ',\n",
      "                              'uid': '72'},\n",
      "               'type': 'Feature'},\n",
      "              {'geometry': {'coordinates': [-122.42023356, 37.7475674],\n",
      "                            'type': 'Point'},\n",
      "               'properties': {'facility_name': \"St. Luke's Health Care Center \"\n",
      "                                               '- Pediatric Clinic',\n",
      "                              'facility_type': 'Community Clinic',\n",
      "                              'oshpd_id': '306384208',\n",
      "                              'services': 'Youth Health',\n",
      "                              'uid': '51'},\n",
      "               'type': 'Feature'},\n",
      "              {'geometry': {'coordinates': [-122.43103755, 37.79142444],\n",
      "                            'type': 'Point'},\n",
      "               'properties': {'facility_name': 'California Pacific Med '\n",
      "                                               'Ctr-pacific Campus',\n",
      "                              'facility_type': 'General Acute Care Hospital',\n",
      "                              'oshpd_id': '106380929',\n",
      "                              'services': 'Hospital',\n",
      "                              'uid': '3'},\n",
      "               'type': 'Feature'},\n",
      "              {'geometry': {'coordinates': [-122.45856738, 37.76336734],\n",
      "                            'type': 'Point'},\n",
      "               'properties': {'facility_name': 'Ucsf Medical Center',\n",
      "                              'facility_type': 'General Acute Care Hospital',\n",
      "                              'oshpd_id': '106381154',\n",
      "                              'services': 'Hospital',\n",
      "                              'uid': '11'},\n",
      "               'type': 'Feature'},\n",
      "              {'geometry': {'coordinates': [-122.42124885, 37.74804296],\n",
      "                            'type': 'Point'},\n",
      "               'properties': {'facility_name': 'California Pacific Medical '\n",
      "                                               \"Center - St. Luke's Campus\",\n",
      "                              'facility_type': 'General Acute Care Hospital',\n",
      "                              'oshpd_id': '106380964',\n",
      "                              'services': 'Hospital',\n",
      "                              'uid': '4'},\n",
      "               'type': 'Feature'},\n",
      "              {'geometry': {'coordinates': [-122.42023356, 37.7475674],\n",
      "                            'type': 'Point'},\n",
      "               'properties': {'facility_name': \"St. Luke's Health Care Center \"\n",
      "                                               '- Adult Clinic',\n",
      "                              'facility_type': 'Community Clinic',\n",
      "                              'oshpd_id': '306381339',\n",
      "                              'services': 'General Health',\n",
      "                              'uid': '50'},\n",
      "               'type': 'Feature'},\n",
      "              {'geometry': {'coordinates': [-122.47940016, 37.75412784],\n",
      "                            'type': 'Point'},\n",
      "               'properties': {'facility_name': 'North East Medical Services - '\n",
      "                                               'Noriega',\n",
      "                              'facility_type': 'Community Clinic',\n",
      "                              'oshpd_id': '306384210',\n",
      "                              'services': 'Cultural General Health',\n",
      "                              'uid': '36'},\n",
      "               'type': 'Feature'},\n",
      "              {'geometry': {'coordinates': [-122.41904637, 37.78882313],\n",
      "                            'type': 'Point'},\n",
      "               'properties': {'facility_name': 'On Lok Senior Health Services '\n",
      "                                               '- Bush St',\n",
      "                              'facility_type': 'Community Clinic',\n",
      "                              'oshpd_id': '306382724',\n",
      "                              'services': 'Senior Health',\n",
      "                              'uid': '40'},\n",
      "               'type': 'Feature'},\n",
      "              {'geometry': {'coordinates': [-122.42023356, 37.7475674],\n"
     ]
    },
    {
     "name": "stdout",
     "output_type": "stream",
     "text": [
      "                            'type': 'Point'},\n",
      "               'properties': {'facility_name': \"St. Luke's Health Care Center \"\n",
      "                                               \"- Women's Clinic\",\n",
      "                              'facility_type': 'Community Clinic',\n",
      "                              'oshpd_id': '306384183',\n",
      "                              'services': 'Womens Health',\n",
      "                              'uid': '52'},\n",
      "               'type': 'Feature'},\n",
      "              {'geometry': {'coordinates': [-122.49761417, 37.77575714],\n",
      "                            'type': 'Point'},\n",
      "               'properties': {'facility_name': 'Richmond Maxi-center',\n",
      "                              'facility_type': 'Community Clinic',\n",
      "                              'oshpd_id': '306381330',\n",
      "                              'services': 'Cultural General Health',\n",
      "                              'uid': '45'},\n",
      "               'type': 'Feature'},\n",
      "              {'geometry': {'coordinates': [-122.450374, 37.76999193],\n",
      "                            'type': 'Point'},\n",
      "               'properties': {'facility_name': 'Cole Street Clinic',\n",
      "                              'facility_type': 'Community Health Network',\n",
      "                              'oshpd_id': '0',\n",
      "                              'services': ' ',\n",
      "                              'uid': '73'},\n",
      "               'type': 'Feature'}],\n",
      " 'type': 'FeatureCollection'}\n"
     ]
    }
   ],
   "source": [
    "# print the dictionary\n",
    "\n",
    "pp.pprint(facilities_data)"
   ]
  },
  {
   "cell_type": "code",
   "execution_count": 118,
   "metadata": {},
   "outputs": [
    {
     "data": {
      "text/plain": [
       "'\\nLink to map of SF Health Care Facilities\\nhttp://geojson.io/#map=13/37.7559/-122.4449\\n    \\nCan add and map data using this link:\\nhttps://data.sfgov.org/resource/jhsu-2pka.geojson\\n'"
      ]
     },
     "execution_count": 118,
     "metadata": {},
     "output_type": "execute_result"
    }
   ],
   "source": [
    "\"\"\"\n",
    "Link to map of SF Health Care Facilities\n",
    "http://geojson.io/#map=13/37.7559/-122.4449\n",
    "    \n",
    "Can add and map data using this link:\n",
    "https://data.sfgov.org/resource/jhsu-2pka.geojson\n",
    "\"\"\""
   ]
  },
  {
   "cell_type": "code",
   "execution_count": 119,
   "metadata": {},
   "outputs": [
    {
     "data": {
      "text/plain": [
       "str"
      ]
     },
     "execution_count": 119,
     "metadata": {},
     "output_type": "execute_result"
    }
   ],
   "source": [
    "# download data on Muni transpo network\n",
    "\n",
    "muninw_url = \"https://data.sfgov.org/resource/9exe-acju.geojson\"\n",
    "muninw_response = requests.get(muninw_url)\n",
    "muninw_results = muninw_response.text\n",
    "\n",
    "# what's the data type of the results?\n",
    "\n",
    "type(muninw_results)"
   ]
  },
  {
   "cell_type": "code",
   "execution_count": 120,
   "metadata": {},
   "outputs": [
    {
     "name": "stdout",
     "output_type": "stream",
     "text": [
      "{ \"type\": \"FeatureCollection\", \"features\": [{\"type\":\"Feature\",\"geometry\":{\"type\":\"LineString\",\"coordinates\":[[-122.3969547857808,37.795431052464615],[-122.39779578577077,37.79443405260821],[-122.39896978561259,37.79428405270635],[-122.40014778545387,37.79413405280481],[-122.40131378529652,37.793987052902175],[-122.40215878518262,37.79388005297274],[-122.40295678507499,37.793779053039415],[-122.40401578493208,37.79364605312776],[-122.40461278585225,37.79356505317804],[-122.40612878464714,37.79337\n"
     ]
    }
   ],
   "source": [
    "# print the first 500 characters to see a sample of the data\n",
    "\n",
    "print(muninw_results[:500])"
   ]
  },
  {
   "cell_type": "code",
   "execution_count": 10,
   "metadata": {},
   "outputs": [
    {
     "data": {
      "text/plain": [
       "dict"
      ]
     },
     "execution_count": 10,
     "metadata": {},
     "output_type": "execute_result"
    }
   ],
   "source": [
    "# it looks like the results are a string with JSON-formatted data inside\n",
    "\n",
    "# parse the string into a Python dictionary\n",
    "muninw_data = json.loads(muninw_results)  # loads = \"load string\"\n",
    "\n",
    "type(muninw_data)"
   ]
  },
  {
   "cell_type": "code",
   "execution_count": null,
   "metadata": {},
   "outputs": [],
   "source": [
    "\"\"\"\n",
    "Link to map of Muni Network\n",
    "http://geojson.io\n",
    "    \n",
    "Add data using this link:\n",
    "https://data.sfgov.org/resource/9exe-acju.geojson\n"
   ]
  },
  {
   "cell_type": "markdown",
   "metadata": {},
   "source": [
    "## This transit network dataset seems too big for GeoJson's maping link - might wanna try with geopandas"
   ]
  },
  {
   "cell_type": "code",
   "execution_count": 25,
   "metadata": {},
   "outputs": [],
   "source": [
    "import matplotlib.pyplot as plt\n",
    "import geopandas as gdp"
   ]
  },
  {
   "cell_type": "code",
   "execution_count": 45,
   "metadata": {},
   "outputs": [
    {
     "data": {
      "text/html": [
       "<div>\n",
       "<style scoped>\n",
       "    .dataframe tbody tr th:only-of-type {\n",
       "        vertical-align: middle;\n",
       "    }\n",
       "\n",
       "    .dataframe tbody tr th {\n",
       "        vertical-align: top;\n",
       "    }\n",
       "\n",
       "    .dataframe thead th {\n",
       "        text-align: right;\n",
       "    }\n",
       "</style>\n",
       "<table border=\"1\" class=\"dataframe\">\n",
       "  <thead>\n",
       "    <tr style=\"text-align: right;\">\n",
       "      <th></th>\n",
       "      <th>facility_name</th>\n",
       "      <th>facility_type</th>\n",
       "      <th>location</th>\n",
       "      <th>oshpd_id</th>\n",
       "      <th>services</th>\n",
       "      <th>uid</th>\n",
       "    </tr>\n",
       "  </thead>\n",
       "  <tbody>\n",
       "    <tr>\n",
       "      <th>0</th>\n",
       "      <td>California Pacific Med Ctr-davies Campus</td>\n",
       "      <td>General Acute Care Hospital</td>\n",
       "      <td>{'type': 'Point', 'coordinates': [-122.4358177...</td>\n",
       "      <td>106380933</td>\n",
       "      <td>Hospital</td>\n",
       "      <td>2</td>\n",
       "    </tr>\n",
       "    <tr>\n",
       "      <th>1</th>\n",
       "      <td>On Lok Senior Health Services-mission Center</td>\n",
       "      <td>Community Clinic</td>\n",
       "      <td>{'type': 'Point', 'coordinates': [-122.4332937...</td>\n",
       "      <td>306384163</td>\n",
       "      <td>Senior Health</td>\n",
       "      <td>42</td>\n",
       "    </tr>\n",
       "    <tr>\n",
       "      <th>2</th>\n",
       "      <td>Drug Detoxification, Rehab And After Care Svs....</td>\n",
       "      <td>Free Clinic</td>\n",
       "      <td>{'type': 'Point', 'coordinates': [-122.4487030...</td>\n",
       "      <td>306381276</td>\n",
       "      <td>Drug Treatment</td>\n",
       "      <td>20</td>\n",
       "    </tr>\n",
       "    <tr>\n",
       "      <th>3</th>\n",
       "      <td>St. Anthony Medical Clinic</td>\n",
       "      <td>Free Clinic</td>\n",
       "      <td>{'type': 'Point', 'coordinates': [-122.4131723...</td>\n",
       "      <td>306384201</td>\n",
       "      <td>Free General Health</td>\n",
       "      <td>48</td>\n",
       "    </tr>\n",
       "    <tr>\n",
       "      <th>4</th>\n",
       "      <td>Special Programs For Youth</td>\n",
       "      <td>Community Health Network</td>\n",
       "      <td>{'type': 'Point', 'coordinates': [-122.4522670...</td>\n",
       "      <td>0</td>\n",
       "      <td></td>\n",
       "      <td>75</td>\n",
       "    </tr>\n",
       "  </tbody>\n",
       "</table>\n",
       "</div>"
      ],
      "text/plain": [
       "                                       facility_name  \\\n",
       "0           California Pacific Med Ctr-davies Campus   \n",
       "1       On Lok Senior Health Services-mission Center   \n",
       "2  Drug Detoxification, Rehab And After Care Svs....   \n",
       "3                         St. Anthony Medical Clinic   \n",
       "4                         Special Programs For Youth   \n",
       "\n",
       "                 facility_type  \\\n",
       "0  General Acute Care Hospital   \n",
       "1             Community Clinic   \n",
       "2                  Free Clinic   \n",
       "3                  Free Clinic   \n",
       "4     Community Health Network   \n",
       "\n",
       "                                            location   oshpd_id  \\\n",
       "0  {'type': 'Point', 'coordinates': [-122.4358177...  106380933   \n",
       "1  {'type': 'Point', 'coordinates': [-122.4332937...  306384163   \n",
       "2  {'type': 'Point', 'coordinates': [-122.4487030...  306381276   \n",
       "3  {'type': 'Point', 'coordinates': [-122.4131723...  306384201   \n",
       "4  {'type': 'Point', 'coordinates': [-122.4522670...          0   \n",
       "\n",
       "              services uid  \n",
       "0             Hospital   2  \n",
       "1        Senior Health  42  \n",
       "2       Drug Treatment  20  \n",
       "3  Free General Health  48  \n",
       "4                       75  "
      ]
     },
     "execution_count": 45,
     "metadata": {},
     "output_type": "execute_result"
    }
   ],
   "source": [
    "import geopandas as gpd\n",
    "import requests\n",
    "data = requests.get(\"https://data.sfgov.org/resource/jhsu-2pka.json\") \n",
    "#Tried doing similar steps with read_file() and geojson but it was :(\n",
    "gdf = gpd.GeoDataFrame(data.json())\n",
    "gdf.head()"
   ]
  },
  {
   "cell_type": "code",
   "execution_count": 70,
   "metadata": {},
   "outputs": [
    {
     "data": {
      "text/html": [
       "<div>\n",
       "<style scoped>\n",
       "    .dataframe tbody tr th:only-of-type {\n",
       "        vertical-align: middle;\n",
       "    }\n",
       "\n",
       "    .dataframe tbody tr th {\n",
       "        vertical-align: top;\n",
       "    }\n",
       "\n",
       "    .dataframe thead th {\n",
       "        text-align: right;\n",
       "    }\n",
       "</style>\n",
       "<table border=\"1\" class=\"dataframe\">\n",
       "  <thead>\n",
       "    <tr style=\"text-align: right;\">\n",
       "      <th></th>\n",
       "      <th>facility_name</th>\n",
       "      <th>facility_type</th>\n",
       "      <th>location</th>\n",
       "      <th>oshpd_id</th>\n",
       "      <th>services</th>\n",
       "      <th>uid</th>\n",
       "      <th>geometry</th>\n",
       "    </tr>\n",
       "  </thead>\n",
       "  <tbody>\n",
       "    <tr>\n",
       "      <th>0</th>\n",
       "      <td>California Pacific Med Ctr-davies Campus</td>\n",
       "      <td>General Acute Care Hospital</td>\n",
       "      <td>{'type': 'Point', 'coordinates': [-122.4358177...</td>\n",
       "      <td>106380933</td>\n",
       "      <td>Hospital</td>\n",
       "      <td>2</td>\n",
       "      <td>{'type': 'Point', 'coordinates': [-122.4358177...</td>\n",
       "    </tr>\n",
       "    <tr>\n",
       "      <th>1</th>\n",
       "      <td>On Lok Senior Health Services-mission Center</td>\n",
       "      <td>Community Clinic</td>\n",
       "      <td>{'type': 'Point', 'coordinates': [-122.4332937...</td>\n",
       "      <td>306384163</td>\n",
       "      <td>Senior Health</td>\n",
       "      <td>42</td>\n",
       "      <td>{'type': 'Point', 'coordinates': [-122.4332937...</td>\n",
       "    </tr>\n",
       "    <tr>\n",
       "      <th>2</th>\n",
       "      <td>Drug Detoxification, Rehab And After Care Svs....</td>\n",
       "      <td>Free Clinic</td>\n",
       "      <td>{'type': 'Point', 'coordinates': [-122.4487030...</td>\n",
       "      <td>306381276</td>\n",
       "      <td>Drug Treatment</td>\n",
       "      <td>20</td>\n",
       "      <td>{'type': 'Point', 'coordinates': [-122.4487030...</td>\n",
       "    </tr>\n",
       "    <tr>\n",
       "      <th>3</th>\n",
       "      <td>St. Anthony Medical Clinic</td>\n",
       "      <td>Free Clinic</td>\n",
       "      <td>{'type': 'Point', 'coordinates': [-122.4131723...</td>\n",
       "      <td>306384201</td>\n",
       "      <td>Free General Health</td>\n",
       "      <td>48</td>\n",
       "      <td>{'type': 'Point', 'coordinates': [-122.4131723...</td>\n",
       "    </tr>\n",
       "    <tr>\n",
       "      <th>4</th>\n",
       "      <td>Special Programs For Youth</td>\n",
       "      <td>Community Health Network</td>\n",
       "      <td>{'type': 'Point', 'coordinates': [-122.4522670...</td>\n",
       "      <td>0</td>\n",
       "      <td></td>\n",
       "      <td>75</td>\n",
       "      <td>{'type': 'Point', 'coordinates': [-122.4522670...</td>\n",
       "    </tr>\n",
       "  </tbody>\n",
       "</table>\n",
       "</div>"
      ],
      "text/plain": [
       "                                       facility_name  \\\n",
       "0           California Pacific Med Ctr-davies Campus   \n",
       "1       On Lok Senior Health Services-mission Center   \n",
       "2  Drug Detoxification, Rehab And After Care Svs....   \n",
       "3                         St. Anthony Medical Clinic   \n",
       "4                         Special Programs For Youth   \n",
       "\n",
       "                 facility_type  \\\n",
       "0  General Acute Care Hospital   \n",
       "1             Community Clinic   \n",
       "2                  Free Clinic   \n",
       "3                  Free Clinic   \n",
       "4     Community Health Network   \n",
       "\n",
       "                                            location   oshpd_id  \\\n",
       "0  {'type': 'Point', 'coordinates': [-122.4358177...  106380933   \n",
       "1  {'type': 'Point', 'coordinates': [-122.4332937...  306384163   \n",
       "2  {'type': 'Point', 'coordinates': [-122.4487030...  306381276   \n",
       "3  {'type': 'Point', 'coordinates': [-122.4131723...  306384201   \n",
       "4  {'type': 'Point', 'coordinates': [-122.4522670...          0   \n",
       "\n",
       "              services uid                                           geometry  \n",
       "0             Hospital   2  {'type': 'Point', 'coordinates': [-122.4358177...  \n",
       "1        Senior Health  42  {'type': 'Point', 'coordinates': [-122.4332937...  \n",
       "2       Drug Treatment  20  {'type': 'Point', 'coordinates': [-122.4487030...  \n",
       "3  Free General Health  48  {'type': 'Point', 'coordinates': [-122.4131723...  \n",
       "4                       75  {'type': 'Point', 'coordinates': [-122.4522670...  "
      ]
     },
     "execution_count": 70,
     "metadata": {},
     "output_type": "execute_result"
    }
   ],
   "source": [
    "gdf['geometry'] = gdf['location']\n",
    "gdf.head()"
   ]
  },
  {
   "cell_type": "code",
   "execution_count": 71,
   "metadata": {},
   "outputs": [
    {
     "data": {
      "image/png": "[encoded data removed]",
      "text/plain": [
       "<Figure size 432x288 with 1 Axes>"
      ]
     },
     "metadata": {
      "needs_background": "light"
     },
     "output_type": "display_data"
    }
   ],
   "source": [
    "#Can I map this!?!\n",
    "\n",
    "gdf.plot()\n",
    "\n",
    "plt.show()  # invoking Matplotlib/PyPlot, as we've always done"
   ]
  },
  {
   "cell_type": "code",
   "execution_count": 66,
   "metadata": {},
   "outputs": [],
   "source": [
    "# :(\n",
    "# Maybe we can snag other stuff from the demo\n",
    "countries = gpd.read_file(gpd.datasets.get_path('naturalearth_lowres'))"
   ]
  },
  {
   "cell_type": "code",
   "execution_count": 97,
   "metadata": {},
   "outputs": [],
   "source": [
    "%%capture\n",
    "!pip install geoplot;\n",
    "import geoplot"
   ]
  },
  {
   "cell_type": "code",
   "execution_count": 98,
   "metadata": {},
   "outputs": [
    {
     "ename": "AttributeError",
     "evalue": "'dict' object has no attribute 'loc'",
     "output_type": "error",
     "traceback": [
      "\u001b[0;31m---------------------------------------------------------------------------\u001b[0m",
      "\u001b[0;31mAttributeError\u001b[0m                            Traceback (most recent call last)",
      "\u001b[0;32m<ipython-input-98-5d91a1b70c66>\u001b[0m in \u001b[0;36m<module>\u001b[0;34m\u001b[0m\n\u001b[0;32m----> 1\u001b[0;31m \u001b[0mlocation\u001b[0m \u001b[0;34m=\u001b[0m \u001b[0mdata\u001b[0m\u001b[0;34m.\u001b[0m\u001b[0mloc\u001b[0m\u001b[0;34m[\u001b[0m\u001b[0mdata\u001b[0m\u001b[0;34m.\u001b[0m\u001b[0mfacility_name\u001b[0m \u001b[0;34m==\u001b[0m \u001b[0;34m'St. Anthony Medical Clinic'\u001b[0m\u001b[0;34m]\u001b[0m\u001b[0;34m\u001b[0m\u001b[0;34m\u001b[0m\u001b[0m\n\u001b[0m\u001b[1;32m      2\u001b[0m \u001b[0;34m\u001b[0m\u001b[0m\n\u001b[1;32m      3\u001b[0m \u001b[0max\u001b[0m \u001b[0;34m=\u001b[0m \u001b[0mgeoplot\u001b[0m\u001b[0;34m.\u001b[0m\u001b[0mpolyplot\u001b[0m\u001b[0;34m(\u001b[0m\u001b[0mlocation\u001b[0m\u001b[0;34m,\u001b[0m \u001b[0mprojection\u001b[0m\u001b[0;34m=\u001b[0m\u001b[0mgeoplot\u001b[0m\u001b[0;34m.\u001b[0m\u001b[0mcrs\u001b[0m\u001b[0;34m.\u001b[0m\u001b[0mRobinson\u001b[0m\u001b[0;34m(\u001b[0m\u001b[0;34m)\u001b[0m\u001b[0;34m)\u001b[0m\u001b[0;34m\u001b[0m\u001b[0;34m\u001b[0m\u001b[0m\n\u001b[1;32m      4\u001b[0m \u001b[0;34m\u001b[0m\u001b[0m\n\u001b[1;32m      5\u001b[0m \u001b[0max\u001b[0m\u001b[0;34m.\u001b[0m\u001b[0moutline_patch\u001b[0m\u001b[0;34m.\u001b[0m\u001b[0mset_visible\u001b[0m\u001b[0;34m(\u001b[0m\u001b[0;32mTrue\u001b[0m\u001b[0;34m)\u001b[0m  \u001b[0;31m# show the map outline\u001b[0m\u001b[0;34m\u001b[0m\u001b[0;34m\u001b[0m\u001b[0m\n",
      "\u001b[0;31mAttributeError\u001b[0m: 'dict' object has no attribute 'loc'"
     ]
    }
   ],
   "source": [
    "location = data.loc[data.facility_name == 'St. Anthony Medical Clinic']\n",
    "\n",
    "ax = geoplot.polyplot(location, projection=geoplot.crs.Robinson())\n",
    "\n",
    "ax.outline_patch.set_visible(True)  # show the map outline\n",
    "\n",
    "plt.show()"
   ]
  },
  {
   "cell_type": "code",
   "execution_count": 48,
   "metadata": {},
   "outputs": [],
   "source": [
    "# Found this online about working with URLs\n",
    "import requests\n",
    "url = 'https://data.sfgov.org/resource/jhsu-2pka.geojson'\n",
    "response = requests.get(url)\n",
    "data = response.json()\n",
    "df = pd.io.json.json_normalize(data['features'])"
   ]
  },
  {
   "cell_type": "code",
   "execution_count": 50,
   "metadata": {},
   "outputs": [
    {
     "ename": "AttributeError",
     "evalue": "'Series' object has no attribute 'startswith'",
     "output_type": "error",
     "traceback": [
      "\u001b[0;31m---------------------------------------------------------------------------\u001b[0m",
      "\u001b[0;31mAttributeError\u001b[0m                            Traceback (most recent call last)",
      "\u001b[0;32m<ipython-input-50-6b98e78a223d>\u001b[0m in \u001b[0;36m<module>\u001b[0;34m\u001b[0m\n\u001b[1;32m      2\u001b[0m \u001b[0;32mimport\u001b[0m \u001b[0mgeoplot\u001b[0m\u001b[0;34m\u001b[0m\u001b[0;34m\u001b[0m\u001b[0m\n\u001b[1;32m      3\u001b[0m \u001b[0;34m\u001b[0m\u001b[0m\n\u001b[0;32m----> 4\u001b[0;31m \u001b[0mhospitals\u001b[0m \u001b[0;34m=\u001b[0m \u001b[0mgpd\u001b[0m\u001b[0;34m.\u001b[0m\u001b[0mread_file\u001b[0m\u001b[0;34m(\u001b[0m\u001b[0mgdf\u001b[0m \u001b[0;34m[\u001b[0m\u001b[0;34m'location'\u001b[0m\u001b[0;34m]\u001b[0m\u001b[0;34m)\u001b[0m\u001b[0;34m\u001b[0m\u001b[0;34m\u001b[0m\u001b[0m\n\u001b[0m\u001b[1;32m      5\u001b[0m \u001b[0;34m\u001b[0m\u001b[0m\n\u001b[1;32m      6\u001b[0m \u001b[0max\u001b[0m \u001b[0;34m=\u001b[0m \u001b[0mgeoplot\u001b[0m\u001b[0;34m.\u001b[0m\u001b[0mpointplot\u001b[0m\u001b[0;34m(\u001b[0m\u001b[0mhospitals\u001b[0m\u001b[0;34m,\u001b[0m \u001b[0ms\u001b[0m \u001b[0;34m=\u001b[0m \u001b[0;36m1\u001b[0m\u001b[0;34m)\u001b[0m  \u001b[0;31m# size of each point\u001b[0m\u001b[0;34m\u001b[0m\u001b[0;34m\u001b[0m\u001b[0m\n",
      "\u001b[0;32m/srv/app/venv/lib/python3.6/site-packages/geopandas/io/file.py\u001b[0m in \u001b[0;36mread_file\u001b[0;34m(filename, **kwargs)\u001b[0m\n\u001b[1;32m     17\u001b[0m     \"\"\"\n\u001b[1;32m     18\u001b[0m     \u001b[0mbbox\u001b[0m \u001b[0;34m=\u001b[0m \u001b[0mkwargs\u001b[0m\u001b[0;34m.\u001b[0m\u001b[0mpop\u001b[0m\u001b[0;34m(\u001b[0m\u001b[0;34m'bbox'\u001b[0m\u001b[0;34m,\u001b[0m \u001b[0;32mNone\u001b[0m\u001b[0;34m)\u001b[0m\u001b[0;34m\u001b[0m\u001b[0;34m\u001b[0m\u001b[0m\n\u001b[0;32m---> 19\u001b[0;31m     \u001b[0;32mwith\u001b[0m \u001b[0mfiona\u001b[0m\u001b[0;34m.\u001b[0m\u001b[0mopen\u001b[0m\u001b[0;34m(\u001b[0m\u001b[0mfilename\u001b[0m\u001b[0;34m,\u001b[0m \u001b[0;34m**\u001b[0m\u001b[0mkwargs\u001b[0m\u001b[0;34m)\u001b[0m \u001b[0;32mas\u001b[0m \u001b[0mf\u001b[0m\u001b[0;34m:\u001b[0m\u001b[0;34m\u001b[0m\u001b[0;34m\u001b[0m\u001b[0m\n\u001b[0m\u001b[1;32m     20\u001b[0m         \u001b[0mcrs\u001b[0m \u001b[0;34m=\u001b[0m \u001b[0mf\u001b[0m\u001b[0;34m.\u001b[0m\u001b[0mcrs\u001b[0m\u001b[0;34m\u001b[0m\u001b[0;34m\u001b[0m\u001b[0m\n\u001b[1;32m     21\u001b[0m         \u001b[0;32mif\u001b[0m \u001b[0mbbox\u001b[0m \u001b[0;32mis\u001b[0m \u001b[0;32mnot\u001b[0m \u001b[0;32mNone\u001b[0m\u001b[0;34m:\u001b[0m\u001b[0;34m\u001b[0m\u001b[0;34m\u001b[0m\u001b[0m\n",
      "\u001b[0;32m/srv/app/venv/lib/python3.6/site-packages/fiona/env.py\u001b[0m in \u001b[0;36mwrapper\u001b[0;34m(*args, **kwargs)\u001b[0m\n\u001b[1;32m    405\u001b[0m             \u001b[0;32mwith\u001b[0m \u001b[0mEnv\u001b[0m\u001b[0;34m.\u001b[0m\u001b[0mfrom_defaults\u001b[0m\u001b[0;34m(\u001b[0m\u001b[0msession\u001b[0m\u001b[0;34m=\u001b[0m\u001b[0msession\u001b[0m\u001b[0;34m)\u001b[0m\u001b[0;34m:\u001b[0m\u001b[0;34m\u001b[0m\u001b[0;34m\u001b[0m\u001b[0m\n\u001b[1;32m    406\u001b[0m                 \u001b[0mlog\u001b[0m\u001b[0;34m.\u001b[0m\u001b[0mdebug\u001b[0m\u001b[0;34m(\u001b[0m\u001b[0;34m\"Credentialized: {!r}\"\u001b[0m\u001b[0;34m.\u001b[0m\u001b[0mformat\u001b[0m\u001b[0;34m(\u001b[0m\u001b[0mgetenv\u001b[0m\u001b[0;34m(\u001b[0m\u001b[0;34m)\u001b[0m\u001b[0;34m)\u001b[0m\u001b[0;34m)\u001b[0m\u001b[0;34m\u001b[0m\u001b[0;34m\u001b[0m\u001b[0m\n\u001b[0;32m--> 407\u001b[0;31m                 \u001b[0;32mreturn\u001b[0m \u001b[0mf\u001b[0m\u001b[0;34m(\u001b[0m\u001b[0;34m*\u001b[0m\u001b[0margs\u001b[0m\u001b[0;34m,\u001b[0m \u001b[0;34m**\u001b[0m\u001b[0mkwargs\u001b[0m\u001b[0;34m)\u001b[0m\u001b[0;34m\u001b[0m\u001b[0;34m\u001b[0m\u001b[0m\n\u001b[0m\u001b[1;32m    408\u001b[0m     \u001b[0;32mreturn\u001b[0m \u001b[0mwrapper\u001b[0m\u001b[0;34m\u001b[0m\u001b[0;34m\u001b[0m\u001b[0m\n\u001b[1;32m    409\u001b[0m \u001b[0;34m\u001b[0m\u001b[0m\n",
      "\u001b[0;32m/srv/app/venv/lib/python3.6/site-packages/fiona/__init__.py\u001b[0m in \u001b[0;36mopen\u001b[0;34m(fp, mode, driver, schema, crs, encoding, layer, vfs, enabled_drivers, crs_wkt, **kwargs)\u001b[0m\n\u001b[1;32m    248\u001b[0m             \u001b[0mpath\u001b[0m \u001b[0;34m=\u001b[0m \u001b[0mParsedPath\u001b[0m\u001b[0;34m(\u001b[0m\u001b[0mpath\u001b[0m\u001b[0;34m,\u001b[0m \u001b[0marchive\u001b[0m\u001b[0;34m,\u001b[0m \u001b[0mscheme\u001b[0m\u001b[0;34m)\u001b[0m\u001b[0;34m\u001b[0m\u001b[0;34m\u001b[0m\u001b[0m\n\u001b[1;32m    249\u001b[0m         \u001b[0;32melse\u001b[0m\u001b[0;34m:\u001b[0m\u001b[0;34m\u001b[0m\u001b[0;34m\u001b[0m\u001b[0m\n\u001b[0;32m--> 250\u001b[0;31m             \u001b[0mpath\u001b[0m \u001b[0;34m=\u001b[0m \u001b[0mparse_path\u001b[0m\u001b[0;34m(\u001b[0m\u001b[0mfp\u001b[0m\u001b[0;34m)\u001b[0m\u001b[0;34m\u001b[0m\u001b[0;34m\u001b[0m\u001b[0m\n\u001b[0m\u001b[1;32m    251\u001b[0m \u001b[0;34m\u001b[0m\u001b[0m\n\u001b[1;32m    252\u001b[0m         \u001b[0;32mif\u001b[0m \u001b[0mmode\u001b[0m \u001b[0;32min\u001b[0m \u001b[0;34m(\u001b[0m\u001b[0;34m'a'\u001b[0m\u001b[0;34m,\u001b[0m \u001b[0;34m'r'\u001b[0m\u001b[0;34m)\u001b[0m\u001b[0;34m:\u001b[0m\u001b[0;34m\u001b[0m\u001b[0;34m\u001b[0m\u001b[0m\n",
      "\u001b[0;32m/srv/app/venv/lib/python3.6/site-packages/fiona/path.py\u001b[0m in \u001b[0;36mparse_path\u001b[0;34m(path)\u001b[0m\n\u001b[1;32m    130\u001b[0m         \u001b[0;32mreturn\u001b[0m \u001b[0mUnparsedPath\u001b[0m\u001b[0;34m(\u001b[0m\u001b[0mpath\u001b[0m\u001b[0;34m)\u001b[0m\u001b[0;34m\u001b[0m\u001b[0;34m\u001b[0m\u001b[0m\n\u001b[1;32m    131\u001b[0m \u001b[0;34m\u001b[0m\u001b[0m\n\u001b[0;32m--> 132\u001b[0;31m     \u001b[0;32melif\u001b[0m \u001b[0mpath\u001b[0m\u001b[0;34m.\u001b[0m\u001b[0mstartswith\u001b[0m\u001b[0;34m(\u001b[0m\u001b[0;34m'/vsi'\u001b[0m\u001b[0;34m)\u001b[0m\u001b[0;34m:\u001b[0m\u001b[0;34m\u001b[0m\u001b[0;34m\u001b[0m\u001b[0m\n\u001b[0m\u001b[1;32m    133\u001b[0m         \u001b[0;32mreturn\u001b[0m \u001b[0mUnparsedPath\u001b[0m\u001b[0;34m(\u001b[0m\u001b[0mpath\u001b[0m\u001b[0;34m)\u001b[0m\u001b[0;34m\u001b[0m\u001b[0;34m\u001b[0m\u001b[0m\n\u001b[1;32m    134\u001b[0m \u001b[0;34m\u001b[0m\u001b[0m\n",
      "\u001b[0;32m/srv/app/venv/lib/python3.6/site-packages/pandas/core/generic.py\u001b[0m in \u001b[0;36m__getattr__\u001b[0;34m(self, name)\u001b[0m\n\u001b[1;32m   4374\u001b[0m             \u001b[0;32mif\u001b[0m \u001b[0mself\u001b[0m\u001b[0;34m.\u001b[0m\u001b[0m_info_axis\u001b[0m\u001b[0;34m.\u001b[0m\u001b[0m_can_hold_identifiers_and_holds_name\u001b[0m\u001b[0;34m(\u001b[0m\u001b[0mname\u001b[0m\u001b[0;34m)\u001b[0m\u001b[0;34m:\u001b[0m\u001b[0;34m\u001b[0m\u001b[0;34m\u001b[0m\u001b[0m\n\u001b[1;32m   4375\u001b[0m                 \u001b[0;32mreturn\u001b[0m \u001b[0mself\u001b[0m\u001b[0;34m[\u001b[0m\u001b[0mname\u001b[0m\u001b[0;34m]\u001b[0m\u001b[0;34m\u001b[0m\u001b[0;34m\u001b[0m\u001b[0m\n\u001b[0;32m-> 4376\u001b[0;31m             \u001b[0;32mreturn\u001b[0m \u001b[0mobject\u001b[0m\u001b[0;34m.\u001b[0m\u001b[0m__getattribute__\u001b[0m\u001b[0;34m(\u001b[0m\u001b[0mself\u001b[0m\u001b[0;34m,\u001b[0m \u001b[0mname\u001b[0m\u001b[0;34m)\u001b[0m\u001b[0;34m\u001b[0m\u001b[0;34m\u001b[0m\u001b[0m\n\u001b[0m\u001b[1;32m   4377\u001b[0m \u001b[0;34m\u001b[0m\u001b[0m\n\u001b[1;32m   4378\u001b[0m     \u001b[0;32mdef\u001b[0m \u001b[0m__setattr__\u001b[0m\u001b[0;34m(\u001b[0m\u001b[0mself\u001b[0m\u001b[0;34m,\u001b[0m \u001b[0mname\u001b[0m\u001b[0;34m,\u001b[0m \u001b[0mvalue\u001b[0m\u001b[0;34m)\u001b[0m\u001b[0;34m:\u001b[0m\u001b[0;34m\u001b[0m\u001b[0;34m\u001b[0m\u001b[0m\n",
      "\u001b[0;31mAttributeError\u001b[0m: 'Series' object has no attribute 'startswith'"
     ]
    }
   ],
   "source": [
    "%%capture\n",
    "!pip install geoplot;\n",
    "import geoplot\n",
    "\n",
    "hospitals = gpd.read_file(gdf ['location'])\n",
    "\n",
    "ax = geoplot.pointplot(hospitals, s = 1)  # size of each point\n",
    "\n",
    "ax.set_title(\"Healthcare Facilities in SF\")\n",
    "\n",
    "plt.show()"
   ]
  },
  {
   "cell_type": "markdown",
   "metadata": {},
   "source": [
    "### This clearly ain't working - I think the problem is the URL sourcing - let's move the Json data on to datahub and work from there!"
   ]
  },
  {
   "cell_type": "code",
   "execution_count": 74,
   "metadata": {},
   "outputs": [],
   "source": [
    "# Let's do this for healthcare facilities first\n",
    "\n",
    "import geopandas as gpd\n",
    "import matplotlib.pyplot as plt"
   ]
  },
  {
   "cell_type": "code",
   "execution_count": 75,
   "metadata": {
    "scrolled": true
   },
   "outputs": [
    {
     "name": "stdout",
     "output_type": "stream",
     "text": [
      "Requirement already satisfied: geopandas in /srv/app/venv/lib/python3.6/site-packages\n",
      "Requirement already satisfied: matplotlib in /srv/app/venv/lib/python3.6/site-packages\n",
      "Requirement already satisfied: descartes in /srv/app/venv/lib/python3.6/site-packages (from geopandas)\n",
      "Requirement already satisfied: pandas in /srv/app/venv/lib/python3.6/site-packages (from geopandas)\n",
      "Requirement already satisfied: fiona in /srv/app/venv/lib/python3.6/site-packages (from geopandas)\n",
      "Requirement already satisfied: pyproj in /srv/app/venv/lib/python3.6/site-packages (from geopandas)\n",
      "Requirement already satisfied: shapely in /srv/app/venv/lib/python3.6/site-packages (from geopandas)\n",
      "Requirement already satisfied: numpy>=1.11 in /srv/app/venv/lib/python3.6/site-packages (from matplotlib)\n",
      "Requirement already satisfied: kiwisolver>=1.0.1 in /srv/app/venv/lib/python3.6/site-packages (from matplotlib)\n",
      "Requirement already satisfied: pyparsing!=2.0.4,!=2.1.2,!=2.1.6,>=2.0.1 in /srv/app/venv/lib/python3.6/site-packages (from matplotlib)\n",
      "Requirement already satisfied: cycler>=0.10 in /srv/app/venv/lib/python3.6/site-packages (from matplotlib)\n",
      "Requirement already satisfied: python-dateutil>=2.1 in /srv/app/venv/lib/python3.6/site-packages (from matplotlib)\n",
      "Requirement already satisfied: pytz>=2011k in /srv/app/venv/lib/python3.6/site-packages (from pandas->geopandas)\n",
      "Requirement already satisfied: click-plugins>=1.0 in /srv/app/venv/lib/python3.6/site-packages (from fiona->geopandas)\n",
      "Requirement already satisfied: cligj>=0.5 in /srv/app/venv/lib/python3.6/site-packages (from fiona->geopandas)\n",
      "Requirement already satisfied: click<8,>=4.0 in /srv/app/venv/lib/python3.6/site-packages (from fiona->geopandas)\n",
      "Requirement already satisfied: munch in /srv/app/venv/lib/python3.6/site-packages (from fiona->geopandas)\n",
      "Requirement already satisfied: six>=1.7 in /srv/app/venv/lib/python3.6/site-packages (from fiona->geopandas)\n",
      "Requirement already satisfied: attrs>=17 in /srv/app/venv/lib/python3.6/site-packages (from fiona->geopandas)\n",
      "Requirement already satisfied: setuptools in /srv/app/venv/lib/python3.6/site-packages (from kiwisolver>=1.0.1->matplotlib)\n",
      "\u001b[33mYou are using pip version 9.0.3, however version 20.0.2 is available.\n",
      "You should consider upgrading via the 'pip install --upgrade pip' command.\u001b[0m\n",
      "Note: you may need to restart the kernel to use updated packages.\n"
     ]
    }
   ],
   "source": [
    "pip install geopandas matplotlib"
   ]
  },
  {
   "cell_type": "code",
   "execution_count": 76,
   "metadata": {},
   "outputs": [],
   "source": [
    "%matplotlib inline"
   ]
  },
  {
   "cell_type": "code",
   "execution_count": 77,
   "metadata": {},
   "outputs": [],
   "source": [
    "#Make sure I have a big enough window\n",
    "plt.rcParams['figure.figsize'] = (20, 10)"
   ]
  },
  {
   "cell_type": "code",
   "execution_count": 89,
   "metadata": {},
   "outputs": [],
   "source": [
    "df1_places = gpd.read_file('Health Care Facilities.geojson')\n",
    "df1_admin = gpd.read_file('Health Care Facilities.geojson')"
   ]
  },
  {
   "cell_type": "code",
   "execution_count": 90,
   "metadata": {},
   "outputs": [
    {
     "data": {
      "image/png": "[encoded data removed]",
      "text/plain": [
       "<Figure size 1440x720 with 1 Axes>"
      ]
     },
     "metadata": {
      "needs_background": "light"
     },
     "output_type": "display_data"
    }
   ],
   "source": [
    "ax = df1_admin.plot(color='blue')"
   ]
  },
  {
   "cell_type": "code",
   "execution_count": null,
   "metadata": {},
   "outputs": [],
   "source": [
    "# It seems to work, now let's do it for the transit network!"
   ]
  },
  {
   "cell_type": "code",
   "execution_count": 87,
   "metadata": {},
   "outputs": [],
   "source": [
    "df2_places = gpd.read_file('Muni Simple Routes.geojson')\n",
    "df2_admin = gpd.read_file('Muni Simple Routes.geojson')"
   ]
  },
  {
   "cell_type": "code",
   "execution_count": 88,
   "metadata": {},
   "outputs": [
    {
     "data": {
      "image/png": "[encoded data removed]",
      "text/plain": [
       "<Figure size 1440x720 with 1 Axes>"
      ]
     },
     "metadata": {
      "needs_background": "light"
     },
     "output_type": "display_data"
    }
   ],
   "source": [
    "ax = df2_admin.plot(color='red')"
   ]
  },
  {
   "cell_type": "code",
   "execution_count": 95,
   "metadata": {
    "scrolled": true
   },
   "outputs": [
    {
     "data": {
      "text/plain": [
       "<matplotlib.axes._subplots.AxesSubplot at 0x7fb6012bff28>"
      ]
     },
     "execution_count": 95,
     "metadata": {},
     "output_type": "execute_result"
    },
    {
     "data": {
      "image/png": "[encoded data removed]",
      "text/plain": [
       "<Figure size 1440x720 with 1 Axes>"
      ]
     },
     "metadata": {
      "needs_background": "light"
     },
     "output_type": "display_data"
    },
    {
     "data": {
      "image/png": "[encoded data removed]",
      "text/plain": [
       "<Figure size 1440x720 with 1 Axes>"
      ]
     },
     "metadata": {
      "needs_background": "light"
     },
     "output_type": "display_data"
    }
   ],
   "source": [
    "# Can they be on the same map?\n",
    "ax = df1_admin.plot(color='blue')\n",
    "df2_admin.plot(color='red')"
   ]
  },
  {
   "cell_type": "code",
   "execution_count": 112,
   "metadata": {},
   "outputs": [
    {
     "data": {
      "text/plain": [
       "<matplotlib.axes._subplots.AxesSubplot at 0x7fb600da2b70>"
      ]
     },
     "execution_count": 112,
     "metadata": {},
     "output_type": "execute_result"
    },
    {
     "data": {
      "image/png": "[encoded data removed]",
      "text/plain": [
       "<Figure size 1440x720 with 1 Axes>"
      ]
     },
     "metadata": {
      "needs_background": "light"
     },
     "output_type": "display_data"
    }
   ],
   "source": [
    "#Want to get these in the same map! - What does the web say?\n",
    "    \n",
    "ax = df1_admin.plot(color='blue', zorder=2)\n",
    "\n",
    "df2_admin.plot(ax=ax, color='red', zorder=1)"
   ]
  },
  {
   "cell_type": "code",
   "execution_count": null,
   "metadata": {},
   "outputs": [],
   "source": [
    "# Successsssss!"
   ]
  },
  {
   "cell_type": "code",
   "execution_count": 2,
   "metadata": {},
   "outputs": [],
   "source": [
    "#Let's start by using pandas\n",
    "import pandas as pd"
   ]
  },
  {
   "cell_type": "code",
   "execution_count": 3,
   "metadata": {},
   "outputs": [
    {
     "data": {
      "text/html": [
       "<div>\n",
       "<style scoped>\n",
       "    .dataframe tbody tr th:only-of-type {\n",
       "        vertical-align: middle;\n",
       "    }\n",
       "\n",
       "    .dataframe tbody tr th {\n",
       "        vertical-align: top;\n",
       "    }\n",
       "\n",
       "    .dataframe thead th {\n",
       "        text-align: right;\n",
       "    }\n",
       "</style>\n",
       "<table border=\"1\" class=\"dataframe\">\n",
       "  <thead>\n",
       "    <tr style=\"text-align: right;\">\n",
       "      <th></th>\n",
       "      <th>ACTION_TAKEN</th>\n",
       "      <th>CALL_DATE</th>\n",
       "      <th>CALL_FROM</th>\n",
       "      <th>CALL_TIME</th>\n",
       "      <th>Category</th>\n",
       "      <th>Message search terms</th>\n",
       "      <th>Sub Category</th>\n",
       "      <th>Sum of Incidents</th>\n",
       "      <th>Sum of Vehicle Delay Time</th>\n",
       "      <th>Measure Param</th>\n",
       "      <th>...</th>\n",
       "      <th>VEHICLE</th>\n",
       "      <th>VEHICLE_DELAY_TIME_END</th>\n",
       "      <th>VEHICLE_DELAY_TIME_START</th>\n",
       "      <th>VEHICLE_NEW</th>\n",
       "      <th>VEHICLE_NEW_NUM_1</th>\n",
       "      <th>VEHICLE_NEW_NUM_2</th>\n",
       "      <th>VEH_DELAY</th>\n",
       "      <th>VIA</th>\n",
       "      <th>Veh_Delay_Time (copy)</th>\n",
       "      <th>Vehicle Delay Minutes per Incident</th>\n",
       "    </tr>\n",
       "  </thead>\n",
       "  <tbody>\n",
       "    <tr>\n",
       "      <th>0</th>\n",
       "      <td>5T61 RESPONDED, SFPD 3B12D , MEDIC 74 TRANSPOR...</td>\n",
       "      <td>1/27/2020</td>\n",
       "      <td>4C22</td>\n",
       "      <td>18:43</td>\n",
       "      <td>Passenger Incident</td>\n",
       "      <td>0</td>\n",
       "      <td>Intoxicated Passenger</td>\n",
       "      <td>1</td>\n",
       "      <td>65.0</td>\n",
       "      <td>1</td>\n",
       "      <td>...</td>\n",
       "      <td>1457</td>\n",
       "      <td>1/27/2020 19:48</td>\n",
       "      <td>1/27/2020 18:43</td>\n",
       "      <td>NaN</td>\n",
       "      <td>NaN</td>\n",
       "      <td>NaN</td>\n",
       "      <td>18:43 - 19:48</td>\n",
       "      <td>R</td>\n",
       "      <td>65.0</td>\n",
       "      <td>65.0</td>\n",
       "    </tr>\n",
       "    <tr>\n",
       "      <th>1</th>\n",
       "      <td>MEDIC 52  CAD #  3868 NOTIFIED AND RESPONDED /...</td>\n",
       "      <td>1/25/2020</td>\n",
       "      <td>OPERATOR</td>\n",
       "      <td>23:16</td>\n",
       "      <td>Passenger Incident</td>\n",
       "      <td>0</td>\n",
       "      <td>Intoxicated Passenger</td>\n",
       "      <td>1</td>\n",
       "      <td>54.0</td>\n",
       "      <td>1</td>\n",
       "      <td>...</td>\n",
       "      <td>5706</td>\n",
       "      <td>1/27/2020 0:10</td>\n",
       "      <td>1/26/2020 23:16</td>\n",
       "      <td>NaN</td>\n",
       "      <td>NaN</td>\n",
       "      <td>NaN</td>\n",
       "      <td>23:16 - 00:10</td>\n",
       "      <td>R</td>\n",
       "      <td>54.0</td>\n",
       "      <td>54.0</td>\n",
       "    </tr>\n",
       "    <tr>\n",
       "      <th>2</th>\n",
       "      <td>SFPD CAD# 52640, UNIT# 3113D, MOBILE 148  RESP...</td>\n",
       "      <td>1/25/2020</td>\n",
       "      <td>OPERATOR</td>\n",
       "      <td>17:00</td>\n",
       "      <td>Passenger Incident</td>\n",
       "      <td>0</td>\n",
       "      <td>Intoxicated Passenger</td>\n",
       "      <td>1</td>\n",
       "      <td>81.0</td>\n",
       "      <td>1</td>\n",
       "      <td>...</td>\n",
       "      <td>8819</td>\n",
       "      <td>1/25/2020 18:21</td>\n",
       "      <td>1/25/2020 17:00</td>\n",
       "      <td>NaN</td>\n",
       "      <td>NaN</td>\n",
       "      <td>NaN</td>\n",
       "      <td>17:00 - 18:21</td>\n",
       "      <td>R</td>\n",
       "      <td>81.0</td>\n",
       "      <td>81.0</td>\n",
       "    </tr>\n",
       "    <tr>\n",
       "      <th>3</th>\n",
       "      <td>1C-17B GAMEZ NOTIFIED TMC 6 REQUESTING SFPD. R...</td>\n",
       "      <td>1/24/2020</td>\n",
       "      <td>OPERATOR</td>\n",
       "      <td>16:02</td>\n",
       "      <td>Passenger Incident</td>\n",
       "      <td>0</td>\n",
       "      <td>Intoxicated Passenger</td>\n",
       "      <td>1</td>\n",
       "      <td>138.0</td>\n",
       "      <td>1</td>\n",
       "      <td>...</td>\n",
       "      <td>6618</td>\n",
       "      <td>1/24/2020 18:20</td>\n",
       "      <td>1/24/2020 16:02</td>\n",
       "      <td>NaN</td>\n",
       "      <td>NaN</td>\n",
       "      <td>NaN</td>\n",
       "      <td>16:02 - 18:20</td>\n",
       "      <td>R</td>\n",
       "      <td>138.0</td>\n",
       "      <td>138.0</td>\n",
       "    </tr>\n",
       "    <tr>\n",
       "      <th>4</th>\n",
       "      <td>5T-64/PITCHER RESPONDED AND CLEARED. NO DELAY ...</td>\n",
       "      <td>1/22/2020</td>\n",
       "      <td>OPERATOR</td>\n",
       "      <td>19:27</td>\n",
       "      <td>Passenger Incident</td>\n",
       "      <td>0</td>\n",
       "      <td>Intoxicated Passenger</td>\n",
       "      <td>1</td>\n",
       "      <td>NaN</td>\n",
       "      <td>1</td>\n",
       "      <td>...</td>\n",
       "      <td>1539-1487</td>\n",
       "      <td>NaN</td>\n",
       "      <td>NaN</td>\n",
       "      <td>NaN</td>\n",
       "      <td>NaN</td>\n",
       "      <td>NaN</td>\n",
       "      <td>00:00 - 00:00</td>\n",
       "      <td>R</td>\n",
       "      <td>NaN</td>\n",
       "      <td>NaN</td>\n",
       "    </tr>\n",
       "  </tbody>\n",
       "</table>\n",
       "<p>5 rows × 50 columns</p>\n",
       "</div>"
      ],
      "text/plain": [
       "                                        ACTION_TAKEN  CALL_DATE CALL_FROM  \\\n",
       "0  5T61 RESPONDED, SFPD 3B12D , MEDIC 74 TRANSPOR...  1/27/2020      4C22   \n",
       "1  MEDIC 52  CAD #  3868 NOTIFIED AND RESPONDED /...  1/25/2020  OPERATOR   \n",
       "2  SFPD CAD# 52640, UNIT# 3113D, MOBILE 148  RESP...  1/25/2020  OPERATOR   \n",
       "3  1C-17B GAMEZ NOTIFIED TMC 6 REQUESTING SFPD. R...  1/24/2020  OPERATOR   \n",
       "4  5T-64/PITCHER RESPONDED AND CLEARED. NO DELAY ...  1/22/2020  OPERATOR   \n",
       "\n",
       "  CALL_TIME            Category  Message search terms           Sub Category  \\\n",
       "0     18:43  Passenger Incident                     0  Intoxicated Passenger   \n",
       "1     23:16  Passenger Incident                     0  Intoxicated Passenger   \n",
       "2     17:00  Passenger Incident                     0  Intoxicated Passenger   \n",
       "3     16:02  Passenger Incident                     0  Intoxicated Passenger   \n",
       "4     19:27  Passenger Incident                     0  Intoxicated Passenger   \n",
       "\n",
       "   Sum of Incidents  Sum of Vehicle Delay Time  Measure Param  \\\n",
       "0                 1                       65.0              1   \n",
       "1                 1                       54.0              1   \n",
       "2                 1                       81.0              1   \n",
       "3                 1                      138.0              1   \n",
       "4                 1                        NaN              1   \n",
       "\n",
       "                 ...                    VEHICLE VEHICLE_DELAY_TIME_END  \\\n",
       "0                ...                       1457        1/27/2020 19:48   \n",
       "1                ...                       5706         1/27/2020 0:10   \n",
       "2                ...                       8819        1/25/2020 18:21   \n",
       "3                ...                       6618        1/24/2020 18:20   \n",
       "4                ...                  1539-1487                    NaN   \n",
       "\n",
       "  VEHICLE_DELAY_TIME_START VEHICLE_NEW VEHICLE_NEW_NUM_1 VEHICLE_NEW_NUM_2  \\\n",
       "0          1/27/2020 18:43         NaN               NaN               NaN   \n",
       "1          1/26/2020 23:16         NaN               NaN               NaN   \n",
       "2          1/25/2020 17:00         NaN               NaN               NaN   \n",
       "3          1/24/2020 16:02         NaN               NaN               NaN   \n",
       "4                      NaN         NaN               NaN               NaN   \n",
       "\n",
       "       VEH_DELAY VIA Veh_Delay_Time (copy) Vehicle Delay Minutes per Incident  \n",
       "0  18:43 - 19:48   R                  65.0                               65.0  \n",
       "1  23:16 - 00:10   R                  54.0                               54.0  \n",
       "2  17:00 - 18:21   R                  81.0                               81.0  \n",
       "3  16:02 - 18:20   R                 138.0                              138.0  \n",
       "4  00:00 - 00:00   R                   NaN                                NaN  \n",
       "\n",
       "[5 rows x 50 columns]"
      ]
     },
     "execution_count": 3,
     "metadata": {},
     "output_type": "execute_result"
    }
   ],
   "source": [
    "# 1!! \n",
    "\n",
    "#Import central control data\n",
    "sfmta_data = pd.read_csv(\"https://www.dropbox.com/s/k4olqc43dpgb2iu/SFMTA_intoxpassenger_2010-1.2020.csv?dl=1\")\n",
    "\n",
    "#preview the data\n",
    "sfmta_data.head()"
   ]
  },
  {
   "cell_type": "code",
   "execution_count": 4,
   "metadata": {},
   "outputs": [
    {
     "data": {
      "text/html": [
       "<div>\n",
       "<style scoped>\n",
       "    .dataframe tbody tr th:only-of-type {\n",
       "        vertical-align: middle;\n",
       "    }\n",
       "\n",
       "    .dataframe tbody tr th {\n",
       "        vertical-align: top;\n",
       "    }\n",
       "\n",
       "    .dataframe thead th {\n",
       "        text-align: right;\n",
       "    }\n",
       "</style>\n",
       "<table border=\"1\" class=\"dataframe\">\n",
       "  <thead>\n",
       "    <tr style=\"text-align: right;\">\n",
       "      <th></th>\n",
       "      <th>Message search terms</th>\n",
       "      <th>Sum of Incidents</th>\n",
       "      <th>Sum of Vehicle Delay Time</th>\n",
       "      <th>Measure Param</th>\n",
       "      <th>LOCATION_ORIGINAL</th>\n",
       "      <th>Number of Records</th>\n",
       "      <th>RUN</th>\n",
       "      <th>TAG_ID</th>\n",
       "      <th>VEHICLE_NEW_NUM_2</th>\n",
       "      <th>Veh_Delay_Time (copy)</th>\n",
       "      <th>Vehicle Delay Minutes per Incident</th>\n",
       "    </tr>\n",
       "  </thead>\n",
       "  <tbody>\n",
       "    <tr>\n",
       "      <th>count</th>\n",
       "      <td>2622.000000</td>\n",
       "      <td>2622.0</td>\n",
       "      <td>2412.000000</td>\n",
       "      <td>2622.0</td>\n",
       "      <td>0.0</td>\n",
       "      <td>2622.0</td>\n",
       "      <td>2399.000000</td>\n",
       "      <td>2.622000e+03</td>\n",
       "      <td>2.000000</td>\n",
       "      <td>2412.000000</td>\n",
       "      <td>2412.000000</td>\n",
       "    </tr>\n",
       "    <tr>\n",
       "      <th>mean</th>\n",
       "      <td>0.048818</td>\n",
       "      <td>1.0</td>\n",
       "      <td>30.615672</td>\n",
       "      <td>1.0</td>\n",
       "      <td>NaN</td>\n",
       "      <td>1.0</td>\n",
       "      <td>336.799500</td>\n",
       "      <td>1.467568e+06</td>\n",
       "      <td>1450.000000</td>\n",
       "      <td>30.615672</td>\n",
       "      <td>30.615672</td>\n",
       "    </tr>\n",
       "    <tr>\n",
       "      <th>std</th>\n",
       "      <td>0.645399</td>\n",
       "      <td>0.0</td>\n",
       "      <td>75.007996</td>\n",
       "      <td>0.0</td>\n",
       "      <td>NaN</td>\n",
       "      <td>0.0</td>\n",
       "      <td>209.871553</td>\n",
       "      <td>1.159594e+05</td>\n",
       "      <td>11.313708</td>\n",
       "      <td>75.007996</td>\n",
       "      <td>75.007996</td>\n",
       "    </tr>\n",
       "    <tr>\n",
       "      <th>min</th>\n",
       "      <td>0.000000</td>\n",
       "      <td>1.0</td>\n",
       "      <td>0.000000</td>\n",
       "      <td>1.0</td>\n",
       "      <td>NaN</td>\n",
       "      <td>1.0</td>\n",
       "      <td>0.000000</td>\n",
       "      <td>1.280143e+06</td>\n",
       "      <td>1442.000000</td>\n",
       "      <td>0.000000</td>\n",
       "      <td>0.000000</td>\n",
       "    </tr>\n",
       "    <tr>\n",
       "      <th>25%</th>\n",
       "      <td>0.000000</td>\n",
       "      <td>1.0</td>\n",
       "      <td>11.000000</td>\n",
       "      <td>1.0</td>\n",
       "      <td>NaN</td>\n",
       "      <td>1.0</td>\n",
       "      <td>148.000000</td>\n",
       "      <td>1.366055e+06</td>\n",
       "      <td>1446.000000</td>\n",
       "      <td>11.000000</td>\n",
       "      <td>11.000000</td>\n",
       "    </tr>\n",
       "    <tr>\n",
       "      <th>50%</th>\n",
       "      <td>0.000000</td>\n",
       "      <td>1.0</td>\n",
       "      <td>20.000000</td>\n",
       "      <td>1.0</td>\n",
       "      <td>NaN</td>\n",
       "      <td>1.0</td>\n",
       "      <td>317.000000</td>\n",
       "      <td>1.458756e+06</td>\n",
       "      <td>1450.000000</td>\n",
       "      <td>20.000000</td>\n",
       "      <td>20.000000</td>\n",
       "    </tr>\n",
       "    <tr>\n",
       "      <th>75%</th>\n",
       "      <td>0.000000</td>\n",
       "      <td>1.0</td>\n",
       "      <td>36.000000</td>\n",
       "      <td>1.0</td>\n",
       "      <td>NaN</td>\n",
       "      <td>1.0</td>\n",
       "      <td>477.000000</td>\n",
       "      <td>1.569520e+06</td>\n",
       "      <td>1454.000000</td>\n",
       "      <td>36.000000</td>\n",
       "      <td>36.000000</td>\n",
       "    </tr>\n",
       "    <tr>\n",
       "      <th>max</th>\n",
       "      <td>9.000000</td>\n",
       "      <td>1.0</td>\n",
       "      <td>1437.000000</td>\n",
       "      <td>1.0</td>\n",
       "      <td>NaN</td>\n",
       "      <td>1.0</td>\n",
       "      <td>978.000000</td>\n",
       "      <td>1.677508e+06</td>\n",
       "      <td>1458.000000</td>\n",
       "      <td>1437.000000</td>\n",
       "      <td>1437.000000</td>\n",
       "    </tr>\n",
       "  </tbody>\n",
       "</table>\n",
       "</div>"
      ],
      "text/plain": [
       "       Message search terms  Sum of Incidents  Sum of Vehicle Delay Time  \\\n",
       "count           2622.000000            2622.0                2412.000000   \n",
       "mean               0.048818               1.0                  30.615672   \n",
       "std                0.645399               0.0                  75.007996   \n",
       "min                0.000000               1.0                   0.000000   \n",
       "25%                0.000000               1.0                  11.000000   \n",
       "50%                0.000000               1.0                  20.000000   \n",
       "75%                0.000000               1.0                  36.000000   \n",
       "max                9.000000               1.0                1437.000000   \n",
       "\n",
       "       Measure Param  LOCATION_ORIGINAL  Number of Records          RUN  \\\n",
       "count         2622.0                0.0             2622.0  2399.000000   \n",
       "mean             1.0                NaN                1.0   336.799500   \n",
       "std              0.0                NaN                0.0   209.871553   \n",
       "min              1.0                NaN                1.0     0.000000   \n",
       "25%              1.0                NaN                1.0   148.000000   \n",
       "50%              1.0                NaN                1.0   317.000000   \n",
       "75%              1.0                NaN                1.0   477.000000   \n",
       "max              1.0                NaN                1.0   978.000000   \n",
       "\n",
       "             TAG_ID  VEHICLE_NEW_NUM_2  Veh_Delay_Time (copy)  \\\n",
       "count  2.622000e+03           2.000000            2412.000000   \n",
       "mean   1.467568e+06        1450.000000              30.615672   \n",
       "std    1.159594e+05          11.313708              75.007996   \n",
       "min    1.280143e+06        1442.000000               0.000000   \n",
       "25%    1.366055e+06        1446.000000              11.000000   \n",
       "50%    1.458756e+06        1450.000000              20.000000   \n",
       "75%    1.569520e+06        1454.000000              36.000000   \n",
       "max    1.677508e+06        1458.000000            1437.000000   \n",
       "\n",
       "       Vehicle Delay Minutes per Incident  \n",
       "count                         2412.000000  \n",
       "mean                            30.615672  \n",
       "std                             75.007996  \n",
       "min                              0.000000  \n",
       "25%                             11.000000  \n",
       "50%                             20.000000  \n",
       "75%                             36.000000  \n",
       "max                           1437.000000  "
      ]
     },
     "execution_count": 4,
     "metadata": {},
     "output_type": "execute_result"
    }
   ],
   "source": [
    "sfmta_data.describe()"
   ]
  },
  {
   "cell_type": "code",
   "execution_count": 5,
   "metadata": {
    "scrolled": true
   },
   "outputs": [
    {
     "data": {
      "text/plain": [
       "count         2622\n",
       "unique        1535\n",
       "top       2/1/2015\n",
       "freq             6\n",
       "Name: CALL_DATE, dtype: object"
      ]
     },
     "execution_count": 5,
     "metadata": {},
     "output_type": "execute_result"
    }
   ],
   "source": [
    "sfmta_data.CALL_DATE.describe()"
   ]
  },
  {
   "cell_type": "code",
   "execution_count": 6,
   "metadata": {
    "scrolled": true
   },
   "outputs": [
    {
     "data": {
      "text/plain": [
       "count      2622\n",
       "unique     1086\n",
       "top       18:42\n",
       "freq         12\n",
       "Name: CALL_TIME, dtype: object"
      ]
     },
     "execution_count": 6,
     "metadata": {},
     "output_type": "execute_result"
    }
   ],
   "source": [
    "sfmta_data.CALL_TIME.describe()"
   ]
  },
  {
   "cell_type": "code",
   "execution_count": 7,
   "metadata": {},
   "outputs": [],
   "source": [
    "sfmta_df = sfmta_data"
   ]
  },
  {
   "cell_type": "code",
   "execution_count": 8,
   "metadata": {
    "scrolled": true
   },
   "outputs": [
    {
     "data": {
      "text/plain": [
       "pandas.core.frame.DataFrame"
      ]
     },
     "execution_count": 8,
     "metadata": {},
     "output_type": "execute_result"
    }
   ],
   "source": [
    "type(sfmta_df)"
   ]
  },
  {
   "cell_type": "markdown",
   "metadata": {},
   "source": [
    "### Creating new columns for what we're going to look at"
   ]
  },
  {
   "cell_type": "code",
   "execution_count": 9,
   "metadata": {},
   "outputs": [],
   "source": [
    "sfmta_df['incident_date'] = sfmta_df['CALL_DATE']\n",
    "sfmta_df['incident_time'] = sfmta_df['CALL_TIME']\n",
    "sfmta_df['line'] = sfmta_df['LINE']\n",
    "sfmta_df['caller'] = sfmta_df['CALL_FROM']"
   ]
  },
  {
   "cell_type": "code",
   "execution_count": 10,
   "metadata": {
    "scrolled": false
   },
   "outputs": [
    {
     "data": {
      "text/html": [
       "<div>\n",
       "<style scoped>\n",
       "    .dataframe tbody tr th:only-of-type {\n",
       "        vertical-align: middle;\n",
       "    }\n",
       "\n",
       "    .dataframe tbody tr th {\n",
       "        vertical-align: top;\n",
       "    }\n",
       "\n",
       "    .dataframe thead th {\n",
       "        text-align: right;\n",
       "    }\n",
       "</style>\n",
       "<table border=\"1\" class=\"dataframe\">\n",
       "  <thead>\n",
       "    <tr style=\"text-align: right;\">\n",
       "      <th></th>\n",
       "      <th>ACTION_TAKEN</th>\n",
       "      <th>CALL_DATE</th>\n",
       "      <th>CALL_FROM</th>\n",
       "      <th>CALL_TIME</th>\n",
       "      <th>Category</th>\n",
       "      <th>Message search terms</th>\n",
       "      <th>Sub Category</th>\n",
       "      <th>Sum of Incidents</th>\n",
       "      <th>Sum of Vehicle Delay Time</th>\n",
       "      <th>Measure Param</th>\n",
       "      <th>...</th>\n",
       "      <th>VEHICLE_NEW_NUM_1</th>\n",
       "      <th>VEHICLE_NEW_NUM_2</th>\n",
       "      <th>VEH_DELAY</th>\n",
       "      <th>VIA</th>\n",
       "      <th>Veh_Delay_Time (copy)</th>\n",
       "      <th>Vehicle Delay Minutes per Incident</th>\n",
       "      <th>incident_date</th>\n",
       "      <th>incident_time</th>\n",
       "      <th>line</th>\n",
       "      <th>caller</th>\n",
       "    </tr>\n",
       "  </thead>\n",
       "  <tbody>\n",
       "    <tr>\n",
       "      <th>0</th>\n",
       "      <td>5T61 RESPONDED, SFPD 3B12D , MEDIC 74 TRANSPOR...</td>\n",
       "      <td>1/27/2020</td>\n",
       "      <td>4C22</td>\n",
       "      <td>18:43</td>\n",
       "      <td>Passenger Incident</td>\n",
       "      <td>0</td>\n",
       "      <td>Intoxicated Passenger</td>\n",
       "      <td>1</td>\n",
       "      <td>65.0</td>\n",
       "      <td>1</td>\n",
       "      <td>...</td>\n",
       "      <td>NaN</td>\n",
       "      <td>NaN</td>\n",
       "      <td>18:43 - 19:48</td>\n",
       "      <td>R</td>\n",
       "      <td>65.0</td>\n",
       "      <td>65.0</td>\n",
       "      <td>1/27/2020</td>\n",
       "      <td>18:43</td>\n",
       "      <td>M</td>\n",
       "      <td>4C22</td>\n",
       "    </tr>\n",
       "    <tr>\n",
       "      <th>1</th>\n",
       "      <td>MEDIC 52  CAD #  3868 NOTIFIED AND RESPONDED /...</td>\n",
       "      <td>1/25/2020</td>\n",
       "      <td>OPERATOR</td>\n",
       "      <td>23:16</td>\n",
       "      <td>Passenger Incident</td>\n",
       "      <td>0</td>\n",
       "      <td>Intoxicated Passenger</td>\n",
       "      <td>1</td>\n",
       "      <td>54.0</td>\n",
       "      <td>1</td>\n",
       "      <td>...</td>\n",
       "      <td>NaN</td>\n",
       "      <td>NaN</td>\n",
       "      <td>23:16 - 00:10</td>\n",
       "      <td>R</td>\n",
       "      <td>54.0</td>\n",
       "      <td>54.0</td>\n",
       "      <td>1/25/2020</td>\n",
       "      <td>23:16</td>\n",
       "      <td>6</td>\n",
       "      <td>OPERATOR</td>\n",
       "    </tr>\n",
       "    <tr>\n",
       "      <th>2</th>\n",
       "      <td>SFPD CAD# 52640, UNIT# 3113D, MOBILE 148  RESP...</td>\n",
       "      <td>1/25/2020</td>\n",
       "      <td>OPERATOR</td>\n",
       "      <td>17:00</td>\n",
       "      <td>Passenger Incident</td>\n",
       "      <td>0</td>\n",
       "      <td>Intoxicated Passenger</td>\n",
       "      <td>1</td>\n",
       "      <td>81.0</td>\n",
       "      <td>1</td>\n",
       "      <td>...</td>\n",
       "      <td>NaN</td>\n",
       "      <td>NaN</td>\n",
       "      <td>17:00 - 18:21</td>\n",
       "      <td>R</td>\n",
       "      <td>81.0</td>\n",
       "      <td>81.0</td>\n",
       "      <td>1/25/2020</td>\n",
       "      <td>17:00</td>\n",
       "      <td>29</td>\n",
       "      <td>OPERATOR</td>\n",
       "    </tr>\n",
       "    <tr>\n",
       "      <th>3</th>\n",
       "      <td>1C-17B GAMEZ NOTIFIED TMC 6 REQUESTING SFPD. R...</td>\n",
       "      <td>1/24/2020</td>\n",
       "      <td>OPERATOR</td>\n",
       "      <td>16:02</td>\n",
       "      <td>Passenger Incident</td>\n",
       "      <td>0</td>\n",
       "      <td>Intoxicated Passenger</td>\n",
       "      <td>1</td>\n",
       "      <td>138.0</td>\n",
       "      <td>1</td>\n",
       "      <td>...</td>\n",
       "      <td>NaN</td>\n",
       "      <td>NaN</td>\n",
       "      <td>16:02 - 18:20</td>\n",
       "      <td>R</td>\n",
       "      <td>138.0</td>\n",
       "      <td>138.0</td>\n",
       "      <td>1/24/2020</td>\n",
       "      <td>16:02</td>\n",
       "      <td>14R</td>\n",
       "      <td>OPERATOR</td>\n",
       "    </tr>\n",
       "    <tr>\n",
       "      <th>4</th>\n",
       "      <td>5T-64/PITCHER RESPONDED AND CLEARED. NO DELAY ...</td>\n",
       "      <td>1/22/2020</td>\n",
       "      <td>OPERATOR</td>\n",
       "      <td>19:27</td>\n",
       "      <td>Passenger Incident</td>\n",
       "      <td>0</td>\n",
       "      <td>Intoxicated Passenger</td>\n",
       "      <td>1</td>\n",
       "      <td>NaN</td>\n",
       "      <td>1</td>\n",
       "      <td>...</td>\n",
       "      <td>NaN</td>\n",
       "      <td>NaN</td>\n",
       "      <td>00:00 - 00:00</td>\n",
       "      <td>R</td>\n",
       "      <td>NaN</td>\n",
       "      <td>NaN</td>\n",
       "      <td>1/22/2020</td>\n",
       "      <td>19:27</td>\n",
       "      <td>N</td>\n",
       "      <td>OPERATOR</td>\n",
       "    </tr>\n",
       "  </tbody>\n",
       "</table>\n",
       "<p>5 rows × 54 columns</p>\n",
       "</div>"
      ],
      "text/plain": [
       "                                        ACTION_TAKEN  CALL_DATE CALL_FROM  \\\n",
       "0  5T61 RESPONDED, SFPD 3B12D , MEDIC 74 TRANSPOR...  1/27/2020      4C22   \n",
       "1  MEDIC 52  CAD #  3868 NOTIFIED AND RESPONDED /...  1/25/2020  OPERATOR   \n",
       "2  SFPD CAD# 52640, UNIT# 3113D, MOBILE 148  RESP...  1/25/2020  OPERATOR   \n",
       "3  1C-17B GAMEZ NOTIFIED TMC 6 REQUESTING SFPD. R...  1/24/2020  OPERATOR   \n",
       "4  5T-64/PITCHER RESPONDED AND CLEARED. NO DELAY ...  1/22/2020  OPERATOR   \n",
       "\n",
       "  CALL_TIME            Category  Message search terms           Sub Category  \\\n",
       "0     18:43  Passenger Incident                     0  Intoxicated Passenger   \n",
       "1     23:16  Passenger Incident                     0  Intoxicated Passenger   \n",
       "2     17:00  Passenger Incident                     0  Intoxicated Passenger   \n",
       "3     16:02  Passenger Incident                     0  Intoxicated Passenger   \n",
       "4     19:27  Passenger Incident                     0  Intoxicated Passenger   \n",
       "\n",
       "   Sum of Incidents  Sum of Vehicle Delay Time  Measure Param    ...     \\\n",
       "0                 1                       65.0              1    ...      \n",
       "1                 1                       54.0              1    ...      \n",
       "2                 1                       81.0              1    ...      \n",
       "3                 1                      138.0              1    ...      \n",
       "4                 1                        NaN              1    ...      \n",
       "\n",
       "  VEHICLE_NEW_NUM_1 VEHICLE_NEW_NUM_2      VEH_DELAY VIA  \\\n",
       "0               NaN               NaN  18:43 - 19:48   R   \n",
       "1               NaN               NaN  23:16 - 00:10   R   \n",
       "2               NaN               NaN  17:00 - 18:21   R   \n",
       "3               NaN               NaN  16:02 - 18:20   R   \n",
       "4               NaN               NaN  00:00 - 00:00   R   \n",
       "\n",
       "  Veh_Delay_Time (copy) Vehicle Delay Minutes per Incident incident_date  \\\n",
       "0                  65.0                               65.0     1/27/2020   \n",
       "1                  54.0                               54.0     1/25/2020   \n",
       "2                  81.0                               81.0     1/25/2020   \n",
       "3                 138.0                              138.0     1/24/2020   \n",
       "4                   NaN                                NaN     1/22/2020   \n",
       "\n",
       "  incident_time line    caller  \n",
       "0         18:43    M      4C22  \n",
       "1         23:16    6  OPERATOR  \n",
       "2         17:00   29  OPERATOR  \n",
       "3         16:02  14R  OPERATOR  \n",
       "4         19:27    N  OPERATOR  \n",
       "\n",
       "[5 rows x 54 columns]"
      ]
     },
     "execution_count": 10,
     "metadata": {},
     "output_type": "execute_result"
    }
   ],
   "source": [
    "#Check to make sure they made it on the table\n",
    "\n",
    "sfmta_df.head()"
   ]
  },
  {
   "cell_type": "markdown",
   "metadata": {},
   "source": [
    "### Let's make a new dataframe with select columns"
   ]
  },
  {
   "cell_type": "code",
   "execution_count": 11,
   "metadata": {},
   "outputs": [],
   "source": [
    "analysis = sfmta_df[['incident_date', 'incident_time', 'line', 'caller']].copy()"
   ]
  },
  {
   "cell_type": "code",
   "execution_count": 12,
   "metadata": {},
   "outputs": [
    {
     "data": {
      "text/html": [
       "<div>\n",
       "<style scoped>\n",
       "    .dataframe tbody tr th:only-of-type {\n",
       "        vertical-align: middle;\n",
       "    }\n",
       "\n",
       "    .dataframe tbody tr th {\n",
       "        vertical-align: top;\n",
       "    }\n",
       "\n",
       "    .dataframe thead th {\n",
       "        text-align: right;\n",
       "    }\n",
       "</style>\n",
       "<table border=\"1\" class=\"dataframe\">\n",
       "  <thead>\n",
       "    <tr style=\"text-align: right;\">\n",
       "      <th></th>\n",
       "      <th>incident_date</th>\n",
       "      <th>incident_time</th>\n",
       "      <th>line</th>\n",
       "      <th>caller</th>\n",
       "    </tr>\n",
       "  </thead>\n",
       "  <tbody>\n",
       "    <tr>\n",
       "      <th>0</th>\n",
       "      <td>1/27/2020</td>\n",
       "      <td>18:43</td>\n",
       "      <td>M</td>\n",
       "      <td>4C22</td>\n",
       "    </tr>\n",
       "    <tr>\n",
       "      <th>1</th>\n",
       "      <td>1/25/2020</td>\n",
       "      <td>23:16</td>\n",
       "      <td>6</td>\n",
       "      <td>OPERATOR</td>\n",
       "    </tr>\n",
       "    <tr>\n",
       "      <th>2</th>\n",
       "      <td>1/25/2020</td>\n",
       "      <td>17:00</td>\n",
       "      <td>29</td>\n",
       "      <td>OPERATOR</td>\n",
       "    </tr>\n",
       "    <tr>\n",
       "      <th>3</th>\n",
       "      <td>1/24/2020</td>\n",
       "      <td>16:02</td>\n",
       "      <td>14R</td>\n",
       "      <td>OPERATOR</td>\n",
       "    </tr>\n",
       "    <tr>\n",
       "      <th>4</th>\n",
       "      <td>1/22/2020</td>\n",
       "      <td>19:27</td>\n",
       "      <td>N</td>\n",
       "      <td>OPERATOR</td>\n",
       "    </tr>\n",
       "  </tbody>\n",
       "</table>\n",
       "</div>"
      ],
      "text/plain": [
       "  incident_date incident_time line    caller\n",
       "0     1/27/2020         18:43    M      4C22\n",
       "1     1/25/2020         23:16    6  OPERATOR\n",
       "2     1/25/2020         17:00   29  OPERATOR\n",
       "3     1/24/2020         16:02  14R  OPERATOR\n",
       "4     1/22/2020         19:27    N  OPERATOR"
      ]
     },
     "execution_count": 12,
     "metadata": {},
     "output_type": "execute_result"
    }
   ],
   "source": [
    "analysis.head()"
   ]
  },
  {
   "cell_type": "code",
   "execution_count": 13,
   "metadata": {
    "scrolled": false
   },
   "outputs": [
    {
     "data": {
      "text/html": [
       "<div>\n",
       "<style scoped>\n",
       "    .dataframe tbody tr th:only-of-type {\n",
       "        vertical-align: middle;\n",
       "    }\n",
       "\n",
       "    .dataframe tbody tr th {\n",
       "        vertical-align: top;\n",
       "    }\n",
       "\n",
       "    .dataframe thead th {\n",
       "        text-align: right;\n",
       "    }\n",
       "</style>\n",
       "<table border=\"1\" class=\"dataframe\">\n",
       "  <thead>\n",
       "    <tr style=\"text-align: right;\">\n",
       "      <th></th>\n",
       "      <th>incident_date</th>\n",
       "      <th>incident_time</th>\n",
       "      <th>line</th>\n",
       "      <th>caller</th>\n",
       "    </tr>\n",
       "  </thead>\n",
       "  <tbody>\n",
       "    <tr>\n",
       "      <th>count</th>\n",
       "      <td>2622</td>\n",
       "      <td>2622</td>\n",
       "      <td>2409</td>\n",
       "      <td>2622</td>\n",
       "    </tr>\n",
       "    <tr>\n",
       "      <th>unique</th>\n",
       "      <td>1535</td>\n",
       "      <td>1086</td>\n",
       "      <td>98</td>\n",
       "      <td>220</td>\n",
       "    </tr>\n",
       "    <tr>\n",
       "      <th>top</th>\n",
       "      <td>2/1/2015</td>\n",
       "      <td>18:42</td>\n",
       "      <td>14</td>\n",
       "      <td>OPERATOR</td>\n",
       "    </tr>\n",
       "    <tr>\n",
       "      <th>freq</th>\n",
       "      <td>6</td>\n",
       "      <td>12</td>\n",
       "      <td>255</td>\n",
       "      <td>2256</td>\n",
       "    </tr>\n",
       "  </tbody>\n",
       "</table>\n",
       "</div>"
      ],
      "text/plain": [
       "       incident_date incident_time  line    caller\n",
       "count           2622          2622  2409      2622\n",
       "unique          1535          1086    98       220\n",
       "top         2/1/2015         18:42    14  OPERATOR\n",
       "freq               6            12   255      2256"
      ]
     },
     "execution_count": 13,
     "metadata": {},
     "output_type": "execute_result"
    }
   ],
   "source": [
    "analysis.describe()"
   ]
  },
  {
   "cell_type": "code",
   "execution_count": 14,
   "metadata": {
    "scrolled": false
   },
   "outputs": [
    {
     "name": "stdout",
     "output_type": "stream",
     "text": [
      "<class 'pandas.core.frame.DataFrame'>\n",
      "RangeIndex: 2622 entries, 0 to 2621\n",
      "Data columns (total 4 columns):\n",
      "incident_date    2622 non-null object\n",
      "incident_time    2622 non-null object\n",
      "line             2409 non-null object\n",
      "caller           2622 non-null object\n",
      "dtypes: object(4)\n",
      "memory usage: 82.0+ KB\n"
     ]
    }
   ],
   "source": [
    "analysis.info()"
   ]
  },
  {
   "cell_type": "code",
   "execution_count": 15,
   "metadata": {},
   "outputs": [],
   "source": [
    "#Time to make time digestable\n",
    "\n",
    "analysis['time'] = pd.to_datetime(analysis['incident_time'], format='%H:%M').dt.time"
   ]
  },
  {
   "cell_type": "code",
   "execution_count": 16,
   "metadata": {},
   "outputs": [],
   "source": [
    "analysis['hour'] = pd.to_datetime(analysis['incident_time'], format='%H:%M').dt.hour"
   ]
  },
  {
   "cell_type": "code",
   "execution_count": 17,
   "metadata": {
    "scrolled": true
   },
   "outputs": [
    {
     "data": {
      "text/html": [
       "<div>\n",
       "<style scoped>\n",
       "    .dataframe tbody tr th:only-of-type {\n",
       "        vertical-align: middle;\n",
       "    }\n",
       "\n",
       "    .dataframe tbody tr th {\n",
       "        vertical-align: top;\n",
       "    }\n",
       "\n",
       "    .dataframe thead th {\n",
       "        text-align: right;\n",
       "    }\n",
       "</style>\n",
       "<table border=\"1\" class=\"dataframe\">\n",
       "  <thead>\n",
       "    <tr style=\"text-align: right;\">\n",
       "      <th></th>\n",
       "      <th>incident_date</th>\n",
       "      <th>incident_time</th>\n",
       "      <th>line</th>\n",
       "      <th>caller</th>\n",
       "      <th>time</th>\n",
       "      <th>hour</th>\n",
       "    </tr>\n",
       "  </thead>\n",
       "  <tbody>\n",
       "    <tr>\n",
       "      <th>0</th>\n",
       "      <td>1/27/2020</td>\n",
       "      <td>18:43</td>\n",
       "      <td>M</td>\n",
       "      <td>4C22</td>\n",
       "      <td>18:43:00</td>\n",
       "      <td>18</td>\n",
       "    </tr>\n",
       "    <tr>\n",
       "      <th>1</th>\n",
       "      <td>1/25/2020</td>\n",
       "      <td>23:16</td>\n",
       "      <td>6</td>\n",
       "      <td>OPERATOR</td>\n",
       "      <td>23:16:00</td>\n",
       "      <td>23</td>\n",
       "    </tr>\n",
       "    <tr>\n",
       "      <th>2</th>\n",
       "      <td>1/25/2020</td>\n",
       "      <td>17:00</td>\n",
       "      <td>29</td>\n",
       "      <td>OPERATOR</td>\n",
       "      <td>17:00:00</td>\n",
       "      <td>17</td>\n",
       "    </tr>\n",
       "    <tr>\n",
       "      <th>3</th>\n",
       "      <td>1/24/2020</td>\n",
       "      <td>16:02</td>\n",
       "      <td>14R</td>\n",
       "      <td>OPERATOR</td>\n",
       "      <td>16:02:00</td>\n",
       "      <td>16</td>\n",
       "    </tr>\n",
       "    <tr>\n",
       "      <th>4</th>\n",
       "      <td>1/22/2020</td>\n",
       "      <td>19:27</td>\n",
       "      <td>N</td>\n",
       "      <td>OPERATOR</td>\n",
       "      <td>19:27:00</td>\n",
       "      <td>19</td>\n",
       "    </tr>\n",
       "  </tbody>\n",
       "</table>\n",
       "</div>"
      ],
      "text/plain": [
       "  incident_date incident_time line    caller      time  hour\n",
       "0     1/27/2020         18:43    M      4C22  18:43:00    18\n",
       "1     1/25/2020         23:16    6  OPERATOR  23:16:00    23\n",
       "2     1/25/2020         17:00   29  OPERATOR  17:00:00    17\n",
       "3     1/24/2020         16:02  14R  OPERATOR  16:02:00    16\n",
       "4     1/22/2020         19:27    N  OPERATOR  19:27:00    19"
      ]
     },
     "execution_count": 17,
     "metadata": {},
     "output_type": "execute_result"
    }
   ],
   "source": [
    "analysis.head()"
   ]
  },
  {
   "cell_type": "code",
   "execution_count": 18,
   "metadata": {},
   "outputs": [
    {
     "data": {
      "text/html": [
       "<div>\n",
       "<style scoped>\n",
       "    .dataframe tbody tr th:only-of-type {\n",
       "        vertical-align: middle;\n",
       "    }\n",
       "\n",
       "    .dataframe tbody tr th {\n",
       "        vertical-align: top;\n",
       "    }\n",
       "\n",
       "    .dataframe thead th {\n",
       "        text-align: right;\n",
       "    }\n",
       "</style>\n",
       "<table border=\"1\" class=\"dataframe\">\n",
       "  <thead>\n",
       "    <tr style=\"text-align: right;\">\n",
       "      <th></th>\n",
       "      <th>count</th>\n",
       "      <th>mean</th>\n",
       "      <th>std</th>\n",
       "      <th>min</th>\n",
       "      <th>25%</th>\n",
       "      <th>50%</th>\n",
       "      <th>75%</th>\n",
       "      <th>max</th>\n",
       "    </tr>\n",
       "    <tr>\n",
       "      <th>line</th>\n",
       "      <th></th>\n",
       "      <th></th>\n",
       "      <th></th>\n",
       "      <th></th>\n",
       "      <th></th>\n",
       "      <th></th>\n",
       "      <th></th>\n",
       "      <th></th>\n",
       "    </tr>\n",
       "  </thead>\n",
       "  <tbody>\n",
       "    <tr>\n",
       "      <th>F</th>\n",
       "      <td>1.0</td>\n",
       "      <td>19.000000</td>\n",
       "      <td>NaN</td>\n",
       "      <td>19.0</td>\n",
       "      <td>19.00</td>\n",
       "      <td>19.0</td>\n",
       "      <td>19.00</td>\n",
       "      <td>19.0</td>\n",
       "    </tr>\n",
       "    <tr>\n",
       "      <th>1</th>\n",
       "      <td>14.0</td>\n",
       "      <td>15.357143</td>\n",
       "      <td>6.295385</td>\n",
       "      <td>0.0</td>\n",
       "      <td>10.75</td>\n",
       "      <td>17.0</td>\n",
       "      <td>19.75</td>\n",
       "      <td>23.0</td>\n",
       "    </tr>\n",
       "    <tr>\n",
       "      <th>10</th>\n",
       "      <td>7.0</td>\n",
       "      <td>16.714286</td>\n",
       "      <td>6.183696</td>\n",
       "      <td>7.0</td>\n",
       "      <td>12.50</td>\n",
       "      <td>19.0</td>\n",
       "      <td>21.50</td>\n",
       "      <td>23.0</td>\n",
       "    </tr>\n",
       "    <tr>\n",
       "      <th>103</th>\n",
       "      <td>3.0</td>\n",
       "      <td>3.333333</td>\n",
       "      <td>2.886751</td>\n",
       "      <td>0.0</td>\n",
       "      <td>2.50</td>\n",
       "      <td>5.0</td>\n",
       "      <td>5.00</td>\n",
       "      <td>5.0</td>\n",
       "    </tr>\n",
       "    <tr>\n",
       "      <th>105</th>\n",
       "      <td>2.0</td>\n",
       "      <td>3.500000</td>\n",
       "      <td>0.707107</td>\n",
       "      <td>3.0</td>\n",
       "      <td>3.25</td>\n",
       "      <td>3.5</td>\n",
       "      <td>3.75</td>\n",
       "      <td>4.0</td>\n",
       "    </tr>\n",
       "    <tr>\n",
       "      <th>108</th>\n",
       "      <td>1.0</td>\n",
       "      <td>12.000000</td>\n",
       "      <td>NaN</td>\n",
       "      <td>12.0</td>\n",
       "      <td>12.00</td>\n",
       "      <td>12.0</td>\n",
       "      <td>12.00</td>\n",
       "      <td>12.0</td>\n",
       "    </tr>\n",
       "    <tr>\n",
       "      <th>12</th>\n",
       "      <td>9.0</td>\n",
       "      <td>17.888889</td>\n",
       "      <td>4.400126</td>\n",
       "      <td>10.0</td>\n",
       "      <td>16.00</td>\n",
       "      <td>19.0</td>\n",
       "      <td>20.00</td>\n",
       "      <td>23.0</td>\n",
       "    </tr>\n",
       "    <tr>\n",
       "      <th>14</th>\n",
       "      <td>255.0</td>\n",
       "      <td>13.109804</td>\n",
       "      <td>8.017433</td>\n",
       "      <td>0.0</td>\n",
       "      <td>5.00</td>\n",
       "      <td>16.0</td>\n",
       "      <td>20.00</td>\n",
       "      <td>23.0</td>\n",
       "    </tr>\n",
       "    <tr>\n",
       "      <th>14L</th>\n",
       "      <td>18.0</td>\n",
       "      <td>14.111111</td>\n",
       "      <td>3.233808</td>\n",
       "      <td>7.0</td>\n",
       "      <td>13.00</td>\n",
       "      <td>14.5</td>\n",
       "      <td>16.00</td>\n",
       "      <td>19.0</td>\n",
       "    </tr>\n",
       "    <tr>\n",
       "      <th>14R</th>\n",
       "      <td>38.0</td>\n",
       "      <td>14.763158</td>\n",
       "      <td>2.784457</td>\n",
       "      <td>10.0</td>\n",
       "      <td>13.00</td>\n",
       "      <td>15.0</td>\n",
       "      <td>16.00</td>\n",
       "      <td>19.0</td>\n",
       "    </tr>\n",
       "  </tbody>\n",
       "</table>\n",
       "</div>"
      ],
      "text/plain": [
       "      count       mean       std   min    25%   50%    75%   max\n",
       "line                                                            \n",
       " F      1.0  19.000000       NaN  19.0  19.00  19.0  19.00  19.0\n",
       "1      14.0  15.357143  6.295385   0.0  10.75  17.0  19.75  23.0\n",
       "10      7.0  16.714286  6.183696   7.0  12.50  19.0  21.50  23.0\n",
       "103     3.0   3.333333  2.886751   0.0   2.50   5.0   5.00   5.0\n",
       "105     2.0   3.500000  0.707107   3.0   3.25   3.5   3.75   4.0\n",
       "108     1.0  12.000000       NaN  12.0  12.00  12.0  12.00  12.0\n",
       "12      9.0  17.888889  4.400126  10.0  16.00  19.0  20.00  23.0\n",
       "14    255.0  13.109804  8.017433   0.0   5.00  16.0  20.00  23.0\n",
       "14L    18.0  14.111111  3.233808   7.0  13.00  14.5  16.00  19.0\n",
       "14R    38.0  14.763158  2.784457  10.0  13.00  15.0  16.00  19.0"
      ]
     },
     "execution_count": 18,
     "metadata": {},
     "output_type": "execute_result"
    }
   ],
   "source": [
    "# What does info about lines and time of incidents look like?\n",
    "\n",
    "analysis.groupby('line').hour.describe()[:10]"
   ]
  },
  {
   "cell_type": "code",
   "execution_count": 19,
   "metadata": {},
   "outputs": [],
   "source": [
    "#Time to make date digestable too\n",
    "\n",
    "analysis['date'] = analysis['incident_date'].astype('datetime64[ns]')"
   ]
  },
  {
   "cell_type": "code",
   "execution_count": 20,
   "metadata": {},
   "outputs": [],
   "source": [
    "analysis['year'] = analysis['incident_date'].astype('datetime64[ns]').dt.year"
   ]
  },
  {
   "cell_type": "code",
   "execution_count": 21,
   "metadata": {},
   "outputs": [
    {
     "data": {
      "text/html": [
       "<div>\n",
       "<style scoped>\n",
       "    .dataframe tbody tr th:only-of-type {\n",
       "        vertical-align: middle;\n",
       "    }\n",
       "\n",
       "    .dataframe tbody tr th {\n",
       "        vertical-align: top;\n",
       "    }\n",
       "\n",
       "    .dataframe thead th {\n",
       "        text-align: right;\n",
       "    }\n",
       "</style>\n",
       "<table border=\"1\" class=\"dataframe\">\n",
       "  <thead>\n",
       "    <tr style=\"text-align: right;\">\n",
       "      <th></th>\n",
       "      <th>incident_date</th>\n",
       "      <th>incident_time</th>\n",
       "      <th>line</th>\n",
       "      <th>caller</th>\n",
       "      <th>time</th>\n",
       "      <th>hour</th>\n",
       "      <th>date</th>\n",
       "      <th>year</th>\n",
       "    </tr>\n",
       "  </thead>\n",
       "  <tbody>\n",
       "    <tr>\n",
       "      <th>0</th>\n",
       "      <td>1/27/2020</td>\n",
       "      <td>18:43</td>\n",
       "      <td>M</td>\n",
       "      <td>4C22</td>\n",
       "      <td>18:43:00</td>\n",
       "      <td>18</td>\n",
       "      <td>2020-01-27</td>\n",
       "      <td>2020</td>\n",
       "    </tr>\n",
       "    <tr>\n",
       "      <th>1</th>\n",
       "      <td>1/25/2020</td>\n",
       "      <td>23:16</td>\n",
       "      <td>6</td>\n",
       "      <td>OPERATOR</td>\n",
       "      <td>23:16:00</td>\n",
       "      <td>23</td>\n",
       "      <td>2020-01-25</td>\n",
       "      <td>2020</td>\n",
       "    </tr>\n",
       "    <tr>\n",
       "      <th>2</th>\n",
       "      <td>1/25/2020</td>\n",
       "      <td>17:00</td>\n",
       "      <td>29</td>\n",
       "      <td>OPERATOR</td>\n",
       "      <td>17:00:00</td>\n",
       "      <td>17</td>\n",
       "      <td>2020-01-25</td>\n",
       "      <td>2020</td>\n",
       "    </tr>\n",
       "    <tr>\n",
       "      <th>3</th>\n",
       "      <td>1/24/2020</td>\n",
       "      <td>16:02</td>\n",
       "      <td>14R</td>\n",
       "      <td>OPERATOR</td>\n",
       "      <td>16:02:00</td>\n",
       "      <td>16</td>\n",
       "      <td>2020-01-24</td>\n",
       "      <td>2020</td>\n",
       "    </tr>\n",
       "    <tr>\n",
       "      <th>4</th>\n",
       "      <td>1/22/2020</td>\n",
       "      <td>19:27</td>\n",
       "      <td>N</td>\n",
       "      <td>OPERATOR</td>\n",
       "      <td>19:27:00</td>\n",
       "      <td>19</td>\n",
       "      <td>2020-01-22</td>\n",
       "      <td>2020</td>\n",
       "    </tr>\n",
       "  </tbody>\n",
       "</table>\n",
       "</div>"
      ],
      "text/plain": [
       "  incident_date incident_time line    caller      time  hour       date  year\n",
       "0     1/27/2020         18:43    M      4C22  18:43:00    18 2020-01-27  2020\n",
       "1     1/25/2020         23:16    6  OPERATOR  23:16:00    23 2020-01-25  2020\n",
       "2     1/25/2020         17:00   29  OPERATOR  17:00:00    17 2020-01-25  2020\n",
       "3     1/24/2020         16:02  14R  OPERATOR  16:02:00    16 2020-01-24  2020\n",
       "4     1/22/2020         19:27    N  OPERATOR  19:27:00    19 2020-01-22  2020"
      ]
     },
     "execution_count": 21,
     "metadata": {},
     "output_type": "execute_result"
    }
   ],
   "source": [
    "analysis.head()"
   ]
  },
  {
   "cell_type": "code",
   "execution_count": 22,
   "metadata": {
    "scrolled": false
   },
   "outputs": [
    {
     "data": {
      "text/plain": [
       "count    2622.000000\n",
       "mean     2015.834859\n",
       "std         1.989240\n",
       "min      2013.000000\n",
       "25%      2014.000000\n",
       "50%      2016.000000\n",
       "75%      2018.000000\n",
       "max      2020.000000\n",
       "Name: year, dtype: float64"
      ]
     },
     "execution_count": 22,
     "metadata": {},
     "output_type": "execute_result"
    }
   ],
   "source": [
    "# What does info about date of incidents look like?\n",
    "\n",
    "analysis.year.describe()"
   ]
  },
  {
   "cell_type": "code",
   "execution_count": 23,
   "metadata": {},
   "outputs": [
    {
     "data": {
      "text/plain": [
       "count                    2622\n",
       "unique                   1535\n",
       "top       2019-06-30 00:00:00\n",
       "freq                        6\n",
       "first     2013-04-01 00:00:00\n",
       "last      2020-01-27 00:00:00\n",
       "Name: date, dtype: object"
      ]
     },
     "execution_count": 23,
     "metadata": {},
     "output_type": "execute_result"
    }
   ],
   "source": [
    "analysis.date.describe()"
   ]
  },
  {
   "cell_type": "code",
   "execution_count": 24,
   "metadata": {},
   "outputs": [],
   "source": [
    "# Import the library\n",
    "import matplotlib.pyplot as plt\n",
    "\n",
    "# This line allows the plots display to nicely in the notebook.\n",
    "%matplotlib inline"
   ]
  },
  {
   "cell_type": "code",
   "execution_count": 25,
   "metadata": {
    "scrolled": false
   },
   "outputs": [
    {
     "data": {
      "text/plain": [
       "<matplotlib.axes._subplots.AxesSubplot at 0x7f8a1b699e80>"
      ]
     },
     "execution_count": 25,
     "metadata": {},
     "output_type": "execute_result"
    },
    {
     "data": {
      "image/png": "[encoded data removed]",
      "text/plain": [
       "<Figure size 432x288 with 1 Axes>"
      ]
     },
     "metadata": {
      "needs_background": "light"
     },
     "output_type": "display_data"
    }
   ],
   "source": [
    "## Let's graph incidents by line!\n",
    "\n",
    "# add the x-axis label\n",
    "plt.xlabel(\"Line\")\n",
    "\n",
    "# add the y-axis label\n",
    "plt.ylabel(\"Frequency\")\n",
    "\n",
    "# add the title\n",
    "plt.title(\"SFMTA Incidents by Muni Line, April 2013 - January 2020 (Top 10)\")\n",
    "\n",
    "analysis['line'].value_counts()[:10].plot(kind='bar')"
   ]
  },
  {
   "cell_type": "code",
   "execution_count": 26,
   "metadata": {},
   "outputs": [
    {
     "data": {
      "text/plain": [
       "<matplotlib.axes._subplots.AxesSubplot at 0x7f8a1b51ca20>"
      ]
     },
     "execution_count": 26,
     "metadata": {},
     "output_type": "execute_result"
    },
    {
     "data": {
      "image/png": "[encoded data removed]",
      "text/plain": [
       "<Figure size 432x288 with 1 Axes>"
      ]
     },
     "metadata": {
      "needs_background": "light"
     },
     "output_type": "display_data"
    }
   ],
   "source": [
    "##Let's graph incidents by who reported!\n",
    "\n",
    "# add the x-axis label\n",
    "plt.xlabel(\"Reporter\")\n",
    "\n",
    "# add the y-axis label\n",
    "plt.ylabel(\"Frequency\")\n",
    "\n",
    "# add the title\n",
    "plt.title(\"SFMTA Incidents by Incident Reporter, April 2013 - January 2019 (Top 10)\")\n",
    "\n",
    "analysis['caller'].value_counts()[:15].plot(kind='bar')"
   ]
  },
  {
   "cell_type": "markdown",
   "metadata": {},
   "source": [
    "### Create a dataframe for the call-ins"
   ]
  },
  {
   "cell_type": "code",
   "execution_count": 27,
   "metadata": {
    "scrolled": false
   },
   "outputs": [
    {
     "data": {
      "text/plain": [
       "0        4C22\n",
       "1    OPERATOR\n",
       "2    OPERATOR\n",
       "3    OPERATOR\n",
       "4    OPERATOR\n",
       "Name: caller, dtype: object"
      ]
     },
     "execution_count": 27,
     "metadata": {},
     "output_type": "execute_result"
    }
   ],
   "source": [
    "#Let's get to know info about the reporters!\n",
    "\n",
    "reporter = analysis['caller']\n",
    "reporter = reporter.astype(str)\n",
    "reporter.head()"
   ]
  },
  {
   "cell_type": "markdown",
   "metadata": {},
   "source": [
    "### How to best filter for station agents and create a simplified bar graph of reporting"
   ]
  },
  {
   "cell_type": "code",
   "execution_count": 28,
   "metadata": {},
   "outputs": [
    {
     "data": {
      "text/plain": [
       "138"
      ]
     },
     "execution_count": 28,
     "metadata": {},
     "output_type": "execute_result"
    }
   ],
   "source": [
    "#original syntax for new df\n",
    "reporter2 = analysis['caller'].str.contains('AGE')\n",
    "sum(reporter2)"
   ]
  },
  {
   "cell_type": "code",
   "execution_count": 29,
   "metadata": {},
   "outputs": [
    {
     "data": {
      "text/plain": [
       "138"
      ]
     },
     "execution_count": 29,
     "metadata": {},
     "output_type": "execute_result"
    }
   ],
   "source": [
    "# Check Out Later\n",
    "agent_call = reporter.loc[analysis.caller.str.contains(\"AGE\")]\n",
    "len(agent_call)"
   ]
  },
  {
   "cell_type": "code",
   "execution_count": 30,
   "metadata": {
    "scrolled": true
   },
   "outputs": [
    {
     "data": {
      "text/plain": [
       "2256"
      ]
     },
     "execution_count": 30,
     "metadata": {},
     "output_type": "execute_result"
    }
   ],
   "source": [
    "operator_call = reporter.loc[(analysis.caller == 'OPERATOR')]\n",
    "len(operator_call)"
   ]
  },
  {
   "cell_type": "code",
   "execution_count": 31,
   "metadata": {},
   "outputs": [
    {
     "data": {
      "text/plain": [
       "357"
      ]
     },
     "execution_count": 31,
     "metadata": {},
     "output_type": "execute_result"
    }
   ],
   "source": [
    "nonoperator_call = reporter.loc[~analysis.caller.isin(['OPERATOR','SFPD', 'BART POLICE', 'SFPD CAD#3605', 'SFPD DISPATCHER'])]\n",
    "#nonoperator_call = reporter.loc[(analysis.caller == 'SFPD') == False]\n",
    "len(nonoperator_call)"
   ]
  },
  {
   "cell_type": "code",
   "execution_count": 32,
   "metadata": {},
   "outputs": [
    {
     "data": {
      "text/plain": [
       "9"
      ]
     },
     "execution_count": 32,
     "metadata": {},
     "output_type": "execute_result"
    }
   ],
   "source": [
    "police_call = reporter.loc[analysis.caller.isin(['SFPD', 'BART POLICE', 'SFPD CAD#3605', 'SFPD DISPATCHER'])]\n",
    "len(police_call)"
   ]
  },
  {
   "cell_type": "code",
   "execution_count": 33,
   "metadata": {},
   "outputs": [
    {
     "data": {
      "text/html": [
       "<div>\n",
       "<style scoped>\n",
       "    .dataframe tbody tr th:only-of-type {\n",
       "        vertical-align: middle;\n",
       "    }\n",
       "\n",
       "    .dataframe tbody tr th {\n",
       "        vertical-align: top;\n",
       "    }\n",
       "\n",
       "    .dataframe thead th {\n",
       "        text-align: right;\n",
       "    }\n",
       "</style>\n",
       "<table border=\"1\" class=\"dataframe\">\n",
       "  <thead>\n",
       "    <tr style=\"text-align: right;\">\n",
       "      <th></th>\n",
       "      <th>operator</th>\n",
       "      <th>agent</th>\n",
       "      <th>police</th>\n",
       "      <th>other</th>\n",
       "    </tr>\n",
       "  </thead>\n",
       "  <tbody>\n",
       "    <tr>\n",
       "      <th>0</th>\n",
       "      <td>NaN</td>\n",
       "      <td>NaN</td>\n",
       "      <td>NaN</td>\n",
       "      <td>4C22</td>\n",
       "    </tr>\n",
       "    <tr>\n",
       "      <th>1</th>\n",
       "      <td>OPERATOR</td>\n",
       "      <td>NaN</td>\n",
       "      <td>NaN</td>\n",
       "      <td>NaN</td>\n",
       "    </tr>\n",
       "    <tr>\n",
       "      <th>2</th>\n",
       "      <td>OPERATOR</td>\n",
       "      <td>NaN</td>\n",
       "      <td>NaN</td>\n",
       "      <td>NaN</td>\n",
       "    </tr>\n",
       "    <tr>\n",
       "      <th>3</th>\n",
       "      <td>OPERATOR</td>\n",
       "      <td>NaN</td>\n",
       "      <td>NaN</td>\n",
       "      <td>NaN</td>\n",
       "    </tr>\n",
       "    <tr>\n",
       "      <th>4</th>\n",
       "      <td>OPERATOR</td>\n",
       "      <td>NaN</td>\n",
       "      <td>NaN</td>\n",
       "      <td>NaN</td>\n",
       "    </tr>\n",
       "  </tbody>\n",
       "</table>\n",
       "</div>"
      ],
      "text/plain": [
       "   operator agent police other\n",
       "0       NaN   NaN    NaN  4C22\n",
       "1  OPERATOR   NaN    NaN   NaN\n",
       "2  OPERATOR   NaN    NaN   NaN\n",
       "3  OPERATOR   NaN    NaN   NaN\n",
       "4  OPERATOR   NaN    NaN   NaN"
      ]
     },
     "execution_count": 33,
     "metadata": {},
     "output_type": "execute_result"
    }
   ],
   "source": [
    "simple_caller = analysis.drop(['incident_date', 'incident_time', 'line', 'caller', 'time', 'hour', 'date', 'year'], axis = 1)\n",
    "simple_caller['operator'] = operator_call\n",
    "simple_caller['agent'] = agent_call\n",
    "simple_caller['police'] = police_call\n",
    "simple_caller['other'] = nonoperator_call\n",
    "#simple_caller\n",
    "\n",
    "simple_caller.head()"
   ]
  },
  {
   "cell_type": "code",
   "execution_count": 34,
   "metadata": {},
   "outputs": [
    {
     "data": {
      "text/html": [
       "<div>\n",
       "<style scoped>\n",
       "    .dataframe tbody tr th:only-of-type {\n",
       "        vertical-align: middle;\n",
       "    }\n",
       "\n",
       "    .dataframe tbody tr th {\n",
       "        vertical-align: top;\n",
       "    }\n",
       "\n",
       "    .dataframe thead th {\n",
       "        text-align: right;\n",
       "    }\n",
       "</style>\n",
       "<table border=\"1\" class=\"dataframe\">\n",
       "  <thead>\n",
       "    <tr style=\"text-align: right;\">\n",
       "      <th></th>\n",
       "      <th>operator</th>\n",
       "      <th>agent</th>\n",
       "      <th>police</th>\n",
       "      <th>other</th>\n",
       "    </tr>\n",
       "  </thead>\n",
       "  <tbody>\n",
       "    <tr>\n",
       "      <th>0</th>\n",
       "      <td>0</td>\n",
       "      <td>0</td>\n",
       "      <td>0</td>\n",
       "      <td>1</td>\n",
       "    </tr>\n",
       "    <tr>\n",
       "      <th>1</th>\n",
       "      <td>1</td>\n",
       "      <td>0</td>\n",
       "      <td>0</td>\n",
       "      <td>0</td>\n",
       "    </tr>\n",
       "    <tr>\n",
       "      <th>2</th>\n",
       "      <td>1</td>\n",
       "      <td>0</td>\n",
       "      <td>0</td>\n",
       "      <td>0</td>\n",
       "    </tr>\n",
       "    <tr>\n",
       "      <th>3</th>\n",
       "      <td>1</td>\n",
       "      <td>0</td>\n",
       "      <td>0</td>\n",
       "      <td>0</td>\n",
       "    </tr>\n",
       "    <tr>\n",
       "      <th>4</th>\n",
       "      <td>1</td>\n",
       "      <td>0</td>\n",
       "      <td>0</td>\n",
       "      <td>0</td>\n",
       "    </tr>\n",
       "  </tbody>\n",
       "</table>\n",
       "</div>"
      ],
      "text/plain": [
       "   operator  agent  police  other\n",
       "0         0      0       0      1\n",
       "1         1      0       0      0\n",
       "2         1      0       0      0\n",
       "3         1      0       0      0\n",
       "4         1      0       0      0"
      ]
     },
     "execution_count": 34,
     "metadata": {},
     "output_type": "execute_result"
    }
   ],
   "source": [
    "simple_caller.loc[simple_caller['operator'].notnull(), 'operator'] = 1\n",
    "simple_caller.loc[simple_caller['operator'].isnull(), 'operator'] = 0\n",
    "simple_caller.loc[simple_caller['agent'].notnull(), 'agent'] = 1\n",
    "simple_caller.loc[simple_caller['agent'].isnull(), 'agent'] = 0\n",
    "simple_caller.loc[simple_caller['police'].notnull(), 'police'] = 1\n",
    "simple_caller.loc[simple_caller['police'].isnull(), 'police'] = 0\n",
    "simple_caller.loc[simple_caller['other'].notnull(), 'other'] = 1\n",
    "simple_caller.loc[simple_caller['other'].isnull(), 'other'] = 0\n",
    "\n",
    "simple_caller.head()"
   ]
  },
  {
   "cell_type": "code",
   "execution_count": 35,
   "metadata": {},
   "outputs": [
    {
     "data": {
      "text/plain": [
       "<matplotlib.axes._subplots.AxesSubplot at 0x7f8a1c209048>"
      ]
     },
     "execution_count": 35,
     "metadata": {},
     "output_type": "execute_result"
    },
    {
     "data": {
      "image/png": "[encoded data removed]",
      "text/plain": [
       "<Figure size 432x288 with 1 Axes>"
      ]
     },
     "metadata": {
      "needs_background": "light"
     },
     "output_type": "display_data"
    }
   ],
   "source": [
    "# Graph of calls by operators, police, station agents, and other\n",
    "simple_caller.sum().plot(kind='bar')"
   ]
  },
  {
   "cell_type": "markdown",
   "metadata": {},
   "source": [
    "### Ideas for later\n",
    "### Incidents by time of day"
   ]
  },
  {
   "cell_type": "code",
   "execution_count": 36,
   "metadata": {
    "scrolled": false
   },
   "outputs": [
    {
     "data": {
      "image/png": "[encoded data removed]",
      "text/plain": [
       "<Figure size 432x288 with 1 Axes>"
      ]
     },
     "metadata": {
      "needs_background": "light"
     },
     "output_type": "display_data"
    }
   ],
   "source": [
    "cc_time = pd.Series(analysis['hour'])\n",
    "cc_time.plot.hist(bins=24)\n",
    "\n",
    "# add the x-axis label\n",
    "plt.xlabel(\"Time\")\n",
    "\n",
    "# add the y-axis label\n",
    "plt.ylabel(\"Frequency\")\n",
    "\n",
    "# add the legend\n",
    "plt.legend()\n",
    "\n",
    "# add the title\n",
    "plt.title(\"SFMTA Incidents by Time of Day, April 2013 - January 2020\")\n",
    "\n",
    "# show the plot\n",
    "plt.show()"
   ]
  },
  {
   "cell_type": "markdown",
   "metadata": {},
   "source": [
    "### Incidents by year"
   ]
  },
  {
   "cell_type": "code",
   "execution_count": 74,
   "metadata": {
    "scrolled": true
   },
   "outputs": [
    {
     "data": {
      "image/png": "[encoded data removed]",
      "text/plain": [
       "<Figure size 432x288 with 1 Axes>"
      ]
     },
     "metadata": {
      "needs_background": "light"
     },
     "output_type": "display_data"
    }
   ],
   "source": [
    "cc_time = pd.Series(analysis['year'])\n",
    "cc_time.plot.hist(bins=24)\n",
    "\n",
    "# add the x-axis label\n",
    "plt.xlabel(\"Year\")\n",
    "\n",
    "# add the y-axis label\n",
    "plt.ylabel(\"Frequency\")\n",
    "\n",
    "# add the legend\n",
    "plt.legend()\n",
    "\n",
    "# add the title\n",
    "plt.title(\"SFMTA Incidents by Year, April 2013 - January 2020\")\n",
    "\n",
    "# show the plot\n",
    "plt.show()"
   ]
  },
  {
   "cell_type": "code",
   "execution_count": 38,
   "metadata": {},
   "outputs": [
    {
     "data": {
      "text/html": [
       "<div>\n",
       "<style scoped>\n",
       "    .dataframe tbody tr th:only-of-type {\n",
       "        vertical-align: middle;\n",
       "    }\n",
       "\n",
       "    .dataframe tbody tr th {\n",
       "        vertical-align: top;\n",
       "    }\n",
       "\n",
       "    .dataframe thead th {\n",
       "        text-align: right;\n",
       "    }\n",
       "</style>\n",
       "<table border=\"1\" class=\"dataframe\">\n",
       "  <thead>\n",
       "    <tr style=\"text-align: right;\">\n",
       "      <th></th>\n",
       "      <th>incident_date</th>\n",
       "      <th>incident_time</th>\n",
       "      <th>line</th>\n",
       "      <th>caller</th>\n",
       "      <th>time</th>\n",
       "      <th>hour</th>\n",
       "      <th>date</th>\n",
       "      <th>year</th>\n",
       "      <th>month</th>\n",
       "    </tr>\n",
       "  </thead>\n",
       "  <tbody>\n",
       "    <tr>\n",
       "      <th>0</th>\n",
       "      <td>1/27/2020</td>\n",
       "      <td>18:43</td>\n",
       "      <td>M</td>\n",
       "      <td>4C22</td>\n",
       "      <td>18:43:00</td>\n",
       "      <td>18</td>\n",
       "      <td>2020-01-27</td>\n",
       "      <td>2020</td>\n",
       "      <td>1</td>\n",
       "    </tr>\n",
       "    <tr>\n",
       "      <th>1</th>\n",
       "      <td>1/25/2020</td>\n",
       "      <td>23:16</td>\n",
       "      <td>6</td>\n",
       "      <td>OPERATOR</td>\n",
       "      <td>23:16:00</td>\n",
       "      <td>23</td>\n",
       "      <td>2020-01-25</td>\n",
       "      <td>2020</td>\n",
       "      <td>1</td>\n",
       "    </tr>\n",
       "    <tr>\n",
       "      <th>2</th>\n",
       "      <td>1/25/2020</td>\n",
       "      <td>17:00</td>\n",
       "      <td>29</td>\n",
       "      <td>OPERATOR</td>\n",
       "      <td>17:00:00</td>\n",
       "      <td>17</td>\n",
       "      <td>2020-01-25</td>\n",
       "      <td>2020</td>\n",
       "      <td>1</td>\n",
       "    </tr>\n",
       "    <tr>\n",
       "      <th>3</th>\n",
       "      <td>1/24/2020</td>\n",
       "      <td>16:02</td>\n",
       "      <td>14R</td>\n",
       "      <td>OPERATOR</td>\n",
       "      <td>16:02:00</td>\n",
       "      <td>16</td>\n",
       "      <td>2020-01-24</td>\n",
       "      <td>2020</td>\n",
       "      <td>1</td>\n",
       "    </tr>\n",
       "    <tr>\n",
       "      <th>4</th>\n",
       "      <td>1/22/2020</td>\n",
       "      <td>19:27</td>\n",
       "      <td>N</td>\n",
       "      <td>OPERATOR</td>\n",
       "      <td>19:27:00</td>\n",
       "      <td>19</td>\n",
       "      <td>2020-01-22</td>\n",
       "      <td>2020</td>\n",
       "      <td>1</td>\n",
       "    </tr>\n",
       "  </tbody>\n",
       "</table>\n",
       "</div>"
      ],
      "text/plain": [
       "  incident_date incident_time line    caller      time  hour       date  year  \\\n",
       "0     1/27/2020         18:43    M      4C22  18:43:00    18 2020-01-27  2020   \n",
       "1     1/25/2020         23:16    6  OPERATOR  23:16:00    23 2020-01-25  2020   \n",
       "2     1/25/2020         17:00   29  OPERATOR  17:00:00    17 2020-01-25  2020   \n",
       "3     1/24/2020         16:02  14R  OPERATOR  16:02:00    16 2020-01-24  2020   \n",
       "4     1/22/2020         19:27    N  OPERATOR  19:27:00    19 2020-01-22  2020   \n",
       "\n",
       "   month  \n",
       "0      1  \n",
       "1      1  \n",
       "2      1  \n",
       "3      1  \n",
       "4      1  "
      ]
     },
     "execution_count": 38,
     "metadata": {},
     "output_type": "execute_result"
    }
   ],
   "source": [
    "# Why are there gaps in the bars? - Let's see what the data looks like by month\n",
    "analysis['month'] = analysis['incident_date'].astype('datetime64[ns]').dt.month\n",
    "analysis.head()"
   ]
  },
  {
   "cell_type": "code",
   "execution_count": 54,
   "metadata": {},
   "outputs": [
    {
     "data": {
      "image/png": "[encoded data removed]",
      "text/plain": [
       "<Figure size 432x288 with 1 Axes>"
      ]
     },
     "metadata": {
      "needs_background": "light"
     },
     "output_type": "display_data"
    }
   ],
   "source": [
    "cc_time = pd.Series(analysis['month'])\n",
    "cc_time.plot.hist()\n",
    "\n",
    "# add the x-axis label\n",
    "plt.xlabel(\"Month\")\n",
    "\n",
    "# add the y-axis label\n",
    "plt.ylabel(\"Frequency\")\n",
    "\n",
    "# add the legend\n",
    "plt.legend()\n",
    "\n",
    "# add the title\n",
    "plt.title(\"SFMTA Incidents by Month, April 2013 - January 2020\")\n",
    "\n",
    "# show the plot\n",
    "plt.show()"
   ]
  },
  {
   "cell_type": "code",
   "execution_count": 78,
   "metadata": {},
   "outputs": [
    {
     "data": {
      "text/plain": [
       "<matplotlib.axes._subplots.AxesSubplot at 0x7f8a0f767cc0>"
      ]
     },
     "execution_count": 78,
     "metadata": {},
     "output_type": "execute_result"
    },
    {
     "data": {
      "image/png": "[encoded data removed]",
      "text/plain": [
       "<Figure size 432x288 with 1 Axes>"
      ]
     },
     "metadata": {
      "needs_background": "light"
     },
     "output_type": "display_data"
    }
   ],
   "source": [
    "\n",
    "analysis.month.value_counts().plot(kind='bar')\n",
    "#clearly there's something weird here!"
   ]
  },
  {
   "cell_type": "code",
   "execution_count": 41,
   "metadata": {},
   "outputs": [],
   "source": [
    "#group by hour and sum by incidents\n",
    "#KDE\n"
   ]
  },
  {
   "cell_type": "markdown",
   "metadata": {},
   "source": [
    "### Try using seaborn"
   ]
  },
  {
   "cell_type": "code",
   "execution_count": 104,
   "metadata": {},
   "outputs": [],
   "source": [
    "import seaborn as sns\n",
    "sns.set()  # activate the Seaborn aesthetic defaults"
   ]
  },
  {
   "cell_type": "code",
   "execution_count": 105,
   "metadata": {},
   "outputs": [
    {
     "data": {
      "image/png": "[encoded data removed]",
      "text/plain": [
       "<Figure size 432x288 with 1 Axes>"
      ]
     },
     "metadata": {},
     "output_type": "display_data"
    }
   ],
   "source": [
    "# Let's do 'Month' again because it's looking weird!\n",
    "\n",
    "ax=sns.countplot(data=analysis, x='month')\n",
    "\n",
    "ax.set_title(\"Incidents by Month\")\n",
    "ax.set_xticklabels(['Jan', 'Feb', 'Mar', 'Apr', 'May','Jun', 'Jul', 'Aug', 'Sep', 'Oct', 'Nov', 'Dec'])\n",
    "ax.set_xlabel('Month')\n",
    "\n",
    "plt.show()\n",
    "\n",
    "# Love this!"
   ]
  },
  {
   "cell_type": "code",
   "execution_count": 106,
   "metadata": {},
   "outputs": [
    {
     "data": {
      "image/png": "[encoded data removed]",
      "text/plain": [
       "<Figure size 432x288 with 1 Axes>"
      ]
     },
     "metadata": {},
     "output_type": "display_data"
    }
   ],
   "source": [
    "# Let's do 'Year' again because why not?!\n",
    "\n",
    "ax=sns.countplot(data=analysis, x='year')\n",
    "\n",
    "ax.set_title(\"Incidents by Year\")\n",
    "ax.set_xticklabels(['2013', '2014', '2015', '2016', '2017', '2018', '2019', '2020'])\n",
    "ax.set_xlabel('Year')\n",
    "\n",
    "plt.show()\n",
    "\n",
    "# Love this!"
   ]
  },
  {
   "cell_type": "code",
   "execution_count": 148,
   "metadata": {},
   "outputs": [
    {
     "data": {
      "image/png": "[encoded data removed]",
      "text/plain": [
       "<Figure size 432x288 with 1 Axes>"
      ]
     },
     "metadata": {},
     "output_type": "display_data"
    }
   ],
   "source": [
    "data = analysis.loc[analysis.hour]   # but trips\n",
    "\n",
    "# Note that a distplot takes a Series directly, rather than a DataFrame + colnames\n",
    "ax = sns.distplot(a=analysis.hour,\n",
    "                  bins = 24,\n",
    "                  color = 'green',\n",
    "                  kde = True) #If you remove kde the Y axis changes to counts instead\n",
    "\n",
    "ax.set_title('Percentage of Incidents by Hour of Day')\n",
    "plt.show()"
   ]
  },
  {
   "cell_type": "code",
   "execution_count": 162,
   "metadata": {},
   "outputs": [
    {
     "ename": "SyntaxError",
     "evalue": "invalid syntax (<ipython-input-162-c385e3b2cd6c>, line 8)",
     "output_type": "error",
     "traceback": [
      "\u001b[0;36m  File \u001b[0;32m\"<ipython-input-162-c385e3b2cd6c>\"\u001b[0;36m, line \u001b[0;32m8\u001b[0m\n\u001b[0;31m    ax.set_title('Percentage of Incidents by Hour of Day')\u001b[0m\n\u001b[0m     ^\u001b[0m\n\u001b[0;31mSyntaxError\u001b[0m\u001b[0;31m:\u001b[0m invalid syntax\n"
     ]
    }
   ],
   "source": [
    "data = analysis.loc[analysis.hour]   # but trips\n",
    "\n",
    "# Note that a distplot takes a Series directly, rather than a DataFrame + colnames\n",
    "ax = sns.regplot(x = analysis['line'].value_counts()[:10].index,\n",
    "                 y = analysis['hour']\n",
    "                 #fit_reg = True) #If you remove kde the Y axis changes to counts instead\n",
    "\n",
    "ax.set_title('Percentage of Incidents by Hour of Day')\n",
    "plt.show()"
   ]
  },
  {
   "cell_type": "markdown",
   "metadata": {},
   "source": [
    "### Let's look at this stuff by line!"
   ]
  },
  {
   "cell_type": "code",
   "execution_count": 140,
   "metadata": {},
   "outputs": [
    {
     "data": {
      "image/png": "[encoded data removed]",
      "text/plain": [
       "<Figure size 432x288 with 1 Axes>"
      ]
     },
     "metadata": {},
     "output_type": "display_data"
    }
   ],
   "source": [
    "ax=sns.countplot(data = analysis, \n",
    "                 x='line', \n",
    "                 order = analysis['line'].value_counts()[:10].index,\n",
    "                 )\n",
    "\n",
    "ax.set_title(\"Incidents by Line\")\n",
    "#ax.set_xticklabels([])\n",
    "ax.set_xlabel('Line')\n",
    "\n",
    "plt.show()\n",
    "\n",
    "# Love this!"
   ]
  },
  {
   "cell_type": "code",
   "execution_count": 168,
   "metadata": {},
   "outputs": [
    {
     "data": {
      "image/png": "[encoded data removed]",
      "text/plain": [
       "<Figure size 1080x216 with 5 Axes>"
      ]
     },
     "metadata": {},
     "output_type": "display_data"
    }
   ],
   "source": [
    "# Let's look at incidents by year on the top 5 lines\n",
    "\n",
    "data = analysis.loc[analysis.line.isin(['14','49','N', '38', 'F'])]\n",
    "\n",
    "group = sns.FacetGrid(data, col='line')\n",
    "group.map(sns.countplot, 'year')\n",
    "\n",
    "plt.show()"
   ]
  },
  {
   "cell_type": "code",
   "execution_count": 169,
   "metadata": {},
   "outputs": [
    {
     "data": {
      "image/png": "[encoded data removed]",
      "text/plain": [
       "<Figure size 1080x216 with 5 Axes>"
      ]
     },
     "metadata": {},
     "output_type": "display_data"
    }
   ],
   "source": [
    "# Let's look at incidents by month on the top 5 lines\n",
    "\n",
    "data = analysis.loc[analysis.line.isin(['14','49','N', '38', 'F'])]\n",
    "\n",
    "group = sns.FacetGrid(data, col='line')\n",
    "group.map(sns.countplot, 'month')\n",
    "\n",
    "plt.show()"
   ]
  },
  {
   "cell_type": "code",
   "execution_count": 173,
   "metadata": {},
   "outputs": [
    {
     "data": {
      "image/png": "[encoded data removed]",
      "text/plain": [
       "<Figure size 1080x216 with 5 Axes>"
      ]
     },
     "metadata": {},
     "output_type": "display_data"
    }
   ],
   "source": [
    "# Let's look at incidents by time on the top 5 lines\n",
    "\n",
    "data = analysis.loc[analysis.line.isin(['14','49','N', '38', 'F'])]\n",
    "\n",
    "group = sns.FacetGrid(data, col='line')\n",
    "group.map(sns.countplot, 'hour')\n",
    "\n",
    "plt.show()"
   ]
  },
  {
   "cell_type": "code",
   "execution_count": null,
   "metadata": {},
   "outputs": [],
   "source": []
  },
  {
   "cell_type": "code",
   "execution_count": null,
   "metadata": {},
   "outputs": [],
   "source": [
    "import requests"
   ]
  },
  {
   "cell_type": "code",
   "execution_count": null,
   "metadata": {},
   "outputs": [],
   "source": [
    "import geopandas as gpd\n",
    "import rtree as rt\n",
    "#print(gpd.__version__)  # note this is a pretty old version\n",
    "\n",
    "#testing out syntax \n",
    "print(gpd.__version__) #you have to have two underscores next to the beginning and ending of version \n",
    "import networkx as nx\n",
    "import numpy as np\n",
    "import osmnx as ox\n",
    "ox.config(log_console=True, use_cache=True)\n",
    "ox.__version__"
   ]
  },
  {
   "cell_type": "code",
   "execution_count": null,
   "metadata": {
    "scrolled": true
   },
   "outputs": [],
   "source": [
    "sf = ox.gdf_from_place('San Francisco, California')\n",
    "ox.plot_shape(ox.project_gdf(sf))"
   ]
  },
  {
   "cell_type": "code",
   "execution_count": null,
   "metadata": {},
   "outputs": [],
   "source": [
    "sf"
   ]
  },
  {
   "cell_type": "code",
   "execution_count": null,
   "metadata": {},
   "outputs": [],
   "source": [
    "ox.save_gdf_shapefile(sf)"
   ]
  },
  {
   "cell_type": "code",
   "execution_count": null,
   "metadata": {},
   "outputs": [],
   "source": [
    "G = ox.graph_from_place('San Francisco, California', network_type='drive')\n",
    "G_projected = ox.project_graph(G)\n",
    "ox.plot_graph(G_projected)\n"
   ]
  },
  {
   "cell_type": "markdown",
   "metadata": {},
   "source": [
    "# Look at this notebook for more info on origin destination https://github.com/gboeing/osmnx-examples/blob/master/notebooks/12-node-elevations-edge-grades.ipynb\n"
   ]
  },
  {
   "cell_type": "markdown",
   "metadata": {},
   "source": [
    "# #This section is for orgin destination trials \n"
   ]
  },
  {
   "cell_type": "code",
   "execution_count": null,
   "metadata": {},
   "outputs": [],
   "source": [
    "#this is the original code for orgin and destination\n",
    "#orig_node = ox.get_nearest_node(G, (37.828903, -122.245846))\n",
    "#dest_node = ox.get_nearest_node(G, (37.812303, -122.215006))\n",
    "#is there a way to loop origin and destination to be at many different points? Perhaps based on a column of data?"
   ]
  },
  {
   "cell_type": "markdown",
   "metadata": {},
   "source": [
    "# This part is for interactive maps \n"
   ]
  },
  {
   "cell_type": "code",
   "execution_count": 1,
   "metadata": {},
   "outputs": [
    {
     "data": {
      "text/plain": [
       "'0.11.4'"
      ]
     },
     "execution_count": 1,
     "metadata": {},
     "output_type": "execute_result"
    }
   ],
   "source": [
    "import networkx as nx\n",
    "import osmnx as ox\n",
    "from IPython.display import IFrame\n",
    "ox.config(log_console=True, use_cache=True)\n",
    "ox.__version__"
   ]
  },
  {
   "cell_type": "code",
   "execution_count": 2,
   "metadata": {},
   "outputs": [],
   "source": [
    "G = ox.graph_from_place('San Francisco, California, USA', network_type='drive')"
   ]
  },
  {
   "cell_type": "code",
   "execution_count": 3,
   "metadata": {},
   "outputs": [],
   "source": [
    "graph_map = ox.plot_graph_folium(G, popup_attribute='name', edge_width=2)"
   ]
  },
  {
   "cell_type": "code",
   "execution_count": 4,
   "metadata": {},
   "outputs": [
    {
     "data": {
      "text/html": [
       "\n",
       "        <iframe\n",
       "            width=\"600\"\n",
       "            height=\"500\"\n",
       "            src=\"data/graph.html\"\n",
       "            frameborder=\"0\"\n",
       "            allowfullscreen\n",
       "        ></iframe>\n",
       "        "
      ],
      "text/plain": [
       "<IPython.lib.display.IFrame at 0x7fb5f5f31e48>"
      ]
     },
     "execution_count": 4,
     "metadata": {},
     "output_type": "execute_result"
    }
   ],
   "source": [
    "filepath = 'data/graph.html'\n",
    "graph_map.save(filepath)\n",
    "IFrame(filepath, width=600, height=500)"
   ]
  },
  {
   "cell_type": "code",
   "execution_count": null,
   "metadata": {},
   "outputs": [],
   "source": []
  },
  {
   "cell_type": "code",
   "execution_count": 1,
   "metadata": {},
   "outputs": [],
   "source": [
    "#Let's start with using pandas\n",
    "import pandas as pd"
   ]
  },
  {
   "cell_type": "code",
   "execution_count": 2,
   "metadata": {},
   "outputs": [],
   "source": [
    "# 2!! \n",
    "\n",
    "#Bring in the Health Care Facilities with JSON\n",
    "\n",
    "import pandas as pd\n",
    "\n",
    "import json      # library for working with JSON-formatted text strings\n",
    "import requests  # library for accessing content from web URLs\n",
    "\n",
    "import pprint    # library for cleanly printing Python data structures\n",
    "pp = pprint.PrettyPrinter()\n"
   ]
  },
  {
   "cell_type": "markdown",
   "metadata": {},
   "source": [
    "\n",
    "\n",
    "\n",
    "\n",
    "# # # Opioid Data at the Zip Code Level\n",
    "There are data for deaths, ED visits, hospitalizations, and prescriptions \n",
    "\n",
    "\n",
    "3/4 - Need to merge the dataframes.\n",
    "\n",
    "\n",
    "\n",
    "\n"
   ]
  },
  {
   "cell_type": "code",
   "execution_count": 3,
   "metadata": {},
   "outputs": [
    {
     "data": {
      "text/html": [
       "<div>\n",
       "<style scoped>\n",
       "    .dataframe tbody tr th:only-of-type {\n",
       "        vertical-align: middle;\n",
       "    }\n",
       "\n",
       "    .dataframe tbody tr th {\n",
       "        vertical-align: top;\n",
       "    }\n",
       "\n",
       "    .dataframe thead th {\n",
       "        text-align: right;\n",
       "    }\n",
       "</style>\n",
       "<table border=\"1\" class=\"dataframe\">\n",
       "  <thead>\n",
       "    <tr style=\"text-align: right;\">\n",
       "      <th></th>\n",
       "      <th>Zip Code</th>\n",
       "      <th>Death Rates</th>\n",
       "      <th>Death 95% LCL</th>\n",
       "      <th>Death 95% UCL</th>\n",
       "    </tr>\n",
       "  </thead>\n",
       "  <tbody>\n",
       "    <tr>\n",
       "      <th>0</th>\n",
       "      <td>Any Opioid-Related Overdose : Age-Adjusted Rat...</td>\n",
       "      <td>NaN</td>\n",
       "      <td>NaN</td>\n",
       "      <td>NaN</td>\n",
       "    </tr>\n",
       "    <tr>\n",
       "      <th>1</th>\n",
       "      <td>Zip Code</td>\n",
       "      <td>Rates</td>\n",
       "      <td>95% LCL</td>\n",
       "      <td>95% UCL</td>\n",
       "    </tr>\n",
       "    <tr>\n",
       "      <th>2</th>\n",
       "      <td>94102</td>\n",
       "      <td>94.85</td>\n",
       "      <td>65.07</td>\n",
       "      <td>172.54</td>\n",
       "    </tr>\n",
       "    <tr>\n",
       "      <th>3</th>\n",
       "      <td>94103</td>\n",
       "      <td>60.02</td>\n",
       "      <td>36.27</td>\n",
       "      <td>120.56</td>\n",
       "    </tr>\n",
       "    <tr>\n",
       "      <th>4</th>\n",
       "      <td>94104</td>\n",
       "      <td>156.97</td>\n",
       "      <td>3.97</td>\n",
       "      <td>4430.61</td>\n",
       "    </tr>\n",
       "  </tbody>\n",
       "</table>\n",
       "</div>"
      ],
      "text/plain": [
       "                                            Zip Code Death Rates  \\\n",
       "0  Any Opioid-Related Overdose : Age-Adjusted Rat...         NaN   \n",
       "1                                           Zip Code       Rates   \n",
       "2                                              94102       94.85   \n",
       "3                                              94103       60.02   \n",
       "4                                              94104      156.97   \n",
       "\n",
       "  Death 95% LCL Death 95% UCL  \n",
       "0           NaN           NaN  \n",
       "1       95% LCL       95% UCL  \n",
       "2         65.07        172.54  \n",
       "3         36.27        120.56  \n",
       "4          3.97       4430.61  "
      ]
     },
     "execution_count": 3,
     "metadata": {},
     "output_type": "execute_result"
    }
   ],
   "source": [
    "# 4!!\n",
    "\n",
    "# import opioid death data\n",
    "opdeath18_data = pd.read_csv(\"https://www.dropbox.com/s/iblpnv70nhsyrok/Death_SanFrancisco_AnyOpioid_2018.csv?dl=1\")\n",
    "    \n",
    "opdeath18_data.rename(columns = {'San Francisco Deaths - 2018' : 'Zip Code',\n",
    "                            'Unnamed: 1': 'Death Rates', \n",
    "                             'Unnamed: 2': 'Death 95% LCL', \n",
    "                             'Unnamed: 3' : 'Death 95% UCL'}, inplace=True)\n",
    "#preview the data\n",
    "opdeath18_data.head()"
   ]
  },
  {
   "cell_type": "code",
   "execution_count": 4,
   "metadata": {},
   "outputs": [],
   "source": [
    "#cut out the top two rows bc they are metadata\n",
    "opdeath18cln = opdeath18_data.drop(opdeath18_data.index[[0,1,29,30,31,32]])"
   ]
  },
  {
   "cell_type": "code",
   "execution_count": 5,
   "metadata": {},
   "outputs": [
    {
     "name": "stdout",
     "output_type": "stream",
     "text": [
      "   Zip Code Death Rates Death 95% LCL Death 95% UCL\n",
      "2     94102       94.85         65.07        172.54\n",
      "3     94103       60.02         36.27        120.56\n",
      "4     94104      156.97          3.97       4430.61\n",
      "5     94105       10.92          0.28        588.25\n",
      "6     94107        7.02          0.85         51.69\n",
      "7     94108       21.45          5.45        117.03\n",
      "8     94109       20.81         10.36         64.83\n",
      "9     94110        21.2         12.46         39.84\n",
      "10    94111           0             0             0\n",
      "11    94112       10.29          4.55         21.62\n",
      "12    94114        2.35          0.06         54.13\n",
      "13    94115        8.29          1.94         43.92\n",
      "14    94116           0             0         15.36\n",
      "15    94117       14.19           5.5         48.17\n",
      "16    94118        7.85          1.59         42.55\n",
      "17    94121           0             0         23.47\n",
      "18    94122        3.44          0.32         17.66\n",
      "19    94123        4.57          0.12         68.71\n",
      "20    94124       23.33         10.21         48.02\n",
      "21    94127       11.35          1.88            52\n",
      "22    94129           0             0         372.6\n",
      "23    94130           0             0             0\n",
      "24    94131        8.02           1.6         42.73\n",
      "25    94132        6.12          0.51         39.47\n",
      "26    94133           0             0             0\n",
      "27    94134       11.39           3.6         29.27\n",
      "28    94158           0             0        310.43\n"
     ]
    }
   ],
   "source": [
    "print(opdeath18cln)"
   ]
  },
  {
   "cell_type": "code",
   "execution_count": 6,
   "metadata": {
    "scrolled": true
   },
   "outputs": [
    {
     "data": {
      "text/html": [
       "<div>\n",
       "<style scoped>\n",
       "    .dataframe tbody tr th:only-of-type {\n",
       "        vertical-align: middle;\n",
       "    }\n",
       "\n",
       "    .dataframe tbody tr th {\n",
       "        vertical-align: top;\n",
       "    }\n",
       "\n",
       "    .dataframe thead th {\n",
       "        text-align: right;\n",
       "    }\n",
       "</style>\n",
       "<table border=\"1\" class=\"dataframe\">\n",
       "  <thead>\n",
       "    <tr style=\"text-align: right;\">\n",
       "      <th></th>\n",
       "      <th>Zip Code</th>\n",
       "      <th>ED Rates</th>\n",
       "      <th>ED 95% LCL</th>\n",
       "      <th>ED 95% UCL</th>\n",
       "    </tr>\n",
       "  </thead>\n",
       "  <tbody>\n",
       "    <tr>\n",
       "      <th>0</th>\n",
       "      <td>Any Opioid-Related Overdose : Age-Adjusted Rat...</td>\n",
       "      <td>NaN</td>\n",
       "      <td>NaN</td>\n",
       "      <td>NaN</td>\n",
       "    </tr>\n",
       "    <tr>\n",
       "      <th>1</th>\n",
       "      <td>Zip Code</td>\n",
       "      <td>Rates</td>\n",
       "      <td>95% LCL</td>\n",
       "      <td>95% UCL</td>\n",
       "    </tr>\n",
       "    <tr>\n",
       "      <th>2</th>\n",
       "      <td>94102</td>\n",
       "      <td>285.88</td>\n",
       "      <td>232.83</td>\n",
       "      <td>378.8</td>\n",
       "    </tr>\n",
       "    <tr>\n",
       "      <th>3</th>\n",
       "      <td>94103</td>\n",
       "      <td>285.97</td>\n",
       "      <td>228.76</td>\n",
       "      <td>372.35</td>\n",
       "    </tr>\n",
       "    <tr>\n",
       "      <th>4</th>\n",
       "      <td>94104</td>\n",
       "      <td>1525.1</td>\n",
       "      <td>341.92</td>\n",
       "      <td>6171.31</td>\n",
       "    </tr>\n",
       "  </tbody>\n",
       "</table>\n",
       "</div>"
      ],
      "text/plain": [
       "                                            Zip Code ED Rates ED 95% LCL  \\\n",
       "0  Any Opioid-Related Overdose : Age-Adjusted Rat...      NaN        NaN   \n",
       "1                                           Zip Code    Rates    95% LCL   \n",
       "2                                              94102   285.88     232.83   \n",
       "3                                              94103   285.97     228.76   \n",
       "4                                              94104   1525.1     341.92   \n",
       "\n",
       "  ED 95% UCL  \n",
       "0        NaN  \n",
       "1    95% UCL  \n",
       "2      378.8  \n",
       "3     372.35  \n",
       "4    6171.31  "
      ]
     },
     "execution_count": 6,
     "metadata": {},
     "output_type": "execute_result"
    }
   ],
   "source": [
    "# 5!! CA Opioid data\n",
    "\n",
    "#Import the opioid ED Visit 2018 data\n",
    "\n",
    "oped18_data = pd.read_csv(\"https://www.dropbox.com/s/1a8v10nnam0788j/EdVisit_SanFrancisco_AnyOpioid_2018.csv?dl=1\")\n",
    "\n",
    "oped18_data.rename(columns = {'San Francisco ED Visits - 2018' : 'Zip Code',\n",
    "                            'Unnamed: 1': 'ED Rates', \n",
    "                             'Unnamed: 2': 'ED 95% LCL', \n",
    "                             'Unnamed: 3' : 'ED 95% UCL'}, inplace=True)\n",
    "\n",
    "#preview the data\n",
    "oped18_data.head()"
   ]
  },
  {
   "cell_type": "code",
   "execution_count": 7,
   "metadata": {},
   "outputs": [],
   "source": [
    "#drop rows 0 and 1, which are metadata \n",
    "oped18cln = oped18_data.drop(oped18_data.index[[0,1,29,30,31,32]])"
   ]
  },
  {
   "cell_type": "code",
   "execution_count": 8,
   "metadata": {},
   "outputs": [
    {
     "data": {
      "text/html": [
       "<div>\n",
       "<style scoped>\n",
       "    .dataframe tbody tr th:only-of-type {\n",
       "        vertical-align: middle;\n",
       "    }\n",
       "\n",
       "    .dataframe tbody tr th {\n",
       "        vertical-align: top;\n",
       "    }\n",
       "\n",
       "    .dataframe thead th {\n",
       "        text-align: right;\n",
       "    }\n",
       "</style>\n",
       "<table border=\"1\" class=\"dataframe\">\n",
       "  <thead>\n",
       "    <tr style=\"text-align: right;\">\n",
       "      <th></th>\n",
       "      <th>Zip Code</th>\n",
       "      <th>ED Rates</th>\n",
       "      <th>ED 95% LCL</th>\n",
       "      <th>ED 95% UCL</th>\n",
       "    </tr>\n",
       "  </thead>\n",
       "  <tbody>\n",
       "    <tr>\n",
       "      <th>count</th>\n",
       "      <td>27</td>\n",
       "      <td>27</td>\n",
       "      <td>27</td>\n",
       "      <td>27</td>\n",
       "    </tr>\n",
       "    <tr>\n",
       "      <th>unique</th>\n",
       "      <td>27</td>\n",
       "      <td>27</td>\n",
       "      <td>27</td>\n",
       "      <td>27</td>\n",
       "    </tr>\n",
       "    <tr>\n",
       "      <th>top</th>\n",
       "      <td>94158</td>\n",
       "      <td>71.07</td>\n",
       "      <td>2.74</td>\n",
       "      <td>949.32</td>\n",
       "    </tr>\n",
       "    <tr>\n",
       "      <th>freq</th>\n",
       "      <td>1</td>\n",
       "      <td>1</td>\n",
       "      <td>1</td>\n",
       "      <td>1</td>\n",
       "    </tr>\n",
       "  </tbody>\n",
       "</table>\n",
       "</div>"
      ],
      "text/plain": [
       "       Zip Code ED Rates ED 95% LCL ED 95% UCL\n",
       "count        27       27         27         27\n",
       "unique       27       27         27         27\n",
       "top       94158    71.07       2.74     949.32\n",
       "freq          1        1          1          1"
      ]
     },
     "execution_count": 8,
     "metadata": {},
     "output_type": "execute_result"
    }
   ],
   "source": [
    "oped18cln.describe()"
   ]
  },
  {
   "cell_type": "code",
   "execution_count": 9,
   "metadata": {
    "scrolled": true
   },
   "outputs": [
    {
     "data": {
      "text/html": [
       "<div>\n",
       "<style scoped>\n",
       "    .dataframe tbody tr th:only-of-type {\n",
       "        vertical-align: middle;\n",
       "    }\n",
       "\n",
       "    .dataframe tbody tr th {\n",
       "        vertical-align: top;\n",
       "    }\n",
       "\n",
       "    .dataframe thead th {\n",
       "        text-align: right;\n",
       "    }\n",
       "</style>\n",
       "<table border=\"1\" class=\"dataframe\">\n",
       "  <thead>\n",
       "    <tr style=\"text-align: right;\">\n",
       "      <th></th>\n",
       "      <th>Zip Code</th>\n",
       "      <th>Hosp Rates</th>\n",
       "      <th>Hosp 95% LCL</th>\n",
       "      <th>Hosp 95% UCL</th>\n",
       "    </tr>\n",
       "  </thead>\n",
       "  <tbody>\n",
       "    <tr>\n",
       "      <th>0</th>\n",
       "      <td>Any Opioid-Related Overdose  : Age-Adjusted Ra...</td>\n",
       "      <td>NaN</td>\n",
       "      <td>NaN</td>\n",
       "      <td>NaN</td>\n",
       "    </tr>\n",
       "    <tr>\n",
       "      <th>1</th>\n",
       "      <td>Zip Code</td>\n",
       "      <td>Rates</td>\n",
       "      <td>95% LCL</td>\n",
       "      <td>95% UCL</td>\n",
       "    </tr>\n",
       "    <tr>\n",
       "      <th>2</th>\n",
       "      <td>94102</td>\n",
       "      <td>21.66</td>\n",
       "      <td>10.6</td>\n",
       "      <td>93.68</td>\n",
       "    </tr>\n",
       "    <tr>\n",
       "      <th>3</th>\n",
       "      <td>94103</td>\n",
       "      <td>33.7</td>\n",
       "      <td>17.3</td>\n",
       "      <td>90.52</td>\n",
       "    </tr>\n",
       "    <tr>\n",
       "      <th>4</th>\n",
       "      <td>94104</td>\n",
       "      <td>0</td>\n",
       "      <td>0</td>\n",
       "      <td>0</td>\n",
       "    </tr>\n",
       "  </tbody>\n",
       "</table>\n",
       "</div>"
      ],
      "text/plain": [
       "                                            Zip Code Hosp Rates Hosp 95% LCL  \\\n",
       "0  Any Opioid-Related Overdose  : Age-Adjusted Ra...        NaN          NaN   \n",
       "1                                           Zip Code      Rates      95% LCL   \n",
       "2                                              94102      21.66         10.6   \n",
       "3                                              94103       33.7         17.3   \n",
       "4                                              94104          0            0   \n",
       "\n",
       "  Hosp 95% UCL  \n",
       "0          NaN  \n",
       "1      95% UCL  \n",
       "2        93.68  \n",
       "3        90.52  \n",
       "4            0  "
      ]
     },
     "execution_count": 9,
     "metadata": {},
     "output_type": "execute_result"
    }
   ],
   "source": [
    "# 6!!\n",
    "\n",
    "#Import the opioid Hospitilization 2018 data\n",
    "\n",
    "Ophosp18_data = pd.read_csv(\"https://www.dropbox.com/s/0rcfdjy3lg40gqq/Hospit_SanFrancisco_AnyOpioid_2018.csv?dl=1\")\n",
    "Ophosp18_data.rename(columns = {'San Francisco Hospitalizations - 2018': 'Zip Code',  \n",
    "                            'Unnamed: 1': 'Hosp Rates', \n",
    "                             'Unnamed: 2': 'Hosp 95% LCL', \n",
    "                             'Unnamed: 3' : 'Hosp 95% UCL'}, inplace=True)\n",
    "\n",
    "#preview the data\n",
    "Ophosp18_data.head()"
   ]
  },
  {
   "cell_type": "code",
   "execution_count": 10,
   "metadata": {},
   "outputs": [],
   "source": [
    "ophosp18cln = Ophosp18_data.drop(Ophosp18_data.index[[0,1,29,30,31,32]])"
   ]
  },
  {
   "cell_type": "code",
   "execution_count": 11,
   "metadata": {},
   "outputs": [
    {
     "data": {
      "text/html": [
       "<div>\n",
       "<style scoped>\n",
       "    .dataframe tbody tr th:only-of-type {\n",
       "        vertical-align: middle;\n",
       "    }\n",
       "\n",
       "    .dataframe tbody tr th {\n",
       "        vertical-align: top;\n",
       "    }\n",
       "\n",
       "    .dataframe thead th {\n",
       "        text-align: right;\n",
       "    }\n",
       "</style>\n",
       "<table border=\"1\" class=\"dataframe\">\n",
       "  <thead>\n",
       "    <tr style=\"text-align: right;\">\n",
       "      <th></th>\n",
       "      <th>Zip Code</th>\n",
       "      <th>Hosp Rates</th>\n",
       "      <th>Hosp 95% LCL</th>\n",
       "      <th>Hosp 95% UCL</th>\n",
       "    </tr>\n",
       "  </thead>\n",
       "  <tbody>\n",
       "    <tr>\n",
       "      <th>count</th>\n",
       "      <td>27</td>\n",
       "      <td>27</td>\n",
       "      <td>27</td>\n",
       "      <td>27</td>\n",
       "    </tr>\n",
       "    <tr>\n",
       "      <th>unique</th>\n",
       "      <td>27</td>\n",
       "      <td>22</td>\n",
       "      <td>21</td>\n",
       "      <td>27</td>\n",
       "    </tr>\n",
       "    <tr>\n",
       "      <th>top</th>\n",
       "      <td>94158</td>\n",
       "      <td>0</td>\n",
       "      <td>0</td>\n",
       "      <td>30.24</td>\n",
       "    </tr>\n",
       "    <tr>\n",
       "      <th>freq</th>\n",
       "      <td>1</td>\n",
       "      <td>6</td>\n",
       "      <td>6</td>\n",
       "      <td>1</td>\n",
       "    </tr>\n",
       "  </tbody>\n",
       "</table>\n",
       "</div>"
      ],
      "text/plain": [
       "       Zip Code Hosp Rates Hosp 95% LCL Hosp 95% UCL\n",
       "count        27         27           27           27\n",
       "unique       27         22           21           27\n",
       "top       94158          0            0        30.24\n",
       "freq          1          6            6            1"
      ]
     },
     "execution_count": 11,
     "metadata": {},
     "output_type": "execute_result"
    }
   ],
   "source": [
    "ophosp18cln.describe()"
   ]
  },
  {
   "cell_type": "code",
   "execution_count": 12,
   "metadata": {},
   "outputs": [
    {
     "data": {
      "text/html": [
       "<div>\n",
       "<style scoped>\n",
       "    .dataframe tbody tr th:only-of-type {\n",
       "        vertical-align: middle;\n",
       "    }\n",
       "\n",
       "    .dataframe tbody tr th {\n",
       "        vertical-align: top;\n",
       "    }\n",
       "\n",
       "    .dataframe thead th {\n",
       "        text-align: right;\n",
       "    }\n",
       "</style>\n",
       "<table border=\"1\" class=\"dataframe\">\n",
       "  <thead>\n",
       "    <tr style=\"text-align: right;\">\n",
       "      <th></th>\n",
       "      <th>Zip Code</th>\n",
       "      <th>Pres Rates</th>\n",
       "      <th>Pres 95% LCL</th>\n",
       "      <th>Pres 95% UCL</th>\n",
       "    </tr>\n",
       "  </thead>\n",
       "  <tbody>\n",
       "    <tr>\n",
       "      <th>0</th>\n",
       "      <td>Opioid Prescriptions by Patient Location : Age...</td>\n",
       "      <td>NaN</td>\n",
       "      <td>NaN</td>\n",
       "      <td>NaN</td>\n",
       "    </tr>\n",
       "    <tr>\n",
       "      <th>1</th>\n",
       "      <td>Zip Code</td>\n",
       "      <td>Rates</td>\n",
       "      <td>95% LCL</td>\n",
       "      <td>95% UCL</td>\n",
       "    </tr>\n",
       "    <tr>\n",
       "      <th>2</th>\n",
       "      <td>94102</td>\n",
       "      <td>412.38</td>\n",
       "      <td>405.7</td>\n",
       "      <td>419.32</td>\n",
       "    </tr>\n",
       "    <tr>\n",
       "      <th>3</th>\n",
       "      <td>94103</td>\n",
       "      <td>392.68</td>\n",
       "      <td>385.52</td>\n",
       "      <td>400.06</td>\n",
       "    </tr>\n",
       "    <tr>\n",
       "      <th>4</th>\n",
       "      <td>94104</td>\n",
       "      <td>1390.63</td>\n",
       "      <td>1239.6</td>\n",
       "      <td>1563.63</td>\n",
       "    </tr>\n",
       "  </tbody>\n",
       "</table>\n",
       "</div>"
      ],
      "text/plain": [
       "                                            Zip Code Pres Rates Pres 95% LCL  \\\n",
       "0  Opioid Prescriptions by Patient Location : Age...        NaN          NaN   \n",
       "1                                           Zip Code      Rates      95% LCL   \n",
       "2                                              94102     412.38        405.7   \n",
       "3                                              94103     392.68       385.52   \n",
       "4                                              94104    1390.63       1239.6   \n",
       "\n",
       "  Pres 95% UCL  \n",
       "0          NaN  \n",
       "1      95% UCL  \n",
       "2       419.32  \n",
       "3       400.06  \n",
       "4      1563.63  "
      ]
     },
     "execution_count": 12,
     "metadata": {},
     "output_type": "execute_result"
    }
   ],
   "source": [
    "# 7!!\n",
    "\n",
    "#Import the opioid prescription 2018 data\n",
    "oppres18_data = pd.read_csv('https://www.dropbox.com/s/jse6c8p047p0gh8/Prescrip_SanFrancisco_AnyOpioid_2018.csv?dl=1')\n",
    "\n",
    "oppres18_data.rename(columns = {'San Francisco Prescriptions - 2018' : 'Zip Code',\n",
    "                            'Unnamed: 1': 'Pres Rates', \n",
    "                             'Unnamed: 2': 'Pres 95% LCL', \n",
    "                             'Unnamed: 3' : 'Pres 95% UCL'}, inplace=True)\n",
    "\n",
    "#preview the data\n",
    "oppres18_data.head()"
   ]
  },
  {
   "cell_type": "code",
   "execution_count": 13,
   "metadata": {},
   "outputs": [],
   "source": [
    "oppres18cln = oppres18_data.drop(oppres18_data.index[[0,1,29,30,31,32]])"
   ]
  },
  {
   "cell_type": "code",
   "execution_count": 14,
   "metadata": {
    "scrolled": true
   },
   "outputs": [
    {
     "data": {
      "text/html": [
       "<div>\n",
       "<style scoped>\n",
       "    .dataframe tbody tr th:only-of-type {\n",
       "        vertical-align: middle;\n",
       "    }\n",
       "\n",
       "    .dataframe tbody tr th {\n",
       "        vertical-align: top;\n",
       "    }\n",
       "\n",
       "    .dataframe thead th {\n",
       "        text-align: right;\n",
       "    }\n",
       "</style>\n",
       "<table border=\"1\" class=\"dataframe\">\n",
       "  <thead>\n",
       "    <tr style=\"text-align: right;\">\n",
       "      <th></th>\n",
       "      <th>Zip Code</th>\n",
       "      <th>Pres Rates</th>\n",
       "      <th>Pres 95% LCL</th>\n",
       "      <th>Pres 95% UCL</th>\n",
       "    </tr>\n",
       "  </thead>\n",
       "  <tbody>\n",
       "    <tr>\n",
       "      <th>count</th>\n",
       "      <td>27</td>\n",
       "      <td>27</td>\n",
       "      <td>27</td>\n",
       "      <td>27</td>\n",
       "    </tr>\n",
       "    <tr>\n",
       "      <th>unique</th>\n",
       "      <td>27</td>\n",
       "      <td>27</td>\n",
       "      <td>27</td>\n",
       "      <td>27</td>\n",
       "    </tr>\n",
       "    <tr>\n",
       "      <th>top</th>\n",
       "      <td>94158</td>\n",
       "      <td>196.56</td>\n",
       "      <td>199.1</td>\n",
       "      <td>311.24</td>\n",
       "    </tr>\n",
       "    <tr>\n",
       "      <th>freq</th>\n",
       "      <td>1</td>\n",
       "      <td>1</td>\n",
       "      <td>1</td>\n",
       "      <td>1</td>\n",
       "    </tr>\n",
       "  </tbody>\n",
       "</table>\n",
       "</div>"
      ],
      "text/plain": [
       "       Zip Code Pres Rates Pres 95% LCL Pres 95% UCL\n",
       "count        27         27           27           27\n",
       "unique       27         27           27           27\n",
       "top       94158     196.56        199.1       311.24\n",
       "freq          1          1            1            1"
      ]
     },
     "execution_count": 14,
     "metadata": {},
     "output_type": "execute_result"
    }
   ],
   "source": [
    "oppres18cln.describe()"
   ]
  },
  {
   "cell_type": "code",
   "execution_count": 15,
   "metadata": {},
   "outputs": [
    {
     "data": {
      "text/html": [
       "<div>\n",
       "<style scoped>\n",
       "    .dataframe tbody tr th:only-of-type {\n",
       "        vertical-align: middle;\n",
       "    }\n",
       "\n",
       "    .dataframe tbody tr th {\n",
       "        vertical-align: top;\n",
       "    }\n",
       "\n",
       "    .dataframe thead th {\n",
       "        text-align: right;\n",
       "    }\n",
       "</style>\n",
       "<table border=\"1\" class=\"dataframe\">\n",
       "  <thead>\n",
       "    <tr style=\"text-align: right;\">\n",
       "      <th></th>\n",
       "      <th>Zip Code</th>\n",
       "      <th>Death Rates</th>\n",
       "      <th>Death 95% LCL</th>\n",
       "      <th>Death 95% UCL</th>\n",
       "      <th>ED Rates</th>\n",
       "      <th>ED 95% LCL</th>\n",
       "      <th>ED 95% UCL</th>\n",
       "    </tr>\n",
       "  </thead>\n",
       "  <tbody>\n",
       "    <tr>\n",
       "      <th>0</th>\n",
       "      <td>94102</td>\n",
       "      <td>94.85</td>\n",
       "      <td>65.07</td>\n",
       "      <td>172.54</td>\n",
       "      <td>285.88</td>\n",
       "      <td>232.83</td>\n",
       "      <td>378.8</td>\n",
       "    </tr>\n",
       "    <tr>\n",
       "      <th>1</th>\n",
       "      <td>94103</td>\n",
       "      <td>60.02</td>\n",
       "      <td>36.27</td>\n",
       "      <td>120.56</td>\n",
       "      <td>285.97</td>\n",
       "      <td>228.76</td>\n",
       "      <td>372.35</td>\n",
       "    </tr>\n",
       "    <tr>\n",
       "      <th>2</th>\n",
       "      <td>94104</td>\n",
       "      <td>156.97</td>\n",
       "      <td>3.97</td>\n",
       "      <td>4430.61</td>\n",
       "      <td>1525.1</td>\n",
       "      <td>341.92</td>\n",
       "      <td>6171.31</td>\n",
       "    </tr>\n",
       "    <tr>\n",
       "      <th>3</th>\n",
       "      <td>94105</td>\n",
       "      <td>10.92</td>\n",
       "      <td>0.28</td>\n",
       "      <td>588.25</td>\n",
       "      <td>243.68</td>\n",
       "      <td>35.71</td>\n",
       "      <td>949.32</td>\n",
       "    </tr>\n",
       "    <tr>\n",
       "      <th>4</th>\n",
       "      <td>94107</td>\n",
       "      <td>7.02</td>\n",
       "      <td>0.85</td>\n",
       "      <td>51.69</td>\n",
       "      <td>40.11</td>\n",
       "      <td>21.52</td>\n",
       "      <td>88.61</td>\n",
       "    </tr>\n",
       "  </tbody>\n",
       "</table>\n",
       "</div>"
      ],
      "text/plain": [
       "  Zip Code Death Rates Death 95% LCL Death 95% UCL ED Rates ED 95% LCL  \\\n",
       "0    94102       94.85         65.07        172.54   285.88     232.83   \n",
       "1    94103       60.02         36.27        120.56   285.97     228.76   \n",
       "2    94104      156.97          3.97       4430.61   1525.1     341.92   \n",
       "3    94105       10.92          0.28        588.25   243.68      35.71   \n",
       "4    94107        7.02          0.85         51.69    40.11      21.52   \n",
       "\n",
       "  ED 95% UCL  \n",
       "0      378.8  \n",
       "1     372.35  \n",
       "2    6171.31  \n",
       "3     949.32  \n",
       "4      88.61  "
      ]
     },
     "execution_count": 15,
     "metadata": {},
     "output_type": "execute_result"
    }
   ],
   "source": [
    "result = pd.merge(opdeath18cln,\n",
    "                 oped18cln,\n",
    "                 # ophosp18cln,\n",
    "                 # oppres18cln,\n",
    "                 on='Zip Code')\n",
    "result.head()"
   ]
  },
  {
   "cell_type": "code",
   "execution_count": 16,
   "metadata": {},
   "outputs": [
    {
     "data": {
      "text/html": [
       "<div>\n",
       "<style scoped>\n",
       "    .dataframe tbody tr th:only-of-type {\n",
       "        vertical-align: middle;\n",
       "    }\n",
       "\n",
       "    .dataframe tbody tr th {\n",
       "        vertical-align: top;\n",
       "    }\n",
       "\n",
       "    .dataframe thead th {\n",
       "        text-align: right;\n",
       "    }\n",
       "</style>\n",
       "<table border=\"1\" class=\"dataframe\">\n",
       "  <thead>\n",
       "    <tr style=\"text-align: right;\">\n",
       "      <th></th>\n",
       "      <th>Zip Code</th>\n",
       "      <th>Hosp Rates</th>\n",
       "      <th>Hosp 95% LCL</th>\n",
       "      <th>Hosp 95% UCL</th>\n",
       "      <th>Pres Rates</th>\n",
       "      <th>Pres 95% LCL</th>\n",
       "      <th>Pres 95% UCL</th>\n",
       "    </tr>\n",
       "  </thead>\n",
       "  <tbody>\n",
       "    <tr>\n",
       "      <th>0</th>\n",
       "      <td>94102</td>\n",
       "      <td>21.66</td>\n",
       "      <td>10.6</td>\n",
       "      <td>93.68</td>\n",
       "      <td>412.38</td>\n",
       "      <td>405.7</td>\n",
       "      <td>419.32</td>\n",
       "    </tr>\n",
       "    <tr>\n",
       "      <th>1</th>\n",
       "      <td>94103</td>\n",
       "      <td>33.7</td>\n",
       "      <td>17.3</td>\n",
       "      <td>90.52</td>\n",
       "      <td>392.68</td>\n",
       "      <td>385.52</td>\n",
       "      <td>400.06</td>\n",
       "    </tr>\n",
       "    <tr>\n",
       "      <th>2</th>\n",
       "      <td>94104</td>\n",
       "      <td>0</td>\n",
       "      <td>0</td>\n",
       "      <td>0</td>\n",
       "      <td>1390.63</td>\n",
       "      <td>1239.6</td>\n",
       "      <td>1563.63</td>\n",
       "    </tr>\n",
       "    <tr>\n",
       "      <th>3</th>\n",
       "      <td>94105</td>\n",
       "      <td>0</td>\n",
       "      <td>0</td>\n",
       "      <td>581.23</td>\n",
       "      <td>368.31</td>\n",
       "      <td>350.04</td>\n",
       "      <td>388.88</td>\n",
       "    </tr>\n",
       "    <tr>\n",
       "      <th>4</th>\n",
       "      <td>94107</td>\n",
       "      <td>1.41</td>\n",
       "      <td>0.04</td>\n",
       "      <td>45.37</td>\n",
       "      <td>268.74</td>\n",
       "      <td>262.5</td>\n",
       "      <td>275.19</td>\n",
       "    </tr>\n",
       "  </tbody>\n",
       "</table>\n",
       "</div>"
      ],
      "text/plain": [
       "  Zip Code Hosp Rates Hosp 95% LCL Hosp 95% UCL Pres Rates Pres 95% LCL  \\\n",
       "0    94102      21.66         10.6        93.68     412.38        405.7   \n",
       "1    94103       33.7         17.3        90.52     392.68       385.52   \n",
       "2    94104          0            0            0    1390.63       1239.6   \n",
       "3    94105          0            0       581.23     368.31       350.04   \n",
       "4    94107       1.41         0.04        45.37     268.74        262.5   \n",
       "\n",
       "  Pres 95% UCL  \n",
       "0       419.32  \n",
       "1       400.06  \n",
       "2      1563.63  \n",
       "3       388.88  \n",
       "4       275.19  "
      ]
     },
     "execution_count": 16,
     "metadata": {},
     "output_type": "execute_result"
    }
   ],
   "source": [
    "result2 = pd.merge(ophosp18cln,\n",
    "                 oppres18cln,\n",
    "                  on='Zip Code')\n",
    "result2.head()"
   ]
  },
  {
   "cell_type": "code",
   "execution_count": 17,
   "metadata": {},
   "outputs": [
    {
     "data": {
      "text/html": [
       "<div>\n",
       "<style scoped>\n",
       "    .dataframe tbody tr th:only-of-type {\n",
       "        vertical-align: middle;\n",
       "    }\n",
       "\n",
       "    .dataframe tbody tr th {\n",
       "        vertical-align: top;\n",
       "    }\n",
       "\n",
       "    .dataframe thead th {\n",
       "        text-align: right;\n",
       "    }\n",
       "</style>\n",
       "<table border=\"1\" class=\"dataframe\">\n",
       "  <thead>\n",
       "    <tr style=\"text-align: right;\">\n",
       "      <th></th>\n",
       "      <th>Zip Code</th>\n",
       "      <th>Death Rates</th>\n",
       "      <th>Death 95% LCL</th>\n",
       "      <th>Death 95% UCL</th>\n",
       "      <th>ED Rates</th>\n",
       "      <th>ED 95% LCL</th>\n",
       "      <th>ED 95% UCL</th>\n",
       "      <th>Hosp Rates</th>\n",
       "      <th>Hosp 95% LCL</th>\n",
       "      <th>Hosp 95% UCL</th>\n",
       "      <th>Pres Rates</th>\n",
       "      <th>Pres 95% LCL</th>\n",
       "      <th>Pres 95% UCL</th>\n",
       "    </tr>\n",
       "  </thead>\n",
       "  <tbody>\n",
       "    <tr>\n",
       "      <th>0</th>\n",
       "      <td>94102</td>\n",
       "      <td>94.85</td>\n",
       "      <td>65.07</td>\n",
       "      <td>172.54</td>\n",
       "      <td>285.88</td>\n",
       "      <td>232.83</td>\n",
       "      <td>378.8</td>\n",
       "      <td>21.66</td>\n",
       "      <td>10.6</td>\n",
       "      <td>93.68</td>\n",
       "      <td>412.38</td>\n",
       "      <td>405.7</td>\n",
       "      <td>419.32</td>\n",
       "    </tr>\n",
       "    <tr>\n",
       "      <th>1</th>\n",
       "      <td>94103</td>\n",
       "      <td>60.02</td>\n",
       "      <td>36.27</td>\n",
       "      <td>120.56</td>\n",
       "      <td>285.97</td>\n",
       "      <td>228.76</td>\n",
       "      <td>372.35</td>\n",
       "      <td>33.7</td>\n",
       "      <td>17.3</td>\n",
       "      <td>90.52</td>\n",
       "      <td>392.68</td>\n",
       "      <td>385.52</td>\n",
       "      <td>400.06</td>\n",
       "    </tr>\n",
       "    <tr>\n",
       "      <th>2</th>\n",
       "      <td>94104</td>\n",
       "      <td>156.97</td>\n",
       "      <td>3.97</td>\n",
       "      <td>4430.61</td>\n",
       "      <td>1525.1</td>\n",
       "      <td>341.92</td>\n",
       "      <td>6171.31</td>\n",
       "      <td>0</td>\n",
       "      <td>0</td>\n",
       "      <td>0</td>\n",
       "      <td>1390.63</td>\n",
       "      <td>1239.6</td>\n",
       "      <td>1563.63</td>\n",
       "    </tr>\n",
       "    <tr>\n",
       "      <th>3</th>\n",
       "      <td>94105</td>\n",
       "      <td>10.92</td>\n",
       "      <td>0.28</td>\n",
       "      <td>588.25</td>\n",
       "      <td>243.68</td>\n",
       "      <td>35.71</td>\n",
       "      <td>949.32</td>\n",
       "      <td>0</td>\n",
       "      <td>0</td>\n",
       "      <td>581.23</td>\n",
       "      <td>368.31</td>\n",
       "      <td>350.04</td>\n",
       "      <td>388.88</td>\n",
       "    </tr>\n",
       "    <tr>\n",
       "      <th>4</th>\n",
       "      <td>94107</td>\n",
       "      <td>7.02</td>\n",
       "      <td>0.85</td>\n",
       "      <td>51.69</td>\n",
       "      <td>40.11</td>\n",
       "      <td>21.52</td>\n",
       "      <td>88.61</td>\n",
       "      <td>1.41</td>\n",
       "      <td>0.04</td>\n",
       "      <td>45.37</td>\n",
       "      <td>268.74</td>\n",
       "      <td>262.5</td>\n",
       "      <td>275.19</td>\n",
       "    </tr>\n",
       "  </tbody>\n",
       "</table>\n",
       "</div>"
      ],
      "text/plain": [
       "  Zip Code Death Rates Death 95% LCL Death 95% UCL ED Rates ED 95% LCL  \\\n",
       "0    94102       94.85         65.07        172.54   285.88     232.83   \n",
       "1    94103       60.02         36.27        120.56   285.97     228.76   \n",
       "2    94104      156.97          3.97       4430.61   1525.1     341.92   \n",
       "3    94105       10.92          0.28        588.25   243.68      35.71   \n",
       "4    94107        7.02          0.85         51.69    40.11      21.52   \n",
       "\n",
       "  ED 95% UCL Hosp Rates Hosp 95% LCL Hosp 95% UCL Pres Rates Pres 95% LCL  \\\n",
       "0      378.8      21.66         10.6        93.68     412.38        405.7   \n",
       "1     372.35       33.7         17.3        90.52     392.68       385.52   \n",
       "2    6171.31          0            0            0    1390.63       1239.6   \n",
       "3     949.32          0            0       581.23     368.31       350.04   \n",
       "4      88.61       1.41         0.04        45.37     268.74        262.5   \n",
       "\n",
       "  Pres 95% UCL  \n",
       "0       419.32  \n",
       "1       400.06  \n",
       "2      1563.63  \n",
       "3       388.88  \n",
       "4       275.19  "
      ]
     },
     "execution_count": 17,
     "metadata": {},
     "output_type": "execute_result"
    }
   ],
   "source": [
    "resultx = pd.merge(result, \n",
    "                 result2,\n",
    "                 on='Zip Code')\n",
    "resultx.head()"
   ]
  },
  {
   "cell_type": "code",
   "execution_count": 23,
   "metadata": {},
   "outputs": [
    {
     "data": {
      "text/plain": [
       "Index(['Zip Code', 'Death Rates', 'Death 95% LCL', 'Death 95% UCL', 'ED Rates',\n",
       "       'ED 95% LCL', 'ED 95% UCL', 'Hosp Rates', 'Hosp 95% LCL',\n",
       "       'Hosp 95% UCL', 'Pres Rates', 'Pres 95% LCL', 'Pres 95% UCL'],\n",
       "      dtype='object')"
      ]
     },
     "execution_count": 23,
     "metadata": {},
     "output_type": "execute_result"
    }
   ],
   "source": [
    "resultx.columns"
   ]
  },
  {
   "cell_type": "markdown",
   "metadata": {},
   "source": [
    "# Now to visualize\n"
   ]
  },
  {
   "cell_type": "code",
   "execution_count": 28,
   "metadata": {},
   "outputs": [],
   "source": [
    "analysis = resultx[['Zip Code', 'Death Rates', 'ED Rates', 'Hosp Rates', 'Pres Rates']].copy()"
   ]
  },
  {
   "cell_type": "code",
   "execution_count": 32,
   "metadata": {
    "scrolled": true
   },
   "outputs": [
    {
     "data": {
      "text/html": [
       "<div>\n",
       "<style scoped>\n",
       "    .dataframe tbody tr th:only-of-type {\n",
       "        vertical-align: middle;\n",
       "    }\n",
       "\n",
       "    .dataframe tbody tr th {\n",
       "        vertical-align: top;\n",
       "    }\n",
       "\n",
       "    .dataframe thead th {\n",
       "        text-align: right;\n",
       "    }\n",
       "</style>\n",
       "<table border=\"1\" class=\"dataframe\">\n",
       "  <thead>\n",
       "    <tr style=\"text-align: right;\">\n",
       "      <th></th>\n",
       "      <th>Zip Code</th>\n",
       "      <th>Death Rates</th>\n",
       "      <th>ED Rates</th>\n",
       "      <th>Hosp Rates</th>\n",
       "      <th>Pres Rates</th>\n",
       "    </tr>\n",
       "  </thead>\n",
       "  <tbody>\n",
       "    <tr>\n",
       "      <th>0</th>\n",
       "      <td>94102</td>\n",
       "      <td>94.85</td>\n",
       "      <td>285.88</td>\n",
       "      <td>21.66</td>\n",
       "      <td>412.38</td>\n",
       "    </tr>\n",
       "    <tr>\n",
       "      <th>1</th>\n",
       "      <td>94103</td>\n",
       "      <td>60.02</td>\n",
       "      <td>285.97</td>\n",
       "      <td>33.7</td>\n",
       "      <td>392.68</td>\n",
       "    </tr>\n",
       "    <tr>\n",
       "      <th>2</th>\n",
       "      <td>94104</td>\n",
       "      <td>156.97</td>\n",
       "      <td>1525.1</td>\n",
       "      <td>0</td>\n",
       "      <td>1390.63</td>\n",
       "    </tr>\n",
       "    <tr>\n",
       "      <th>3</th>\n",
       "      <td>94105</td>\n",
       "      <td>10.92</td>\n",
       "      <td>243.68</td>\n",
       "      <td>0</td>\n",
       "      <td>368.31</td>\n",
       "    </tr>\n",
       "    <tr>\n",
       "      <th>4</th>\n",
       "      <td>94107</td>\n",
       "      <td>7.02</td>\n",
       "      <td>40.11</td>\n",
       "      <td>1.41</td>\n",
       "      <td>268.74</td>\n",
       "    </tr>\n",
       "  </tbody>\n",
       "</table>\n",
       "</div>"
      ],
      "text/plain": [
       "  Zip Code Death Rates ED Rates Hosp Rates Pres Rates\n",
       "0    94102       94.85   285.88      21.66     412.38\n",
       "1    94103       60.02   285.97       33.7     392.68\n",
       "2    94104      156.97   1525.1          0    1390.63\n",
       "3    94105       10.92   243.68          0     368.31\n",
       "4    94107        7.02    40.11       1.41     268.74"
      ]
     },
     "execution_count": 32,
     "metadata": {},
     "output_type": "execute_result"
    }
   ],
   "source": [
    "analysis.head()"
   ]
  },
  {
   "cell_type": "code",
   "execution_count": 34,
   "metadata": {
    "scrolled": false
   },
   "outputs": [
    {
     "data": {
      "text/html": [
       "<div>\n",
       "<style scoped>\n",
       "    .dataframe tbody tr th:only-of-type {\n",
       "        vertical-align: middle;\n",
       "    }\n",
       "\n",
       "    .dataframe tbody tr th {\n",
       "        vertical-align: top;\n",
       "    }\n",
       "\n",
       "    .dataframe thead th {\n",
       "        text-align: right;\n",
       "    }\n",
       "</style>\n",
       "<table border=\"1\" class=\"dataframe\">\n",
       "  <thead>\n",
       "    <tr style=\"text-align: right;\">\n",
       "      <th></th>\n",
       "      <th>Zip Code</th>\n",
       "      <th>Death Rates</th>\n",
       "      <th>ED Rates</th>\n",
       "      <th>Hosp Rates</th>\n",
       "      <th>Pres Rates</th>\n",
       "    </tr>\n",
       "  </thead>\n",
       "  <tbody>\n",
       "    <tr>\n",
       "      <th>count</th>\n",
       "      <td>27</td>\n",
       "      <td>27</td>\n",
       "      <td>27</td>\n",
       "      <td>27</td>\n",
       "      <td>27</td>\n",
       "    </tr>\n",
       "    <tr>\n",
       "      <th>unique</th>\n",
       "      <td>27</td>\n",
       "      <td>21</td>\n",
       "      <td>27</td>\n",
       "      <td>22</td>\n",
       "      <td>27</td>\n",
       "    </tr>\n",
       "    <tr>\n",
       "      <th>top</th>\n",
       "      <td>94158</td>\n",
       "      <td>0</td>\n",
       "      <td>71.07</td>\n",
       "      <td>0</td>\n",
       "      <td>196.56</td>\n",
       "    </tr>\n",
       "    <tr>\n",
       "      <th>freq</th>\n",
       "      <td>1</td>\n",
       "      <td>7</td>\n",
       "      <td>1</td>\n",
       "      <td>6</td>\n",
       "      <td>1</td>\n",
       "    </tr>\n",
       "  </tbody>\n",
       "</table>\n",
       "</div>"
      ],
      "text/plain": [
       "       Zip Code Death Rates ED Rates Hosp Rates Pres Rates\n",
       "count        27          27       27         27         27\n",
       "unique       27          21       27         22         27\n",
       "top       94158           0    71.07          0     196.56\n",
       "freq          1           7        1          6          1"
      ]
     },
     "execution_count": 34,
     "metadata": {},
     "output_type": "execute_result"
    }
   ],
   "source": [
    "analysis.describe()"
   ]
  },
  {
   "cell_type": "code",
   "execution_count": 35,
   "metadata": {},
   "outputs": [
    {
     "name": "stdout",
     "output_type": "stream",
     "text": [
      "<class 'pandas.core.frame.DataFrame'>\n",
      "Int64Index: 27 entries, 0 to 26\n",
      "Data columns (total 5 columns):\n",
      " #   Column       Non-Null Count  Dtype \n",
      "---  ------       --------------  ----- \n",
      " 0   Zip Code     27 non-null     object\n",
      " 1   Death Rates  27 non-null     object\n",
      " 2   ED Rates     27 non-null     object\n",
      " 3   Hosp Rates   27 non-null     object\n",
      " 4   Pres Rates   27 non-null     object\n",
      "dtypes: object(5)\n",
      "memory usage: 1.3+ KB\n"
     ]
    }
   ],
   "source": [
    "analysis.info()"
   ]
  },
  {
   "cell_type": "code",
   "execution_count": 39,
   "metadata": {},
   "outputs": [
    {
     "data": {
      "text/html": [
       "<div>\n",
       "<style scoped>\n",
       "    .dataframe tbody tr th:only-of-type {\n",
       "        vertical-align: middle;\n",
       "    }\n",
       "\n",
       "    .dataframe tbody tr th {\n",
       "        vertical-align: top;\n",
       "    }\n",
       "\n",
       "    .dataframe thead tr th {\n",
       "        text-align: left;\n",
       "    }\n",
       "\n",
       "    .dataframe thead tr:last-of-type th {\n",
       "        text-align: right;\n",
       "    }\n",
       "</style>\n",
       "<table border=\"1\" class=\"dataframe\">\n",
       "  <thead>\n",
       "    <tr>\n",
       "      <th></th>\n",
       "      <th colspan=\"4\" halign=\"left\">Death Rates</th>\n",
       "      <th colspan=\"4\" halign=\"left\">ED Rates</th>\n",
       "      <th colspan=\"4\" halign=\"left\">Hosp Rates</th>\n",
       "      <th colspan=\"4\" halign=\"left\">Pres Rates</th>\n",
       "    </tr>\n",
       "    <tr>\n",
       "      <th></th>\n",
       "      <th>count</th>\n",
       "      <th>unique</th>\n",
       "      <th>top</th>\n",
       "      <th>freq</th>\n",
       "      <th>count</th>\n",
       "      <th>unique</th>\n",
       "      <th>top</th>\n",
       "      <th>freq</th>\n",
       "      <th>count</th>\n",
       "      <th>unique</th>\n",
       "      <th>top</th>\n",
       "      <th>freq</th>\n",
       "      <th>count</th>\n",
       "      <th>unique</th>\n",
       "      <th>top</th>\n",
       "      <th>freq</th>\n",
       "    </tr>\n",
       "    <tr>\n",
       "      <th>Zip Code</th>\n",
       "      <th></th>\n",
       "      <th></th>\n",
       "      <th></th>\n",
       "      <th></th>\n",
       "      <th></th>\n",
       "      <th></th>\n",
       "      <th></th>\n",
       "      <th></th>\n",
       "      <th></th>\n",
       "      <th></th>\n",
       "      <th></th>\n",
       "      <th></th>\n",
       "      <th></th>\n",
       "      <th></th>\n",
       "      <th></th>\n",
       "      <th></th>\n",
       "    </tr>\n",
       "  </thead>\n",
       "  <tbody>\n",
       "    <tr>\n",
       "      <th>94102</th>\n",
       "      <td>1</td>\n",
       "      <td>1</td>\n",
       "      <td>94.85</td>\n",
       "      <td>1</td>\n",
       "      <td>1</td>\n",
       "      <td>1</td>\n",
       "      <td>285.88</td>\n",
       "      <td>1</td>\n",
       "      <td>1</td>\n",
       "      <td>1</td>\n",
       "      <td>21.66</td>\n",
       "      <td>1</td>\n",
       "      <td>1</td>\n",
       "      <td>1</td>\n",
       "      <td>412.38</td>\n",
       "      <td>1</td>\n",
       "    </tr>\n",
       "    <tr>\n",
       "      <th>94103</th>\n",
       "      <td>1</td>\n",
       "      <td>1</td>\n",
       "      <td>60.02</td>\n",
       "      <td>1</td>\n",
       "      <td>1</td>\n",
       "      <td>1</td>\n",
       "      <td>285.97</td>\n",
       "      <td>1</td>\n",
       "      <td>1</td>\n",
       "      <td>1</td>\n",
       "      <td>33.7</td>\n",
       "      <td>1</td>\n",
       "      <td>1</td>\n",
       "      <td>1</td>\n",
       "      <td>392.68</td>\n",
       "      <td>1</td>\n",
       "    </tr>\n",
       "    <tr>\n",
       "      <th>94104</th>\n",
       "      <td>1</td>\n",
       "      <td>1</td>\n",
       "      <td>156.97</td>\n",
       "      <td>1</td>\n",
       "      <td>1</td>\n",
       "      <td>1</td>\n",
       "      <td>1525.1</td>\n",
       "      <td>1</td>\n",
       "      <td>1</td>\n",
       "      <td>1</td>\n",
       "      <td>0</td>\n",
       "      <td>1</td>\n",
       "      <td>1</td>\n",
       "      <td>1</td>\n",
       "      <td>1390.63</td>\n",
       "      <td>1</td>\n",
       "    </tr>\n",
       "    <tr>\n",
       "      <th>94105</th>\n",
       "      <td>1</td>\n",
       "      <td>1</td>\n",
       "      <td>10.92</td>\n",
       "      <td>1</td>\n",
       "      <td>1</td>\n",
       "      <td>1</td>\n",
       "      <td>243.68</td>\n",
       "      <td>1</td>\n",
       "      <td>1</td>\n",
       "      <td>1</td>\n",
       "      <td>0</td>\n",
       "      <td>1</td>\n",
       "      <td>1</td>\n",
       "      <td>1</td>\n",
       "      <td>368.31</td>\n",
       "      <td>1</td>\n",
       "    </tr>\n",
       "    <tr>\n",
       "      <th>94107</th>\n",
       "      <td>1</td>\n",
       "      <td>1</td>\n",
       "      <td>7.02</td>\n",
       "      <td>1</td>\n",
       "      <td>1</td>\n",
       "      <td>1</td>\n",
       "      <td>40.11</td>\n",
       "      <td>1</td>\n",
       "      <td>1</td>\n",
       "      <td>1</td>\n",
       "      <td>1.41</td>\n",
       "      <td>1</td>\n",
       "      <td>1</td>\n",
       "      <td>1</td>\n",
       "      <td>268.74</td>\n",
       "      <td>1</td>\n",
       "    </tr>\n",
       "    <tr>\n",
       "      <th>94108</th>\n",
       "      <td>1</td>\n",
       "      <td>1</td>\n",
       "      <td>21.45</td>\n",
       "      <td>1</td>\n",
       "      <td>1</td>\n",
       "      <td>1</td>\n",
       "      <td>76.01</td>\n",
       "      <td>1</td>\n",
       "      <td>1</td>\n",
       "      <td>1</td>\n",
       "      <td>15.09</td>\n",
       "      <td>1</td>\n",
       "      <td>1</td>\n",
       "      <td>1</td>\n",
       "      <td>137.6</td>\n",
       "      <td>1</td>\n",
       "    </tr>\n",
       "    <tr>\n",
       "      <th>94109</th>\n",
       "      <td>1</td>\n",
       "      <td>1</td>\n",
       "      <td>20.81</td>\n",
       "      <td>1</td>\n",
       "      <td>1</td>\n",
       "      <td>1</td>\n",
       "      <td>113.8</td>\n",
       "      <td>1</td>\n",
       "      <td>1</td>\n",
       "      <td>1</td>\n",
       "      <td>17.43</td>\n",
       "      <td>1</td>\n",
       "      <td>1</td>\n",
       "      <td>1</td>\n",
       "      <td>297.57</td>\n",
       "      <td>1</td>\n",
       "    </tr>\n",
       "    <tr>\n",
       "      <th>94110</th>\n",
       "      <td>1</td>\n",
       "      <td>1</td>\n",
       "      <td>21.2</td>\n",
       "      <td>1</td>\n",
       "      <td>1</td>\n",
       "      <td>1</td>\n",
       "      <td>41.87</td>\n",
       "      <td>1</td>\n",
       "      <td>1</td>\n",
       "      <td>1</td>\n",
       "      <td>8.23</td>\n",
       "      <td>1</td>\n",
       "      <td>1</td>\n",
       "      <td>1</td>\n",
       "      <td>290.76</td>\n",
       "      <td>1</td>\n",
       "    </tr>\n",
       "    <tr>\n",
       "      <th>94111</th>\n",
       "      <td>1</td>\n",
       "      <td>1</td>\n",
       "      <td>0</td>\n",
       "      <td>1</td>\n",
       "      <td>1</td>\n",
       "      <td>1</td>\n",
       "      <td>455.9</td>\n",
       "      <td>1</td>\n",
       "      <td>1</td>\n",
       "      <td>1</td>\n",
       "      <td>0</td>\n",
       "      <td>1</td>\n",
       "      <td>1</td>\n",
       "      <td>1</td>\n",
       "      <td>287.25</td>\n",
       "      <td>1</td>\n",
       "    </tr>\n",
       "    <tr>\n",
       "      <th>94112</th>\n",
       "      <td>1</td>\n",
       "      <td>1</td>\n",
       "      <td>10.29</td>\n",
       "      <td>1</td>\n",
       "      <td>1</td>\n",
       "      <td>1</td>\n",
       "      <td>21.99</td>\n",
       "      <td>1</td>\n",
       "      <td>1</td>\n",
       "      <td>1</td>\n",
       "      <td>10.4</td>\n",
       "      <td>1</td>\n",
       "      <td>1</td>\n",
       "      <td>1</td>\n",
       "      <td>347.61</td>\n",
       "      <td>1</td>\n",
       "    </tr>\n",
       "  </tbody>\n",
       "</table>\n",
       "</div>"
      ],
      "text/plain": [
       "         Death Rates                     ED Rates                      \\\n",
       "               count unique     top freq    count unique     top freq   \n",
       "Zip Code                                                                \n",
       "94102              1      1   94.85    1        1      1  285.88    1   \n",
       "94103              1      1   60.02    1        1      1  285.97    1   \n",
       "94104              1      1  156.97    1        1      1  1525.1    1   \n",
       "94105              1      1   10.92    1        1      1  243.68    1   \n",
       "94107              1      1    7.02    1        1      1   40.11    1   \n",
       "94108              1      1   21.45    1        1      1   76.01    1   \n",
       "94109              1      1   20.81    1        1      1   113.8    1   \n",
       "94110              1      1    21.2    1        1      1   41.87    1   \n",
       "94111              1      1       0    1        1      1   455.9    1   \n",
       "94112              1      1   10.29    1        1      1   21.99    1   \n",
       "\n",
       "         Hosp Rates                    Pres Rates                       \n",
       "              count unique    top freq      count unique      top freq  \n",
       "Zip Code                                                                \n",
       "94102             1      1  21.66    1          1      1   412.38    1  \n",
       "94103             1      1   33.7    1          1      1   392.68    1  \n",
       "94104             1      1      0    1          1      1  1390.63    1  \n",
       "94105             1      1      0    1          1      1   368.31    1  \n",
       "94107             1      1   1.41    1          1      1   268.74    1  \n",
       "94108             1      1  15.09    1          1      1    137.6    1  \n",
       "94109             1      1  17.43    1          1      1   297.57    1  \n",
       "94110             1      1   8.23    1          1      1   290.76    1  \n",
       "94111             1      1      0    1          1      1   287.25    1  \n",
       "94112             1      1   10.4    1          1      1   347.61    1  "
      ]
     },
     "execution_count": 39,
     "metadata": {},
     "output_type": "execute_result"
    }
   ],
   "source": [
    "analysis.groupby('Zip Code').describe()[:10]"
   ]
  },
  {
   "cell_type": "code",
   "execution_count": 40,
   "metadata": {},
   "outputs": [],
   "source": [
    "import matplotlib.pyplot as plt\n",
    "%matplotlib inline\n",
    "import seaborn as sns"
   ]
  },
  {
   "cell_type": "code",
   "execution_count": null,
   "metadata": {},
   "outputs": [],
   "source": []
  },
  {
   "cell_type": "code",
   "execution_count": null,
   "metadata": {},
   "outputs": [],
   "source": []
  }
 ],
 "metadata": {
  "kernelspec": {
   "display_name": "Python 3",
   "language": "python",
   "name": "python3"
  },
  "language_info": {
   "codemirror_mode": {
    "name": "ipython",
    "version": 3
   },
   "file_extension": ".py",
   "mimetype": "text/x-python",
   "name": "python",
   "nbconvert_exporter": "python",
   "pygments_lexer": "ipython3",
   "version": "3.6.9"
  }
 },
 "nbformat": 4,
 "nbformat_minor": 4
}
